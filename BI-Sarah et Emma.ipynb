{
 "cells": [
  {
   "cell_type": "markdown",
   "id": "0805b940",
   "metadata": {},
   "source": [
    "# Livre blanc sur l'analyse des données et la BI\n",
    "## Sarah Bouchikh et Emma Gadea"
   ]
  },
  {
   "cell_type": "code",
   "execution_count": 1,
   "id": "e5af504d",
   "metadata": {},
   "outputs": [],
   "source": [
    "import pandas as pd\n",
    "import matplotlib.pyplot as plt \n",
    "import seaborn as sns\n",
    "%matplotlib inline\n",
    "\n",
    "\n",
    "bidata = pd.read_csv('HR_training.csv', encoding='unicode_escape', engine='python', delimiter=';')"
   ]
  },
  {
   "cell_type": "code",
   "execution_count": 2,
   "id": "33e66a90",
   "metadata": {},
   "outputs": [
    {
     "data": {
      "text/html": [
       "<div>\n",
       "<style scoped>\n",
       "    .dataframe tbody tr th:only-of-type {\n",
       "        vertical-align: middle;\n",
       "    }\n",
       "\n",
       "    .dataframe tbody tr th {\n",
       "        vertical-align: top;\n",
       "    }\n",
       "\n",
       "    .dataframe thead th {\n",
       "        text-align: right;\n",
       "    }\n",
       "</style>\n",
       "<table border=\"1\" class=\"dataframe\">\n",
       "  <thead>\n",
       "    <tr style=\"text-align: right;\">\n",
       "      <th></th>\n",
       "      <th>id_colab</th>\n",
       "      <th>satisfaction_level</th>\n",
       "      <th>last_evaluation</th>\n",
       "      <th>number_project</th>\n",
       "      <th>average_montly_hours</th>\n",
       "      <th>time_spend_company</th>\n",
       "      <th>work_accident</th>\n",
       "      <th>promotion_last_5years</th>\n",
       "      <th>job</th>\n",
       "      <th>salary</th>\n",
       "      <th>left</th>\n",
       "    </tr>\n",
       "  </thead>\n",
       "  <tbody>\n",
       "    <tr>\n",
       "      <th>0</th>\n",
       "      <td>4</td>\n",
       "      <td>0,72</td>\n",
       "      <td>0,87</td>\n",
       "      <td>5</td>\n",
       "      <td>223</td>\n",
       "      <td>5</td>\n",
       "      <td>0</td>\n",
       "      <td>0</td>\n",
       "      <td>sales</td>\n",
       "      <td>low</td>\n",
       "      <td>1</td>\n",
       "    </tr>\n",
       "    <tr>\n",
       "      <th>1</th>\n",
       "      <td>5</td>\n",
       "      <td>0,37</td>\n",
       "      <td>0,52</td>\n",
       "      <td>2</td>\n",
       "      <td>159</td>\n",
       "      <td>3</td>\n",
       "      <td>0</td>\n",
       "      <td>0</td>\n",
       "      <td>sales</td>\n",
       "      <td>low</td>\n",
       "      <td>1</td>\n",
       "    </tr>\n",
       "    <tr>\n",
       "      <th>2</th>\n",
       "      <td>7</td>\n",
       "      <td>0,1</td>\n",
       "      <td>0,77</td>\n",
       "      <td>6</td>\n",
       "      <td>247</td>\n",
       "      <td>4</td>\n",
       "      <td>0</td>\n",
       "      <td>0</td>\n",
       "      <td>sales</td>\n",
       "      <td>low</td>\n",
       "      <td>1</td>\n",
       "    </tr>\n",
       "    <tr>\n",
       "      <th>3</th>\n",
       "      <td>9</td>\n",
       "      <td>0,89</td>\n",
       "      <td>1</td>\n",
       "      <td>5</td>\n",
       "      <td>224</td>\n",
       "      <td>5</td>\n",
       "      <td>0</td>\n",
       "      <td>0</td>\n",
       "      <td>sales</td>\n",
       "      <td>low</td>\n",
       "      <td>1</td>\n",
       "    </tr>\n",
       "    <tr>\n",
       "      <th>4</th>\n",
       "      <td>10</td>\n",
       "      <td>0,42</td>\n",
       "      <td>0,53</td>\n",
       "      <td>2</td>\n",
       "      <td>142</td>\n",
       "      <td>3</td>\n",
       "      <td>0</td>\n",
       "      <td>0</td>\n",
       "      <td>sales</td>\n",
       "      <td>low</td>\n",
       "      <td>1</td>\n",
       "    </tr>\n",
       "    <tr>\n",
       "      <th>...</th>\n",
       "      <td>...</td>\n",
       "      <td>...</td>\n",
       "      <td>...</td>\n",
       "      <td>...</td>\n",
       "      <td>...</td>\n",
       "      <td>...</td>\n",
       "      <td>...</td>\n",
       "      <td>...</td>\n",
       "      <td>...</td>\n",
       "      <td>...</td>\n",
       "      <td>...</td>\n",
       "    </tr>\n",
       "    <tr>\n",
       "      <th>10046</th>\n",
       "      <td>14993</td>\n",
       "      <td>0,4</td>\n",
       "      <td>0,48</td>\n",
       "      <td>2</td>\n",
       "      <td>155</td>\n",
       "      <td>3</td>\n",
       "      <td>0</td>\n",
       "      <td>0</td>\n",
       "      <td>support</td>\n",
       "      <td>low</td>\n",
       "      <td>1</td>\n",
       "    </tr>\n",
       "    <tr>\n",
       "      <th>10047</th>\n",
       "      <td>14995</td>\n",
       "      <td>0,4</td>\n",
       "      <td>0,57</td>\n",
       "      <td>2</td>\n",
       "      <td>151</td>\n",
       "      <td>3</td>\n",
       "      <td>0</td>\n",
       "      <td>0</td>\n",
       "      <td>support</td>\n",
       "      <td>low</td>\n",
       "      <td>1</td>\n",
       "    </tr>\n",
       "    <tr>\n",
       "      <th>10048</th>\n",
       "      <td>14996</td>\n",
       "      <td>0,37</td>\n",
       "      <td>0,48</td>\n",
       "      <td>2</td>\n",
       "      <td>160</td>\n",
       "      <td>3</td>\n",
       "      <td>0</td>\n",
       "      <td>0</td>\n",
       "      <td>support</td>\n",
       "      <td>low</td>\n",
       "      <td>1</td>\n",
       "    </tr>\n",
       "    <tr>\n",
       "      <th>10049</th>\n",
       "      <td>14997</td>\n",
       "      <td>0,37</td>\n",
       "      <td>0,53</td>\n",
       "      <td>2</td>\n",
       "      <td>143</td>\n",
       "      <td>3</td>\n",
       "      <td>0</td>\n",
       "      <td>0</td>\n",
       "      <td>support</td>\n",
       "      <td>low</td>\n",
       "      <td>1</td>\n",
       "    </tr>\n",
       "    <tr>\n",
       "      <th>10050</th>\n",
       "      <td>14998</td>\n",
       "      <td>0,11</td>\n",
       "      <td>0,96</td>\n",
       "      <td>6</td>\n",
       "      <td>280</td>\n",
       "      <td>4</td>\n",
       "      <td>0</td>\n",
       "      <td>0</td>\n",
       "      <td>support</td>\n",
       "      <td>low</td>\n",
       "      <td>1</td>\n",
       "    </tr>\n",
       "  </tbody>\n",
       "</table>\n",
       "<p>10051 rows × 11 columns</p>\n",
       "</div>"
      ],
      "text/plain": [
       "       id_colab satisfaction_level last_evaluation  number_project  \\\n",
       "0             4               0,72            0,87               5   \n",
       "1             5               0,37            0,52               2   \n",
       "2             7                0,1            0,77               6   \n",
       "3             9               0,89               1               5   \n",
       "4            10               0,42            0,53               2   \n",
       "...         ...                ...             ...             ...   \n",
       "10046     14993                0,4            0,48               2   \n",
       "10047     14995                0,4            0,57               2   \n",
       "10048     14996               0,37            0,48               2   \n",
       "10049     14997               0,37            0,53               2   \n",
       "10050     14998               0,11            0,96               6   \n",
       "\n",
       "       average_montly_hours  time_spend_company  work_accident  \\\n",
       "0                       223                   5              0   \n",
       "1                       159                   3              0   \n",
       "2                       247                   4              0   \n",
       "3                       224                   5              0   \n",
       "4                       142                   3              0   \n",
       "...                     ...                 ...            ...   \n",
       "10046                   155                   3              0   \n",
       "10047                   151                   3              0   \n",
       "10048                   160                   3              0   \n",
       "10049                   143                   3              0   \n",
       "10050                   280                   4              0   \n",
       "\n",
       "       promotion_last_5years      job salary  left  \n",
       "0                          0    sales    low     1  \n",
       "1                          0    sales    low     1  \n",
       "2                          0    sales    low     1  \n",
       "3                          0    sales    low     1  \n",
       "4                          0    sales    low     1  \n",
       "...                      ...      ...    ...   ...  \n",
       "10046                      0  support    low     1  \n",
       "10047                      0  support    low     1  \n",
       "10048                      0  support    low     1  \n",
       "10049                      0  support    low     1  \n",
       "10050                      0  support    low     1  \n",
       "\n",
       "[10051 rows x 11 columns]"
      ]
     },
     "execution_count": 2,
     "metadata": {},
     "output_type": "execute_result"
    }
   ],
   "source": [
    "bidata"
   ]
  },
  {
   "cell_type": "markdown",
   "id": "5246fc68",
   "metadata": {},
   "source": [
    "### DEFINITION DES DONNEES DU FICHIER \n",
    "\n",
    "- Id : Numéro du collaborateur\n",
    "- Satisfaction level : Niveau de satisfaction des collaborateurs\n",
    "- Last evaluation : Niveau de satisfaction des collaborateurs lors de l’évaluation précédente\n",
    "- Number project : Nombre de projets portés par le collaborateur\n",
    "- Average monthly hours : Nombre d’heures mensuel moyen d’un collaborateur\n",
    "- Time spend company : Nombre d’années passées au sein de l’entreprise\n",
    "- Work accident : Information qui précise si le collaborateur a subi un accident du travail\n",
    "- Promotion last 5 years : Information qui précise si le collaborateur a été sujet à une promotion durant les 5 dernières années\n",
    "- Job : Secteur dans lequel travaille le collaborateur\n",
    "- Salary : Salaire du collaborateur (bas, moyen, haut)\n",
    "- Left : Si le collaborateur a finalement quitté l’entreprise ou non"
   ]
  },
  {
   "cell_type": "markdown",
   "id": "ec8e8398",
   "metadata": {},
   "source": [
    "# I- Chapitre 1 : Description des données\n",
    "## A-Typologie des données \n",
    "\n",
    "Il existe deux grandes catégories de données :\n",
    "\n",
    "Les données qualitatives et les données quantitative elle même divisés en sous catégorie en voici la définition :\n",
    "\n",
    "#### Les données quantitatives\n",
    "\n",
    "Continues : Les données quantitatives continues sont des données subjectives mesurées sur une échelle continue, comme un degré de satisfaction ou une intensité d'émotion.\n",
    " \n",
    "Discrètes : les données quantitatives discrètes sont à l’inverse non mesurables. Par exemple, ce sont le nombre d'enfants dans une famille, le nombre de produits achetés, le nombre de personnes dans une pièce.\n",
    "\n",
    "\n",
    "#### Les données qualitatives\n",
    "\n",
    "Ordinale: Une donnée qualitatives ordinale est une mesure numérique qui permet de classer les observations selon un ordre, mais sans échelle de mesure précise.\n",
    "\n",
    "Nominale: Une donnée qualitatives nominale est une donnée qui est utilisée pour étiqueter ou catégoriser les observations, sans aucun ordre ou signification numérique.\n",
    "\n",
    "## B- Catégorie de données\n",
    "\n",
    "#### Variables à expliquer (dépendantes)\n",
    "\n",
    "On considère les variables à expliquer comme étant des variables que l'ont peu prédire à l'aide des autres variables. On peut dire qu'elles sont corrélées. Par exemple on peut utiliser la droite de régression linéaire.\n",
    "\n",
    "#### Variables explicatives (indépendantes)\n",
    "\n",
    "On considère les variables explicatives comme étant des variables qui sont indépendantes les unes des autres.\n",
    "\n",
    "\n",
    "\n",
    "##### Voici un tableau résumant la typologie de nos variables, ainsi que leur catégorie :\n"
   ]
  },
  {
   "cell_type": "code",
   "execution_count": 3,
   "id": "4e65d0cf",
   "metadata": {
    "scrolled": true
   },
   "outputs": [
    {
     "data": {
      "text/html": [
       "<div>\n",
       "<style scoped>\n",
       "    .dataframe tbody tr th:only-of-type {\n",
       "        vertical-align: middle;\n",
       "    }\n",
       "\n",
       "    .dataframe tbody tr th {\n",
       "        vertical-align: top;\n",
       "    }\n",
       "\n",
       "    .dataframe thead th {\n",
       "        text-align: right;\n",
       "    }\n",
       "</style>\n",
       "<table border=\"1\" class=\"dataframe\">\n",
       "  <thead>\n",
       "    <tr style=\"text-align: right;\">\n",
       "      <th></th>\n",
       "      <th>Nom des données</th>\n",
       "      <th>Typologie des données</th>\n",
       "      <th>Catégorie de données</th>\n",
       "    </tr>\n",
       "  </thead>\n",
       "  <tbody>\n",
       "    <tr>\n",
       "      <th>0</th>\n",
       "      <td>id_colab</td>\n",
       "      <td>Qualitative nominale</td>\n",
       "      <td>Variable explicative</td>\n",
       "    </tr>\n",
       "    <tr>\n",
       "      <th>1</th>\n",
       "      <td>satisfaction_level</td>\n",
       "      <td>Quantitative continue</td>\n",
       "      <td>Variable explicative</td>\n",
       "    </tr>\n",
       "    <tr>\n",
       "      <th>2</th>\n",
       "      <td>last_evaluation</td>\n",
       "      <td>Quantitative continue</td>\n",
       "      <td>Variable explicative</td>\n",
       "    </tr>\n",
       "    <tr>\n",
       "      <th>3</th>\n",
       "      <td>number_project</td>\n",
       "      <td>Quantitative continue</td>\n",
       "      <td>Variable explicative</td>\n",
       "    </tr>\n",
       "    <tr>\n",
       "      <th>4</th>\n",
       "      <td>average_montly_hours</td>\n",
       "      <td>Quantitative continue</td>\n",
       "      <td>Variable explicative</td>\n",
       "    </tr>\n",
       "    <tr>\n",
       "      <th>5</th>\n",
       "      <td>time_spend_company</td>\n",
       "      <td>Quantitative continue</td>\n",
       "      <td>Variable explicative</td>\n",
       "    </tr>\n",
       "    <tr>\n",
       "      <th>6</th>\n",
       "      <td>work_accident</td>\n",
       "      <td>Qualitative nominale</td>\n",
       "      <td>Variable explicative</td>\n",
       "    </tr>\n",
       "    <tr>\n",
       "      <th>7</th>\n",
       "      <td>promotion_last_5years</td>\n",
       "      <td>Qualitative nominale</td>\n",
       "      <td>Variable explicative</td>\n",
       "    </tr>\n",
       "    <tr>\n",
       "      <th>8</th>\n",
       "      <td>job</td>\n",
       "      <td>Qualitative nominale</td>\n",
       "      <td>Variable explicative</td>\n",
       "    </tr>\n",
       "    <tr>\n",
       "      <th>9</th>\n",
       "      <td>salary</td>\n",
       "      <td>Qualitative ordinale</td>\n",
       "      <td>Variable explicative</td>\n",
       "    </tr>\n",
       "    <tr>\n",
       "      <th>10</th>\n",
       "      <td>left</td>\n",
       "      <td>Qualitative nominale</td>\n",
       "      <td>Variable à expliquer</td>\n",
       "    </tr>\n",
       "  </tbody>\n",
       "</table>\n",
       "</div>"
      ],
      "text/plain": [
       "          Nom des données  Typologie des données  Catégorie de données\n",
       "0                id_colab   Qualitative nominale  Variable explicative\n",
       "1      satisfaction_level  Quantitative continue  Variable explicative\n",
       "2         last_evaluation  Quantitative continue  Variable explicative\n",
       "3          number_project  Quantitative continue  Variable explicative\n",
       "4    average_montly_hours  Quantitative continue  Variable explicative\n",
       "5      time_spend_company  Quantitative continue  Variable explicative\n",
       "6           work_accident   Qualitative nominale  Variable explicative\n",
       "7   promotion_last_5years   Qualitative nominale  Variable explicative\n",
       "8                     job   Qualitative nominale  Variable explicative\n",
       "9                  salary   Qualitative ordinale  Variable explicative\n",
       "10                   left   Qualitative nominale  Variable à expliquer"
      ]
     },
     "execution_count": 3,
     "metadata": {},
     "output_type": "execute_result"
    }
   ],
   "source": [
    "data = {'Nom des données':['id_colab','satisfaction_level','last_evaluation','number_project','average_montly_hours','time_spend_company','work_accident','promotion_last_5years','job','salary','left'],'Typologie des données':['Qualitative nominale','Quantitative continue','Quantitative continue','Quantitative continue','Quantitative continue','Quantitative continue','Qualitative nominale','Qualitative nominale','Qualitative nominale','Qualitative ordinale','Qualitative nominale'], 'Catégorie de données': ['Variable explicative','Variable explicative','Variable explicative','Variable explicative','Variable explicative','Variable explicative','Variable explicative','Variable explicative','Variable explicative','Variable explicative','Variable à expliquer']}\n",
    "tableau_variables = pd.DataFrame(data)\n",
    "tableau_variables\n"
   ]
  },
  {
   "cell_type": "markdown",
   "id": "0666d49c",
   "metadata": {},
   "source": [
    "## C-Transformation des données\n",
    "\n",
    "#### Données qualitatives en données quantitatives  \n",
    "\n",
    "Nous allons transformer la variable 'left', que nous considérons comme une donnée qualitative continue, en donnée quantitative.\n",
    "\n",
    "Pour cela, nous avons d'abord dupliqué la colonne 'left', puis nous avons changé les données par : 1='yes' et 0='no'.\n",
    "\n"
   ]
  },
  {
   "cell_type": "code",
   "execution_count": 4,
   "id": "ef4d14b2",
   "metadata": {
    "scrolled": true
   },
   "outputs": [
    {
     "data": {
      "text/html": [
       "<div>\n",
       "<style scoped>\n",
       "    .dataframe tbody tr th:only-of-type {\n",
       "        vertical-align: middle;\n",
       "    }\n",
       "\n",
       "    .dataframe tbody tr th {\n",
       "        vertical-align: top;\n",
       "    }\n",
       "\n",
       "    .dataframe thead th {\n",
       "        text-align: right;\n",
       "    }\n",
       "</style>\n",
       "<table border=\"1\" class=\"dataframe\">\n",
       "  <thead>\n",
       "    <tr style=\"text-align: right;\">\n",
       "      <th></th>\n",
       "      <th>id_colab</th>\n",
       "      <th>satisfaction_level</th>\n",
       "      <th>last_evaluation</th>\n",
       "      <th>number_project</th>\n",
       "      <th>average_montly_hours</th>\n",
       "      <th>time_spend_company</th>\n",
       "      <th>work_accident</th>\n",
       "      <th>promotion_last_5years</th>\n",
       "      <th>job</th>\n",
       "      <th>salary</th>\n",
       "      <th>left</th>\n",
       "      <th>left_quanti</th>\n",
       "    </tr>\n",
       "  </thead>\n",
       "  <tbody>\n",
       "    <tr>\n",
       "      <th>0</th>\n",
       "      <td>4</td>\n",
       "      <td>0,72</td>\n",
       "      <td>0,87</td>\n",
       "      <td>5</td>\n",
       "      <td>223</td>\n",
       "      <td>5</td>\n",
       "      <td>0</td>\n",
       "      <td>0</td>\n",
       "      <td>sales</td>\n",
       "      <td>low</td>\n",
       "      <td>1</td>\n",
       "      <td>yes</td>\n",
       "    </tr>\n",
       "    <tr>\n",
       "      <th>1</th>\n",
       "      <td>5</td>\n",
       "      <td>0,37</td>\n",
       "      <td>0,52</td>\n",
       "      <td>2</td>\n",
       "      <td>159</td>\n",
       "      <td>3</td>\n",
       "      <td>0</td>\n",
       "      <td>0</td>\n",
       "      <td>sales</td>\n",
       "      <td>low</td>\n",
       "      <td>1</td>\n",
       "      <td>yes</td>\n",
       "    </tr>\n",
       "    <tr>\n",
       "      <th>2</th>\n",
       "      <td>7</td>\n",
       "      <td>0,1</td>\n",
       "      <td>0,77</td>\n",
       "      <td>6</td>\n",
       "      <td>247</td>\n",
       "      <td>4</td>\n",
       "      <td>0</td>\n",
       "      <td>0</td>\n",
       "      <td>sales</td>\n",
       "      <td>low</td>\n",
       "      <td>1</td>\n",
       "      <td>yes</td>\n",
       "    </tr>\n",
       "    <tr>\n",
       "      <th>3</th>\n",
       "      <td>9</td>\n",
       "      <td>0,89</td>\n",
       "      <td>1</td>\n",
       "      <td>5</td>\n",
       "      <td>224</td>\n",
       "      <td>5</td>\n",
       "      <td>0</td>\n",
       "      <td>0</td>\n",
       "      <td>sales</td>\n",
       "      <td>low</td>\n",
       "      <td>1</td>\n",
       "      <td>yes</td>\n",
       "    </tr>\n",
       "    <tr>\n",
       "      <th>4</th>\n",
       "      <td>10</td>\n",
       "      <td>0,42</td>\n",
       "      <td>0,53</td>\n",
       "      <td>2</td>\n",
       "      <td>142</td>\n",
       "      <td>3</td>\n",
       "      <td>0</td>\n",
       "      <td>0</td>\n",
       "      <td>sales</td>\n",
       "      <td>low</td>\n",
       "      <td>1</td>\n",
       "      <td>yes</td>\n",
       "    </tr>\n",
       "    <tr>\n",
       "      <th>...</th>\n",
       "      <td>...</td>\n",
       "      <td>...</td>\n",
       "      <td>...</td>\n",
       "      <td>...</td>\n",
       "      <td>...</td>\n",
       "      <td>...</td>\n",
       "      <td>...</td>\n",
       "      <td>...</td>\n",
       "      <td>...</td>\n",
       "      <td>...</td>\n",
       "      <td>...</td>\n",
       "      <td>...</td>\n",
       "    </tr>\n",
       "    <tr>\n",
       "      <th>10046</th>\n",
       "      <td>14993</td>\n",
       "      <td>0,4</td>\n",
       "      <td>0,48</td>\n",
       "      <td>2</td>\n",
       "      <td>155</td>\n",
       "      <td>3</td>\n",
       "      <td>0</td>\n",
       "      <td>0</td>\n",
       "      <td>support</td>\n",
       "      <td>low</td>\n",
       "      <td>1</td>\n",
       "      <td>yes</td>\n",
       "    </tr>\n",
       "    <tr>\n",
       "      <th>10047</th>\n",
       "      <td>14995</td>\n",
       "      <td>0,4</td>\n",
       "      <td>0,57</td>\n",
       "      <td>2</td>\n",
       "      <td>151</td>\n",
       "      <td>3</td>\n",
       "      <td>0</td>\n",
       "      <td>0</td>\n",
       "      <td>support</td>\n",
       "      <td>low</td>\n",
       "      <td>1</td>\n",
       "      <td>yes</td>\n",
       "    </tr>\n",
       "    <tr>\n",
       "      <th>10048</th>\n",
       "      <td>14996</td>\n",
       "      <td>0,37</td>\n",
       "      <td>0,48</td>\n",
       "      <td>2</td>\n",
       "      <td>160</td>\n",
       "      <td>3</td>\n",
       "      <td>0</td>\n",
       "      <td>0</td>\n",
       "      <td>support</td>\n",
       "      <td>low</td>\n",
       "      <td>1</td>\n",
       "      <td>yes</td>\n",
       "    </tr>\n",
       "    <tr>\n",
       "      <th>10049</th>\n",
       "      <td>14997</td>\n",
       "      <td>0,37</td>\n",
       "      <td>0,53</td>\n",
       "      <td>2</td>\n",
       "      <td>143</td>\n",
       "      <td>3</td>\n",
       "      <td>0</td>\n",
       "      <td>0</td>\n",
       "      <td>support</td>\n",
       "      <td>low</td>\n",
       "      <td>1</td>\n",
       "      <td>yes</td>\n",
       "    </tr>\n",
       "    <tr>\n",
       "      <th>10050</th>\n",
       "      <td>14998</td>\n",
       "      <td>0,11</td>\n",
       "      <td>0,96</td>\n",
       "      <td>6</td>\n",
       "      <td>280</td>\n",
       "      <td>4</td>\n",
       "      <td>0</td>\n",
       "      <td>0</td>\n",
       "      <td>support</td>\n",
       "      <td>low</td>\n",
       "      <td>1</td>\n",
       "      <td>yes</td>\n",
       "    </tr>\n",
       "  </tbody>\n",
       "</table>\n",
       "<p>10051 rows × 12 columns</p>\n",
       "</div>"
      ],
      "text/plain": [
       "       id_colab satisfaction_level last_evaluation  number_project  \\\n",
       "0             4               0,72            0,87               5   \n",
       "1             5               0,37            0,52               2   \n",
       "2             7                0,1            0,77               6   \n",
       "3             9               0,89               1               5   \n",
       "4            10               0,42            0,53               2   \n",
       "...         ...                ...             ...             ...   \n",
       "10046     14993                0,4            0,48               2   \n",
       "10047     14995                0,4            0,57               2   \n",
       "10048     14996               0,37            0,48               2   \n",
       "10049     14997               0,37            0,53               2   \n",
       "10050     14998               0,11            0,96               6   \n",
       "\n",
       "       average_montly_hours  time_spend_company  work_accident  \\\n",
       "0                       223                   5              0   \n",
       "1                       159                   3              0   \n",
       "2                       247                   4              0   \n",
       "3                       224                   5              0   \n",
       "4                       142                   3              0   \n",
       "...                     ...                 ...            ...   \n",
       "10046                   155                   3              0   \n",
       "10047                   151                   3              0   \n",
       "10048                   160                   3              0   \n",
       "10049                   143                   3              0   \n",
       "10050                   280                   4              0   \n",
       "\n",
       "       promotion_last_5years      job salary  left left_quanti  \n",
       "0                          0    sales    low     1         yes  \n",
       "1                          0    sales    low     1         yes  \n",
       "2                          0    sales    low     1         yes  \n",
       "3                          0    sales    low     1         yes  \n",
       "4                          0    sales    low     1         yes  \n",
       "...                      ...      ...    ...   ...         ...  \n",
       "10046                      0  support    low     1         yes  \n",
       "10047                      0  support    low     1         yes  \n",
       "10048                      0  support    low     1         yes  \n",
       "10049                      0  support    low     1         yes  \n",
       "10050                      0  support    low     1         yes  \n",
       "\n",
       "[10051 rows x 12 columns]"
      ]
     },
     "execution_count": 4,
     "metadata": {},
     "output_type": "execute_result"
    }
   ],
   "source": [
    "bidata = bidata.assign(left_quanti=bidata['left'])\n",
    "bidata['left_quanti'] = bidata['left_quanti'].map({1 : 'yes', 0 : 'no'})\n",
    "bidata"
   ]
  },
  {
   "cell_type": "markdown",
   "id": "bc16afe8",
   "metadata": {},
   "source": [
    "#### Données quantitatives en données qualitatives\n",
    "\n",
    "Nous allons transformer la variable 'average_montly_hours', que nous considérons comme quantitative nominale, en donnée qualitative.\n",
    "\n",
    "Pour cela, nous avons d'abord dupliqué la colonne 'average_montly_hours', puis nous avons défini les contraintes relative à la dénomination des différentes données. Nous avons défini 3 catégories : 'low' pour les personnes travaillant moins de 110h/mois,'medium' pour les personnes travaillant entre 110h et 160h/mois et enfin 'high' pour les personnes travaillant plus de 160h/mois.\n"
   ]
  },
  {
   "cell_type": "code",
   "execution_count": 5,
   "id": "3c5c2eb2",
   "metadata": {
    "scrolled": true
   },
   "outputs": [
    {
     "data": {
      "text/html": [
       "<div>\n",
       "<style scoped>\n",
       "    .dataframe tbody tr th:only-of-type {\n",
       "        vertical-align: middle;\n",
       "    }\n",
       "\n",
       "    .dataframe tbody tr th {\n",
       "        vertical-align: top;\n",
       "    }\n",
       "\n",
       "    .dataframe thead th {\n",
       "        text-align: right;\n",
       "    }\n",
       "</style>\n",
       "<table border=\"1\" class=\"dataframe\">\n",
       "  <thead>\n",
       "    <tr style=\"text-align: right;\">\n",
       "      <th></th>\n",
       "      <th>id_colab</th>\n",
       "      <th>satisfaction_level</th>\n",
       "      <th>last_evaluation</th>\n",
       "      <th>number_project</th>\n",
       "      <th>average_montly_hours</th>\n",
       "      <th>time_spend_company</th>\n",
       "      <th>work_accident</th>\n",
       "      <th>promotion_last_5years</th>\n",
       "      <th>job</th>\n",
       "      <th>salary</th>\n",
       "      <th>left</th>\n",
       "      <th>left_quanti</th>\n",
       "      <th>average_montly_hours_quali</th>\n",
       "    </tr>\n",
       "  </thead>\n",
       "  <tbody>\n",
       "    <tr>\n",
       "      <th>0</th>\n",
       "      <td>4</td>\n",
       "      <td>0,72</td>\n",
       "      <td>0,87</td>\n",
       "      <td>5</td>\n",
       "      <td>223</td>\n",
       "      <td>5</td>\n",
       "      <td>0</td>\n",
       "      <td>0</td>\n",
       "      <td>sales</td>\n",
       "      <td>low</td>\n",
       "      <td>1</td>\n",
       "      <td>yes</td>\n",
       "      <td>high</td>\n",
       "    </tr>\n",
       "    <tr>\n",
       "      <th>1</th>\n",
       "      <td>5</td>\n",
       "      <td>0,37</td>\n",
       "      <td>0,52</td>\n",
       "      <td>2</td>\n",
       "      <td>159</td>\n",
       "      <td>3</td>\n",
       "      <td>0</td>\n",
       "      <td>0</td>\n",
       "      <td>sales</td>\n",
       "      <td>low</td>\n",
       "      <td>1</td>\n",
       "      <td>yes</td>\n",
       "      <td>medium</td>\n",
       "    </tr>\n",
       "    <tr>\n",
       "      <th>2</th>\n",
       "      <td>7</td>\n",
       "      <td>0,1</td>\n",
       "      <td>0,77</td>\n",
       "      <td>6</td>\n",
       "      <td>247</td>\n",
       "      <td>4</td>\n",
       "      <td>0</td>\n",
       "      <td>0</td>\n",
       "      <td>sales</td>\n",
       "      <td>low</td>\n",
       "      <td>1</td>\n",
       "      <td>yes</td>\n",
       "      <td>high</td>\n",
       "    </tr>\n",
       "    <tr>\n",
       "      <th>3</th>\n",
       "      <td>9</td>\n",
       "      <td>0,89</td>\n",
       "      <td>1</td>\n",
       "      <td>5</td>\n",
       "      <td>224</td>\n",
       "      <td>5</td>\n",
       "      <td>0</td>\n",
       "      <td>0</td>\n",
       "      <td>sales</td>\n",
       "      <td>low</td>\n",
       "      <td>1</td>\n",
       "      <td>yes</td>\n",
       "      <td>high</td>\n",
       "    </tr>\n",
       "    <tr>\n",
       "      <th>4</th>\n",
       "      <td>10</td>\n",
       "      <td>0,42</td>\n",
       "      <td>0,53</td>\n",
       "      <td>2</td>\n",
       "      <td>142</td>\n",
       "      <td>3</td>\n",
       "      <td>0</td>\n",
       "      <td>0</td>\n",
       "      <td>sales</td>\n",
       "      <td>low</td>\n",
       "      <td>1</td>\n",
       "      <td>yes</td>\n",
       "      <td>medium</td>\n",
       "    </tr>\n",
       "    <tr>\n",
       "      <th>...</th>\n",
       "      <td>...</td>\n",
       "      <td>...</td>\n",
       "      <td>...</td>\n",
       "      <td>...</td>\n",
       "      <td>...</td>\n",
       "      <td>...</td>\n",
       "      <td>...</td>\n",
       "      <td>...</td>\n",
       "      <td>...</td>\n",
       "      <td>...</td>\n",
       "      <td>...</td>\n",
       "      <td>...</td>\n",
       "      <td>...</td>\n",
       "    </tr>\n",
       "    <tr>\n",
       "      <th>10046</th>\n",
       "      <td>14993</td>\n",
       "      <td>0,4</td>\n",
       "      <td>0,48</td>\n",
       "      <td>2</td>\n",
       "      <td>155</td>\n",
       "      <td>3</td>\n",
       "      <td>0</td>\n",
       "      <td>0</td>\n",
       "      <td>support</td>\n",
       "      <td>low</td>\n",
       "      <td>1</td>\n",
       "      <td>yes</td>\n",
       "      <td>medium</td>\n",
       "    </tr>\n",
       "    <tr>\n",
       "      <th>10047</th>\n",
       "      <td>14995</td>\n",
       "      <td>0,4</td>\n",
       "      <td>0,57</td>\n",
       "      <td>2</td>\n",
       "      <td>151</td>\n",
       "      <td>3</td>\n",
       "      <td>0</td>\n",
       "      <td>0</td>\n",
       "      <td>support</td>\n",
       "      <td>low</td>\n",
       "      <td>1</td>\n",
       "      <td>yes</td>\n",
       "      <td>medium</td>\n",
       "    </tr>\n",
       "    <tr>\n",
       "      <th>10048</th>\n",
       "      <td>14996</td>\n",
       "      <td>0,37</td>\n",
       "      <td>0,48</td>\n",
       "      <td>2</td>\n",
       "      <td>160</td>\n",
       "      <td>3</td>\n",
       "      <td>0</td>\n",
       "      <td>0</td>\n",
       "      <td>support</td>\n",
       "      <td>low</td>\n",
       "      <td>1</td>\n",
       "      <td>yes</td>\n",
       "      <td>medium</td>\n",
       "    </tr>\n",
       "    <tr>\n",
       "      <th>10049</th>\n",
       "      <td>14997</td>\n",
       "      <td>0,37</td>\n",
       "      <td>0,53</td>\n",
       "      <td>2</td>\n",
       "      <td>143</td>\n",
       "      <td>3</td>\n",
       "      <td>0</td>\n",
       "      <td>0</td>\n",
       "      <td>support</td>\n",
       "      <td>low</td>\n",
       "      <td>1</td>\n",
       "      <td>yes</td>\n",
       "      <td>medium</td>\n",
       "    </tr>\n",
       "    <tr>\n",
       "      <th>10050</th>\n",
       "      <td>14998</td>\n",
       "      <td>0,11</td>\n",
       "      <td>0,96</td>\n",
       "      <td>6</td>\n",
       "      <td>280</td>\n",
       "      <td>4</td>\n",
       "      <td>0</td>\n",
       "      <td>0</td>\n",
       "      <td>support</td>\n",
       "      <td>low</td>\n",
       "      <td>1</td>\n",
       "      <td>yes</td>\n",
       "      <td>high</td>\n",
       "    </tr>\n",
       "  </tbody>\n",
       "</table>\n",
       "<p>10051 rows × 13 columns</p>\n",
       "</div>"
      ],
      "text/plain": [
       "       id_colab satisfaction_level last_evaluation  number_project  \\\n",
       "0             4               0,72            0,87               5   \n",
       "1             5               0,37            0,52               2   \n",
       "2             7                0,1            0,77               6   \n",
       "3             9               0,89               1               5   \n",
       "4            10               0,42            0,53               2   \n",
       "...         ...                ...             ...             ...   \n",
       "10046     14993                0,4            0,48               2   \n",
       "10047     14995                0,4            0,57               2   \n",
       "10048     14996               0,37            0,48               2   \n",
       "10049     14997               0,37            0,53               2   \n",
       "10050     14998               0,11            0,96               6   \n",
       "\n",
       "       average_montly_hours  time_spend_company  work_accident  \\\n",
       "0                       223                   5              0   \n",
       "1                       159                   3              0   \n",
       "2                       247                   4              0   \n",
       "3                       224                   5              0   \n",
       "4                       142                   3              0   \n",
       "...                     ...                 ...            ...   \n",
       "10046                   155                   3              0   \n",
       "10047                   151                   3              0   \n",
       "10048                   160                   3              0   \n",
       "10049                   143                   3              0   \n",
       "10050                   280                   4              0   \n",
       "\n",
       "       promotion_last_5years      job salary  left left_quanti  \\\n",
       "0                          0    sales    low     1         yes   \n",
       "1                          0    sales    low     1         yes   \n",
       "2                          0    sales    low     1         yes   \n",
       "3                          0    sales    low     1         yes   \n",
       "4                          0    sales    low     1         yes   \n",
       "...                      ...      ...    ...   ...         ...   \n",
       "10046                      0  support    low     1         yes   \n",
       "10047                      0  support    low     1         yes   \n",
       "10048                      0  support    low     1         yes   \n",
       "10049                      0  support    low     1         yes   \n",
       "10050                      0  support    low     1         yes   \n",
       "\n",
       "      average_montly_hours_quali  \n",
       "0                           high  \n",
       "1                         medium  \n",
       "2                           high  \n",
       "3                           high  \n",
       "4                         medium  \n",
       "...                          ...  \n",
       "10046                     medium  \n",
       "10047                     medium  \n",
       "10048                     medium  \n",
       "10049                     medium  \n",
       "10050                       high  \n",
       "\n",
       "[10051 rows x 13 columns]"
      ]
     },
     "execution_count": 5,
     "metadata": {},
     "output_type": "execute_result"
    }
   ],
   "source": [
    "bidata = bidata.assign(average_montly_hours_quali=bidata['average_montly_hours'])\n",
    "bins = [0, 110, 160, float('inf')]\n",
    "labels = ['low', 'medium', 'high']\n",
    "bidata['average_montly_hours_quali'] = pd.cut(bidata['average_montly_hours'], bins=bins, labels=labels)\n",
    "bidata"
   ]
  },
  {
   "cell_type": "code",
   "execution_count": 6,
   "id": "55d72ded",
   "metadata": {},
   "outputs": [
    {
     "data": {
      "text/plain": [
       "['low', 'medium', 'high']"
      ]
     },
     "execution_count": 6,
     "metadata": {},
     "output_type": "execute_result"
    }
   ],
   "source": [
    "bidata.salary.unique().tolist()"
   ]
  },
  {
   "cell_type": "markdown",
   "id": "5f6f0952",
   "metadata": {},
   "source": [
    "## D-Les mesures de tendances centrale\n",
    "\n",
    "Il existe 3 mesures de tendance centrale utilisées pour décrire les données d'une distribution statistique : \n",
    "\n",
    "#### La médiane \n",
    "\n",
    "C’est la valeur qui sépare la moitié inférieure de la moitié supérieure d'un ensemble (deux parties d’effectifs égaux).La médiane est utilisée pour mesurer la tendance centrale d'un ensemble de données. \n",
    "\n",
    "#### La moyenne\n",
    "\n",
    "La moyenne est utilisée pour mesurer la tendance centrale d'un ensemble de données, elle peut également être utilisée pour identifier des tendances ou des changements dans les données au fil du temps en comparant les moyennes de différentes périodes ou groupes.\n",
    "\n",
    "C'est la somme des données divisée par l’effectif global. C’est l'indicateur le plus simple pour résumer l'information fournie par un ensemble de données.\n",
    "\n",
    "#### La mode\n",
    "\n",
    "La mode est une mesure de tendance centrale utilisée pour décrire les données d'une distribution statistique. C'est la valeur qui apparaît le plus fréquemment dans un ensemble de données.Elle est souvent utilisée pour décrire les données qualitatives ou pour identifier les éléments les plus fréquents dans un ensemble de données. \n",
    "\n",
    "Afin de rendre notre livrable plus conscis nous avons decidé de ne pas interpréter toutes les variables."
   ]
  },
  {
   "cell_type": "code",
   "execution_count": 7,
   "id": "84d6e81e",
   "metadata": {},
   "outputs": [
    {
     "name": "stderr",
     "output_type": "stream",
     "text": [
      "/var/folders/f8/nmk0msc11xj6pmj3wt53cglr0000gn/T/ipykernel_96051/3573655911.py:2: FutureWarning: Dropping of nuisance columns in DataFrame reductions (with 'numeric_only=None') is deprecated; in a future version this will raise TypeError.  Select only valid columns before calling the reduction.\n",
      "  mediane_bidata = bidata.median()\n"
     ]
    },
    {
     "data": {
      "text/plain": [
       "id_colab                 7500.0\n",
       "number_project              4.0\n",
       "average_montly_hours      199.0\n",
       "time_spend_company          3.0\n",
       "work_accident               0.0\n",
       "promotion_last_5years       0.0\n",
       "left                        0.0\n",
       "dtype: float64"
      ]
     },
     "execution_count": 7,
     "metadata": {},
     "output_type": "execute_result"
    }
   ],
   "source": [
    "#Mediane\n",
    "mediane_bidata = bidata.median()\n",
    "mediane_bidata\n",
    "##on ne tient pas compte de id_colab et left car insignifiant"
   ]
  },
  {
   "cell_type": "markdown",
   "id": "05a3255f",
   "metadata": {},
   "source": [
    "##### D'après le résultat, nous obtenons une médiane de 4 pour \"number_project\" et une médiane de 199 pour \"average_montly_hours\" . Nous pouvons déduire que 50% des employés intérrogés on été affectés à plus de 4 projets et 50% on été affectés à moins de 4 projets. Nous pouvons également déduire que plus de moitié ont travaillés plus de 199h et l'autre moitié moins de 199h."
   ]
  },
  {
   "cell_type": "code",
   "execution_count": 8,
   "id": "d156b9bd",
   "metadata": {},
   "outputs": [
    {
     "name": "stderr",
     "output_type": "stream",
     "text": [
      "/var/folders/f8/nmk0msc11xj6pmj3wt53cglr0000gn/T/ipykernel_96051/3805715750.py:2: FutureWarning: Dropping of nuisance columns in DataFrame reductions (with 'numeric_only=None') is deprecated; in a future version this will raise TypeError.  Select only valid columns before calling the reduction.\n",
      "  average_bidata = bidata.mean()\n"
     ]
    },
    {
     "data": {
      "text/plain": [
       "id_colab                 7492.237489\n",
       "number_project              3.803303\n",
       "average_montly_hours      200.812655\n",
       "time_spend_company          3.507213\n",
       "work_accident               0.147050\n",
       "promotion_last_5years       0.020098\n",
       "left                        0.237688\n",
       "dtype: float64"
      ]
     },
     "execution_count": 8,
     "metadata": {},
     "output_type": "execute_result"
    }
   ],
   "source": [
    "#Moyenne\n",
    "average_bidata = bidata.mean()\n",
    "average_bidata\n",
    "\n",
    "##on ne tient pas compte de id_colab et left car insignifiant"
   ]
  },
  {
   "cell_type": "markdown",
   "id": "ba7958ea",
   "metadata": {},
   "source": [
    "##### D'après le résultat, nous obtenons une moyenne de 3.8 pour \"number_project\" et une moyenne de 200.8 pour \"average_montly_hours\". Nous pouvons donc déduire que en moyenne les employés ont environ 4 projets et qu'ils travaillent en moyenne 200h/mois."
   ]
  },
  {
   "cell_type": "code",
   "execution_count": 9,
   "id": "31650020",
   "metadata": {
    "scrolled": true
   },
   "outputs": [
    {
     "name": "stdout",
     "output_type": "stream",
     "text": [
      "id_colab                          4\n",
      "satisfaction_level              0,1\n",
      "last_evaluation                0,54\n",
      "number_project                  4.0\n",
      "average_montly_hours          156.0\n",
      "time_spend_company              3.0\n",
      "work_accident                   0.0\n",
      "promotion_last_5years           0.0\n",
      "job                           sales\n",
      "salary                          low\n",
      "left                            0.0\n",
      "left_quanti                      no\n",
      "average_montly_hours_quali     high\n",
      "Name: 0, dtype: object\n"
     ]
    }
   ],
   "source": [
    "#Mode\n",
    "from scipy import stats\n",
    "\n",
    "mode_bidata = bidata.mode()\n",
    "print(mode_bidata.loc[0])\n",
    "##on ne tient pas compte de id_colab car insignifiant"
   ]
  },
  {
   "cell_type": "markdown",
   "id": "b6e46418",
   "metadata": {},
   "source": [
    "##### D'après le resultat, le mode pour number_project est de 4 et 156 pour average_montly_hours. Ce qui signifie que les employés ont tendance à etre affecté à 4 projets et qu'ils ont tendance à travailler 156h/mois."
   ]
  },
  {
   "cell_type": "markdown",
   "id": "1c5cab4d",
   "metadata": {},
   "source": [
    "## E-Les mesures de dispersion et de position \n",
    "\n",
    "Les mesures de dispersion décrivent la variabilité ou la répartition des valeurs d'une variable statistique dans un ensemble de données. Les mesures les plus courantes de dispersion sont : \n",
    "\n",
    "#### L'écart-type\n",
    "\n",
    "L'écart-type est une mesure de dispersion des données autour de la moyenne. Plus l'écart-type est faible, plus la population est homogène et à l'inverse plus il est élevé plus elle est hétérogène. Il est particulièrement utile pour identifier les données aberrantes, qui peuvent avoir un impact important sur les résultats globaux. Il est également utilisé dans les calculs statistiques tels que la construction d'intervalles de confiance, le test d'hypothèse et l'analyse de la variance.\n",
    "\n",
    "#### La variance\n",
    "\n",
    "La variance mesure la moyenne des distances au carré des valeurs de la variable par rapport à la moyenne de cette variable. Elle est également utilisée dans les calculs statistiques tels que la construction d'intervalles de confiance, le test d'hypothèse et l'analyse de la variance. Elle est utilisée pour mesurer la risque dans l'investissement, pour identifier la volatilité d'un actif financier.\n",
    "\n",
    "#### La fréquence \n",
    "\n",
    "La fréquence désigne le nombre de fois où une valeur ou un événement se produit dans un ensemble de données. Elle peut être exprimée sous forme de nombre absolu ou de pourcentage (c'est-à-dire en rapport à la taille totale de l'ensemble de données).\n",
    "\n",
    "C'est un outil clé pour l'analyse de données descriptives, qui permet de comprendre la répartition des valeurs dans un ensemble de données.\n",
    "\n",
    "#### L'étendue (minimum,maximum)\n",
    "\n",
    "L'étendue statistique est un concept utilisé pour mesurer la variabilité ou la dispersion des données dans un ensemble de données. Elle est généralement utilisée pour décrire la dispersion des données autour de la moyenne et peut être utilisée pour comparer la variabilité entre différents ensembles de données.\n",
    "\n",
    "#### Le percentile\n",
    "\n",
    "Un percentile est un concept statistique qui décrit la valeur en dessous de laquelle se trouve un certain pourcentage de valeurs dans un ensemble de données. Par exemple, si un élève a obtenu un score de 75ème percentile sur un test, cela signifie qu'il a obtenu un score supérieur à 75% des autres élèves. Les percentiles peuvent être utilisés pour donner une idée de la distribution des données et pour comparer les performances d'une personne à celles des autres dans un groupe.\n",
    "\n",
    "\n",
    "\n",
    "\n",
    "\n",
    "\n",
    "\n",
    "\n"
   ]
  },
  {
   "cell_type": "code",
   "execution_count": 10,
   "id": "08aea541",
   "metadata": {},
   "outputs": [
    {
     "name": "stderr",
     "output_type": "stream",
     "text": [
      "/var/folders/f8/nmk0msc11xj6pmj3wt53cglr0000gn/T/ipykernel_96051/3234764835.py:2: FutureWarning: Dropping of nuisance columns in DataFrame reductions (with 'numeric_only=None') is deprecated; in a future version this will raise TypeError.  Select only valid columns before calling the reduction.\n",
      "  std_all = bidata.std()\n"
     ]
    },
    {
     "data": {
      "text/plain": [
       "id_colab                 4331.355967\n",
       "number_project              1.230464\n",
       "average_montly_hours       49.775706\n",
       "time_spend_company          1.480360\n",
       "work_accident               0.354173\n",
       "promotion_last_5years       0.140341\n",
       "left                        0.425688\n",
       "dtype: float64"
      ]
     },
     "execution_count": 10,
     "metadata": {},
     "output_type": "execute_result"
    }
   ],
   "source": [
    "#Ecart-type\n",
    "std_all = bidata.std()\n",
    "std_all\n",
    "##on ne tient pas compte de id_colab et left car insignifiant"
   ]
  },
  {
   "cell_type": "markdown",
   "id": "50dd2477",
   "metadata": {},
   "source": [
    "##### D'après le résultat, l'écart-type de \"number_project\" est de 1 donc plutôt homègene et est de 49 pour \"average_montly_hours\" donc plus hétérogène. Nous pouvons donc déduire que les employés sont affectés en générale au même nombre de projet, mais que leurs temps passé au travail est généralement différents pour chacun d'entre eux."
   ]
  },
  {
   "cell_type": "code",
   "execution_count": 11,
   "id": "cbb49cd0",
   "metadata": {},
   "outputs": [
    {
     "name": "stderr",
     "output_type": "stream",
     "text": [
      "/var/folders/f8/nmk0msc11xj6pmj3wt53cglr0000gn/T/ipykernel_96051/3545053567.py:2: FutureWarning: Dropping of nuisance columns in DataFrame reductions (with 'numeric_only=None') is deprecated; in a future version this will raise TypeError.  Select only valid columns before calling the reduction.\n",
      "  var_all = bidata.var()\n"
     ]
    },
    {
     "data": {
      "text/plain": [
       "id_colab                 1.876064e+07\n",
       "number_project           1.514043e+00\n",
       "average_montly_hours     2.477621e+03\n",
       "time_spend_company       2.191465e+00\n",
       "work_accident            1.254388e-01\n",
       "promotion_last_5years    1.969555e-02\n",
       "left                     1.812103e-01\n",
       "dtype: float64"
      ]
     },
     "execution_count": 11,
     "metadata": {},
     "output_type": "execute_result"
    }
   ],
   "source": [
    "#Variance\n",
    "var_all = bidata.var()\n",
    "var_all\n",
    "##on ne tient pas compte de id_colab et left car insignifiant"
   ]
  },
  {
   "cell_type": "markdown",
   "id": "40536ffb",
   "metadata": {},
   "source": [
    "##### D'après le resultat, la variance de number_project est de 1.5 c'est à dire que la dispertion est proche de la moyenne alors que la variance deaverage_montly_hours est de 2.4 donc plus écarté de la moyenne. "
   ]
  },
  {
   "cell_type": "code",
   "execution_count": 12,
   "id": "cdcc07d9",
   "metadata": {},
   "outputs": [
    {
     "data": {
      "text/plain": [
       "0,1     261\n",
       "0,11    222\n",
       "0,77    177\n",
       "0,74    171\n",
       "0,82    167\n",
       "       ... \n",
       "0,3      22\n",
       "0,26     22\n",
       "0,33     21\n",
       "0,12     20\n",
       "0,27     19\n",
       "Name: satisfaction_level, Length: 92, dtype: int64"
      ]
     },
     "execution_count": 12,
     "metadata": {},
     "output_type": "execute_result"
    }
   ],
   "source": [
    "# Fréquence\n",
    "##on ne tient pas compte de id_colab car insignifiant donc nous n'avons pas calculé sa fréquence.\n",
    "freq_satisfaction_level = bidata['satisfaction_level'].value_counts()\n",
    "freq_satisfaction_level"
   ]
  },
  {
   "cell_type": "code",
   "execution_count": 13,
   "id": "364b49ff",
   "metadata": {
    "scrolled": true
   },
   "outputs": [
    {
     "data": {
      "image/png": "[encoded data removed]",
      "text/plain": [
       "<Figure size 1400x300 with 1 Axes>"
      ]
     },
     "metadata": {},
     "output_type": "display_data"
    }
   ],
   "source": [
    "freq_satisfaction_level.plot(kind='bar')\n",
    "plt.title(\"Le taux de satisfaction personnel par personne\")\n",
    "plt.xlabel('satisfaction_level', color = 'blue')\n",
    "plt.ylabel('effectif', color = 'blue')\n",
    "plt.gcf().set_size_inches(14, 3)\n",
    "plt.show()"
   ]
  },
  {
   "cell_type": "markdown",
   "id": "3e620a93",
   "metadata": {},
   "source": [
    "##### D'après le resultat, nous pouvons constater que 261 personnes ont répondu 0.1 de taux de satisfaction."
   ]
  },
  {
   "cell_type": "code",
   "execution_count": 14,
   "id": "ad9179f1",
   "metadata": {},
   "outputs": [
    {
     "data": {
      "text/plain": [
       "0,54    248\n",
       "0,55    236\n",
       "0,5     233\n",
       "0,51    227\n",
       "0,53    225\n",
       "       ... \n",
       "0,38     33\n",
       "0,42     32\n",
       "0,43     31\n",
       "0,44     29\n",
       "0,36     16\n",
       "Name: last_evaluation, Length: 65, dtype: int64"
      ]
     },
     "execution_count": 14,
     "metadata": {},
     "output_type": "execute_result"
    }
   ],
   "source": [
    "freq_last_evaluation = bidata['last_evaluation'].value_counts()\n",
    "freq_last_evaluation"
   ]
  },
  {
   "cell_type": "code",
   "execution_count": 15,
   "id": "20afb2ff",
   "metadata": {
    "scrolled": true
   },
   "outputs": [
    {
     "data": {
      "image/png": "[encoded data removed]",
      "text/plain": [
       "<Figure size 1200x200 with 1 Axes>"
      ]
     },
     "metadata": {},
     "output_type": "display_data"
    }
   ],
   "source": [
    "freq_last_evaluation.plot(kind='bar')\n",
    "plt.title(\"Le taux de satisfaction personnel par personne durant la dernière évaluation annuelle\")\n",
    "plt.xlabel('last_evaluation', color = 'blue')\n",
    "plt.ylabel('effectif', color = 'blue')\n",
    "plt.gcf().set_size_inches(12, 2)\n",
    "\n",
    "plt.show()"
   ]
  },
  {
   "cell_type": "markdown",
   "id": "aeb00be7",
   "metadata": {},
   "source": [
    "##### D'après le résultat, nous pouvons constater que l'année dernière 248 personnes (effectif le plus élévé) ont répondu 0.54 de taux de satisfaction. Seulement 16 personnes ont répondu 0.36."
   ]
  },
  {
   "cell_type": "code",
   "execution_count": 16,
   "id": "bc820b2d",
   "metadata": {
    "scrolled": true
   },
   "outputs": [
    {
     "data": {
      "text/plain": [
       "4    2938\n",
       "3    2739\n",
       "5    1830\n",
       "2    1582\n",
       "6     790\n",
       "7     172\n",
       "Name: number_project, dtype: int64"
      ]
     },
     "execution_count": 16,
     "metadata": {},
     "output_type": "execute_result"
    }
   ],
   "source": [
    "freq_number_project = bidata['number_project'].value_counts()\n",
    "freq_number_project"
   ]
  },
  {
   "cell_type": "code",
   "execution_count": 17,
   "id": "747fb53e",
   "metadata": {},
   "outputs": [
    {
     "data": {
      "image/png": "[encoded data removed]",
      "text/plain": [
       "<Figure size 640x480 with 1 Axes>"
      ]
     },
     "metadata": {},
     "output_type": "display_data"
    }
   ],
   "source": [
    "freq_number_project.plot(kind='bar')\n",
    "plt.title(\"Nombre de projets affectés par personne\")\n",
    "plt.xlabel('number_project', color = 'blue')\n",
    "plt.ylabel('effectif', color = 'blue')\n",
    "plt.show()"
   ]
  },
  {
   "cell_type": "markdown",
   "id": "bce664fb",
   "metadata": {},
   "source": [
    "##### D'après le resulat, 2938 employés ont été affectés à 4 projets et 172 à 7 projets."
   ]
  },
  {
   "cell_type": "code",
   "execution_count": 18,
   "id": "de0010f8",
   "metadata": {},
   "outputs": [
    {
     "data": {
      "text/plain": [
       "156    102\n",
       "149    101\n",
       "140     99\n",
       "151     98\n",
       "159     93\n",
       "      ... \n",
       "288      5\n",
       "297      5\n",
       "96       5\n",
       "299      4\n",
       "303      3\n",
       "Name: average_montly_hours, Length: 215, dtype: int64"
      ]
     },
     "execution_count": 18,
     "metadata": {},
     "output_type": "execute_result"
    }
   ],
   "source": [
    "freq_average_montly_hours = bidata['average_montly_hours'].value_counts()\n",
    "freq_average_montly_hours"
   ]
  },
  {
   "cell_type": "code",
   "execution_count": 19,
   "id": "8e3b6c43",
   "metadata": {},
   "outputs": [
    {
     "data": {
      "text/plain": [
       "high      7138\n",
       "medium    2751\n",
       "low        162\n",
       "Name: average_montly_hours_quali, dtype: int64"
      ]
     },
     "execution_count": 19,
     "metadata": {},
     "output_type": "execute_result"
    }
   ],
   "source": [
    "freq_average_montly_hours_quali = bidata['average_montly_hours_quali'].value_counts()\n",
    "freq_average_montly_hours_quali"
   ]
  },
  {
   "cell_type": "code",
   "execution_count": 20,
   "id": "0611211a",
   "metadata": {},
   "outputs": [
    {
     "data": {
      "image/png": "[encoded data removed]",
      "text/plain": [
       "<Figure size 640x480 with 1 Axes>"
      ]
     },
     "metadata": {},
     "output_type": "display_data"
    }
   ],
   "source": [
    "#Les colonnes \"average_montly_hours\" et \"average_montly_hours_quali\" étant les même, il est plus simple d'utiliser \"average_montly_hours_quali\" pour faire le graphique.\n",
    "#Il y a moins de données, donc le graphique est plus visible et plus compréhensible. Mais ce sont les même données.\n",
    "freq_average_montly_hours_quali.plot(kind='bar')\n",
    "plt.title(\"La moyenne d'heure travaillé chaque mois dans l'entreprise\")\n",
    "plt.xlabel('average_montly_hours_quali', color = 'blue')\n",
    "plt.ylabel('effectif', color = 'blue')\n",
    "plt.show()"
   ]
  },
  {
   "cell_type": "markdown",
   "id": "a92906f6",
   "metadata": {},
   "source": [
    "##### D'après le résultat, 7238 employés ont travaillés en moyenne plus de 160h/mois et seulement 162 ont travaillés moins de 110h/mois"
   ]
  },
  {
   "cell_type": "code",
   "execution_count": 21,
   "id": "dd14dbbe",
   "metadata": {},
   "outputs": [
    {
     "data": {
      "text/plain": [
       "3     4311\n",
       "2     2174\n",
       "4     1713\n",
       "5      976\n",
       "6      483\n",
       "10     155\n",
       "7      122\n",
       "8      117\n",
       "Name: time_spend_company, dtype: int64"
      ]
     },
     "execution_count": 21,
     "metadata": {},
     "output_type": "execute_result"
    }
   ],
   "source": [
    "freq_time_spend_company = bidata['time_spend_company'].value_counts()\n",
    "freq_time_spend_company"
   ]
  },
  {
   "cell_type": "code",
   "execution_count": 22,
   "id": "1bb00d79",
   "metadata": {},
   "outputs": [
    {
     "data": {
      "image/png": "[encoded data removed]",
      "text/plain": [
       "<Figure size 640x480 with 1 Axes>"
      ]
     },
     "metadata": {},
     "output_type": "display_data"
    }
   ],
   "source": [
    "freq_time_spend_company.plot(kind='bar')\n",
    "plt.title(\"Le temps passé au seins de l'entreprise, en année\")\n",
    "plt.xlabel('time_spend_company', color = 'blue')\n",
    "plt.ylabel('effectif', color = 'blue')\n",
    "plt.show()"
   ]
  },
  {
   "cell_type": "markdown",
   "id": "059f8dc0",
   "metadata": {},
   "source": [
    "##### D'après le resultat, 4311 employés sont là depuis 3 ans. Pour la minorité d'entre eux soit 117 employés, depuis 8 ans."
   ]
  },
  {
   "cell_type": "code",
   "execution_count": 23,
   "id": "b24f0e99",
   "metadata": {},
   "outputs": [
    {
     "data": {
      "text/plain": [
       "0    8573\n",
       "1    1478\n",
       "Name: work_accident, dtype: int64"
      ]
     },
     "execution_count": 23,
     "metadata": {},
     "output_type": "execute_result"
    }
   ],
   "source": [
    "freq_work_accident = bidata['work_accident'].value_counts()\n",
    "freq_work_accident"
   ]
  },
  {
   "cell_type": "code",
   "execution_count": 24,
   "id": "9249217a",
   "metadata": {},
   "outputs": [
    {
     "data": {
      "image/png": "[encoded data removed]",
      "text/plain": [
       "<Figure size 640x480 with 1 Axes>"
      ]
     },
     "metadata": {},
     "output_type": "display_data"
    }
   ],
   "source": [
    "freq_work_accident.plot(kind='pie', autopct='%1.2f%%')\n",
    "plt.title('Pourcentage de personnes ayant subi ou non un accident du travail')\n",
    "plt.ylabel('')\n",
    "plt.show()"
   ]
  },
  {
   "cell_type": "markdown",
   "id": "d274d80e",
   "metadata": {},
   "source": [
    "##### D'après le résultat, 8573 ou 85% des employés n'ont pas subi d'accident de travail et 1478 ou 14% ont subi un accident du travail."
   ]
  },
  {
   "cell_type": "code",
   "execution_count": 25,
   "id": "238e40cd",
   "metadata": {},
   "outputs": [
    {
     "data": {
      "text/plain": [
       "0    9849\n",
       "1     202\n",
       "Name: promotion_last_5years, dtype: int64"
      ]
     },
     "execution_count": 25,
     "metadata": {},
     "output_type": "execute_result"
    }
   ],
   "source": [
    "freq_promotion_last_5years = bidata['promotion_last_5years'].value_counts()\n",
    "freq_promotion_last_5years"
   ]
  },
  {
   "cell_type": "code",
   "execution_count": 26,
   "id": "6b966f28",
   "metadata": {},
   "outputs": [
    {
     "data": {
      "image/png": "[encoded data removed]",
      "text/plain": [
       "<Figure size 640x480 with 1 Axes>"
      ]
     },
     "metadata": {},
     "output_type": "display_data"
    }
   ],
   "source": [
    "freq_promotion_last_5years.plot(kind='bar')\n",
    "plt.title('Nombre de personnes ayant reçu ou non une promotion ces 5 dernières années')\n",
    "plt.xlabel('promotion_last_5years', color = 'blue')\n",
    "plt.ylabel('effectif', color = 'blue')\n",
    "plt.show()"
   ]
  },
  {
   "cell_type": "markdown",
   "id": "163fd2ce",
   "metadata": {},
   "source": [
    "##### D'après le résultat, seulement 202 employés ont eu une promotion lors de ces 5 dernières années."
   ]
  },
  {
   "cell_type": "code",
   "execution_count": 27,
   "id": "69b399e4",
   "metadata": {},
   "outputs": [
    {
     "data": {
      "text/plain": [
       "sales          2816\n",
       "technical      1808\n",
       "support        1468\n",
       "IT              852\n",
       "product_mng     586\n",
       "marketing       583\n",
       "RandD           509\n",
       "accounting      502\n",
       "hr              494\n",
       "management      433\n",
       "Name: job, dtype: int64"
      ]
     },
     "execution_count": 27,
     "metadata": {},
     "output_type": "execute_result"
    }
   ],
   "source": [
    "freq_job = bidata['job'].value_counts()\n",
    "freq_job"
   ]
  },
  {
   "cell_type": "code",
   "execution_count": 28,
   "id": "482c948e",
   "metadata": {},
   "outputs": [
    {
     "data": {
      "image/png": "[encoded data removed]",
      "text/plain": [
       "<Figure size 1000x1000 with 1 Axes>"
      ]
     },
     "metadata": {},
     "output_type": "display_data"
    }
   ],
   "source": [
    "freq_job.plot(kind='pie', autopct='%1.2f%%')\n",
    "plt.title('Les différents jobs des personnes dans notre base de donnée')\n",
    "plt.ylabel('')\n",
    "plt.gcf().set_size_inches(10, 10)\n",
    "\n",
    "plt.show()"
   ]
  },
  {
   "cell_type": "markdown",
   "id": "0e267ce7",
   "metadata": {},
   "source": [
    "##### D'après le résultat, 2816 employés soit 28% ont un poste en vente, et seulement 433 soit 4.3% ont un poste dans le domaine du management."
   ]
  },
  {
   "cell_type": "code",
   "execution_count": 29,
   "id": "875fc9a9",
   "metadata": {},
   "outputs": [
    {
     "data": {
      "text/plain": [
       "low       4899\n",
       "medium    4324\n",
       "high       828\n",
       "Name: salary, dtype: int64"
      ]
     },
     "execution_count": 29,
     "metadata": {},
     "output_type": "execute_result"
    }
   ],
   "source": [
    "freq_salary = bidata['salary'].value_counts()\n",
    "freq_salary"
   ]
  },
  {
   "cell_type": "code",
   "execution_count": 30,
   "id": "bc5bea4e",
   "metadata": {},
   "outputs": [
    {
     "data": {
      "image/png": "[encoded data removed]",
      "text/plain": [
       "<Figure size 640x480 with 1 Axes>"
      ]
     },
     "metadata": {},
     "output_type": "display_data"
    }
   ],
   "source": [
    "freq_salary.plot(kind='pie', autopct='%1.2f%%')\n",
    "plt.title('La fréquence des différents niveau de salaire au sein de notre base de donnée, en %')\n",
    "plt.ylabel('')\n",
    "plt.show()"
   ]
  },
  {
   "cell_type": "markdown",
   "id": "6cb61cd2",
   "metadata": {},
   "source": [
    "##### D'après le résultat, 4899 soit 48.7% des employés ont un salaire faible et 828 soit 8.2% ont un salaire élevé."
   ]
  },
  {
   "cell_type": "code",
   "execution_count": 31,
   "id": "c0db130e",
   "metadata": {},
   "outputs": [
    {
     "data": {
      "text/plain": [
       "0    7662\n",
       "1    2389\n",
       "Name: left, dtype: int64"
      ]
     },
     "execution_count": 31,
     "metadata": {},
     "output_type": "execute_result"
    }
   ],
   "source": [
    "freq_left = bidata['left'].value_counts()\n",
    "freq_left\n",
    "#Les colonnes \"left_quanti\" et \"left\" ont les même données. La fréquence sera donc la même. Yes=1 et No=0."
   ]
  },
  {
   "cell_type": "code",
   "execution_count": 32,
   "id": "f6eaea72",
   "metadata": {},
   "outputs": [
    {
     "data": {
      "image/png": "[encoded data removed]",
      "text/plain": [
       "<Figure size 640x480 with 1 Axes>"
      ]
     },
     "metadata": {},
     "output_type": "display_data"
    }
   ],
   "source": [
    "freq_left.plot(kind='bar')\n",
    "plt.title(\"Le nombre de personne ayant quitté ou non la compagnie dans l'effectif\")\n",
    "plt.xlabel('left', color = 'blue')\n",
    "plt.ylabel('effectif', color = 'blue')\n",
    "plt.show()"
   ]
  },
  {
   "cell_type": "markdown",
   "id": "ed6ff46c",
   "metadata": {},
   "source": [
    "##### D'après le résultat, 7662 employés sont restés dans l'entreprise et 2389 sont partis."
   ]
  },
  {
   "cell_type": "code",
   "execution_count": 33,
   "id": "503aeedc",
   "metadata": {},
   "outputs": [
    {
     "data": {
      "text/plain": [
       "id_colab                         4\n",
       "satisfaction_level            0,09\n",
       "last_evaluation               0,36\n",
       "number_project                   2\n",
       "average_montly_hours            96\n",
       "time_spend_company               2\n",
       "work_accident                    0\n",
       "promotion_last_5years            0\n",
       "job                             IT\n",
       "salary                        high\n",
       "left                             0\n",
       "left_quanti                     no\n",
       "average_montly_hours_quali     low\n",
       "dtype: object"
      ]
     },
     "execution_count": 33,
     "metadata": {},
     "output_type": "execute_result"
    }
   ],
   "source": [
    "#Etendue min\n",
    "#id_colab,job,salary,left_quanti,average_montly_hours_quali sont insignifiant.\n",
    "min_all = bidata.min()\n",
    "min_all"
   ]
  },
  {
   "cell_type": "markdown",
   "id": "4059e6e9",
   "metadata": {},
   "source": [
    "##### D'après le résultat, le minimum de projets affecté est de 2 et le minimum d'heures effectués par mois est de 96h."
   ]
  },
  {
   "cell_type": "code",
   "execution_count": 34,
   "id": "ae585ab1",
   "metadata": {},
   "outputs": [
    {
     "data": {
      "text/plain": [
       "id_colab                          14998\n",
       "satisfaction_level                    1\n",
       "last_evaluation                       1\n",
       "number_project                        7\n",
       "average_montly_hours                310\n",
       "time_spend_company                   10\n",
       "work_accident                         1\n",
       "promotion_last_5years                 1\n",
       "job                           technical\n",
       "salary                           medium\n",
       "left                                  1\n",
       "left_quanti                         yes\n",
       "average_montly_hours_quali         high\n",
       "dtype: object"
      ]
     },
     "execution_count": 34,
     "metadata": {},
     "output_type": "execute_result"
    }
   ],
   "source": [
    "#Etendue max\n",
    "#id_colab,job,salary,left_quanti,average_montly_hours_quali sont insignifiant.\n",
    "max_all = bidata.max()\n",
    "max_all"
   ]
  },
  {
   "cell_type": "markdown",
   "id": "086f782c",
   "metadata": {},
   "source": [
    "##### D'après le résultat, le nombre maximum projets affecté est de 7 et le maximum d'heures effectués par mois est de 310h."
   ]
  },
  {
   "cell_type": "code",
   "execution_count": 35,
   "id": "76653c19",
   "metadata": {},
   "outputs": [
    {
     "data": {
      "text/html": [
       "<div>\n",
       "<style scoped>\n",
       "    .dataframe tbody tr th:only-of-type {\n",
       "        vertical-align: middle;\n",
       "    }\n",
       "\n",
       "    .dataframe tbody tr th {\n",
       "        vertical-align: top;\n",
       "    }\n",
       "\n",
       "    .dataframe thead th {\n",
       "        text-align: right;\n",
       "    }\n",
       "</style>\n",
       "<table border=\"1\" class=\"dataframe\">\n",
       "  <thead>\n",
       "    <tr style=\"text-align: right;\">\n",
       "      <th></th>\n",
       "      <th>id_colab</th>\n",
       "      <th>number_project</th>\n",
       "      <th>average_montly_hours</th>\n",
       "      <th>time_spend_company</th>\n",
       "      <th>work_accident</th>\n",
       "      <th>promotion_last_5years</th>\n",
       "      <th>left</th>\n",
       "    </tr>\n",
       "  </thead>\n",
       "  <tbody>\n",
       "    <tr>\n",
       "      <th>0.25</th>\n",
       "      <td>3750.5</td>\n",
       "      <td>3.0</td>\n",
       "      <td>156.0</td>\n",
       "      <td>3.0</td>\n",
       "      <td>0.0</td>\n",
       "      <td>0.0</td>\n",
       "      <td>0.0</td>\n",
       "    </tr>\n",
       "    <tr>\n",
       "      <th>0.50</th>\n",
       "      <td>7500.0</td>\n",
       "      <td>4.0</td>\n",
       "      <td>199.0</td>\n",
       "      <td>3.0</td>\n",
       "      <td>0.0</td>\n",
       "      <td>0.0</td>\n",
       "      <td>0.0</td>\n",
       "    </tr>\n",
       "    <tr>\n",
       "      <th>0.75</th>\n",
       "      <td>11249.0</td>\n",
       "      <td>5.0</td>\n",
       "      <td>245.0</td>\n",
       "      <td>4.0</td>\n",
       "      <td>0.0</td>\n",
       "      <td>0.0</td>\n",
       "      <td>0.0</td>\n",
       "    </tr>\n",
       "  </tbody>\n",
       "</table>\n",
       "</div>"
      ],
      "text/plain": [
       "      id_colab  number_project  average_montly_hours  time_spend_company  \\\n",
       "0.25    3750.5             3.0                 156.0                 3.0   \n",
       "0.50    7500.0             4.0                 199.0                 3.0   \n",
       "0.75   11249.0             5.0                 245.0                 4.0   \n",
       "\n",
       "      work_accident  promotion_last_5years  left  \n",
       "0.25            0.0                    0.0   0.0  \n",
       "0.50            0.0                    0.0   0.0  \n",
       "0.75            0.0                    0.0   0.0  "
      ]
     },
     "execution_count": 35,
     "metadata": {},
     "output_type": "execute_result"
    }
   ],
   "source": [
    "#Percentile\n",
    "#id_colab est insignifiant\n",
    "percentiles_all = bidata.quantile([0.25, 0.5, 0.75])\n",
    "percentiles_all"
   ]
  },
  {
   "cell_type": "markdown",
   "id": "5d58e61b",
   "metadata": {},
   "source": [
    "##### D'après le résultat, 25% des employés ont été affectés à 3 projets et 75% à 5 projets. Concernant les heures effectués par mois 25% des employés travaillent 156h/mois et 75% travaillent 245h/mois."
   ]
  },
  {
   "cell_type": "markdown",
   "id": "8a2cb8fd",
   "metadata": {},
   "source": [
    "##### Voici un tableau regroupant l'ensemble des KPIs ci dessus:"
   ]
  },
  {
   "cell_type": "code",
   "execution_count": 36,
   "id": "51b3b4c6",
   "metadata": {},
   "outputs": [
    {
     "data": {
      "text/html": [
       "<div>\n",
       "<style scoped>\n",
       "    .dataframe tbody tr th:only-of-type {\n",
       "        vertical-align: middle;\n",
       "    }\n",
       "\n",
       "    .dataframe tbody tr th {\n",
       "        vertical-align: top;\n",
       "    }\n",
       "\n",
       "    .dataframe thead th {\n",
       "        text-align: right;\n",
       "    }\n",
       "</style>\n",
       "<table border=\"1\" class=\"dataframe\">\n",
       "  <thead>\n",
       "    <tr style=\"text-align: right;\">\n",
       "      <th></th>\n",
       "      <th>id_colab</th>\n",
       "      <th>number_project</th>\n",
       "      <th>average_montly_hours</th>\n",
       "      <th>time_spend_company</th>\n",
       "      <th>work_accident</th>\n",
       "      <th>promotion_last_5years</th>\n",
       "      <th>left</th>\n",
       "    </tr>\n",
       "  </thead>\n",
       "  <tbody>\n",
       "    <tr>\n",
       "      <th>count</th>\n",
       "      <td>10051.00</td>\n",
       "      <td>10051.00</td>\n",
       "      <td>10051.00</td>\n",
       "      <td>10051.00</td>\n",
       "      <td>10051.00</td>\n",
       "      <td>10051.00</td>\n",
       "      <td>10051.00</td>\n",
       "    </tr>\n",
       "    <tr>\n",
       "      <th>mean</th>\n",
       "      <td>7492.24</td>\n",
       "      <td>3.80</td>\n",
       "      <td>200.81</td>\n",
       "      <td>3.51</td>\n",
       "      <td>0.15</td>\n",
       "      <td>0.02</td>\n",
       "      <td>0.24</td>\n",
       "    </tr>\n",
       "    <tr>\n",
       "      <th>std</th>\n",
       "      <td>4331.36</td>\n",
       "      <td>1.23</td>\n",
       "      <td>49.78</td>\n",
       "      <td>1.48</td>\n",
       "      <td>0.35</td>\n",
       "      <td>0.14</td>\n",
       "      <td>0.43</td>\n",
       "    </tr>\n",
       "    <tr>\n",
       "      <th>min</th>\n",
       "      <td>4.00</td>\n",
       "      <td>2.00</td>\n",
       "      <td>96.00</td>\n",
       "      <td>2.00</td>\n",
       "      <td>0.00</td>\n",
       "      <td>0.00</td>\n",
       "      <td>0.00</td>\n",
       "    </tr>\n",
       "    <tr>\n",
       "      <th>25%</th>\n",
       "      <td>3750.50</td>\n",
       "      <td>3.00</td>\n",
       "      <td>156.00</td>\n",
       "      <td>3.00</td>\n",
       "      <td>0.00</td>\n",
       "      <td>0.00</td>\n",
       "      <td>0.00</td>\n",
       "    </tr>\n",
       "    <tr>\n",
       "      <th>50%</th>\n",
       "      <td>7500.00</td>\n",
       "      <td>4.00</td>\n",
       "      <td>199.00</td>\n",
       "      <td>3.00</td>\n",
       "      <td>0.00</td>\n",
       "      <td>0.00</td>\n",
       "      <td>0.00</td>\n",
       "    </tr>\n",
       "    <tr>\n",
       "      <th>75%</th>\n",
       "      <td>11249.00</td>\n",
       "      <td>5.00</td>\n",
       "      <td>245.00</td>\n",
       "      <td>4.00</td>\n",
       "      <td>0.00</td>\n",
       "      <td>0.00</td>\n",
       "      <td>0.00</td>\n",
       "    </tr>\n",
       "    <tr>\n",
       "      <th>max</th>\n",
       "      <td>14998.00</td>\n",
       "      <td>7.00</td>\n",
       "      <td>310.00</td>\n",
       "      <td>10.00</td>\n",
       "      <td>1.00</td>\n",
       "      <td>1.00</td>\n",
       "      <td>1.00</td>\n",
       "    </tr>\n",
       "  </tbody>\n",
       "</table>\n",
       "</div>"
      ],
      "text/plain": [
       "       id_colab number_project average_montly_hours time_spend_company  \\\n",
       "count  10051.00       10051.00             10051.00           10051.00   \n",
       "mean    7492.24           3.80               200.81               3.51   \n",
       "std     4331.36           1.23                49.78               1.48   \n",
       "min        4.00           2.00                96.00               2.00   \n",
       "25%     3750.50           3.00               156.00               3.00   \n",
       "50%     7500.00           4.00               199.00               3.00   \n",
       "75%    11249.00           5.00               245.00               4.00   \n",
       "max    14998.00           7.00               310.00              10.00   \n",
       "\n",
       "      work_accident promotion_last_5years      left  \n",
       "count      10051.00              10051.00  10051.00  \n",
       "mean           0.15                  0.02      0.24  \n",
       "std            0.35                  0.14      0.43  \n",
       "min            0.00                  0.00      0.00  \n",
       "25%            0.00                  0.00      0.00  \n",
       "50%            0.00                  0.00      0.00  \n",
       "75%            0.00                  0.00      0.00  \n",
       "max            1.00                  1.00      1.00  "
      ]
     },
     "execution_count": 36,
     "metadata": {},
     "output_type": "execute_result"
    }
   ],
   "source": [
    "kpi = bidata.describe().applymap('{:.2f}'.format)\n",
    "kpi\n",
    "#On ne tient pas compte de id_colab et left car insignifiant."
   ]
  },
  {
   "cell_type": "markdown",
   "id": "97278f11",
   "metadata": {},
   "source": [
    "# Représentation graphique de la distribution des données"
   ]
  },
  {
   "cell_type": "code",
   "execution_count": 37,
   "id": "f1102fa4",
   "metadata": {},
   "outputs": [
    {
     "data": {
      "text/html": [
       "<div>\n",
       "<style scoped>\n",
       "    .dataframe tbody tr th:only-of-type {\n",
       "        vertical-align: middle;\n",
       "    }\n",
       "\n",
       "    .dataframe tbody tr th {\n",
       "        vertical-align: top;\n",
       "    }\n",
       "\n",
       "    .dataframe thead th {\n",
       "        text-align: right;\n",
       "    }\n",
       "</style>\n",
       "<table border=\"1\" class=\"dataframe\">\n",
       "  <thead>\n",
       "    <tr style=\"text-align: right;\">\n",
       "      <th></th>\n",
       "      <th>id_colab</th>\n",
       "      <th>satisfaction_level</th>\n",
       "      <th>last_evaluation</th>\n",
       "      <th>number_project</th>\n",
       "      <th>average_montly_hours</th>\n",
       "      <th>time_spend_company</th>\n",
       "      <th>work_accident</th>\n",
       "      <th>promotion_last_5years</th>\n",
       "      <th>job</th>\n",
       "      <th>salary</th>\n",
       "      <th>left</th>\n",
       "      <th>left_quanti</th>\n",
       "      <th>average_montly_hours_quali</th>\n",
       "    </tr>\n",
       "  </thead>\n",
       "  <tbody>\n",
       "    <tr>\n",
       "      <th>0</th>\n",
       "      <td>4</td>\n",
       "      <td>0,72</td>\n",
       "      <td>0,87</td>\n",
       "      <td>5</td>\n",
       "      <td>223</td>\n",
       "      <td>5</td>\n",
       "      <td>0</td>\n",
       "      <td>0</td>\n",
       "      <td>sales</td>\n",
       "      <td>low</td>\n",
       "      <td>1</td>\n",
       "      <td>yes</td>\n",
       "      <td>high</td>\n",
       "    </tr>\n",
       "    <tr>\n",
       "      <th>1</th>\n",
       "      <td>5</td>\n",
       "      <td>0,37</td>\n",
       "      <td>0,52</td>\n",
       "      <td>2</td>\n",
       "      <td>159</td>\n",
       "      <td>3</td>\n",
       "      <td>0</td>\n",
       "      <td>0</td>\n",
       "      <td>sales</td>\n",
       "      <td>low</td>\n",
       "      <td>1</td>\n",
       "      <td>yes</td>\n",
       "      <td>medium</td>\n",
       "    </tr>\n",
       "    <tr>\n",
       "      <th>2</th>\n",
       "      <td>7</td>\n",
       "      <td>0,1</td>\n",
       "      <td>0,77</td>\n",
       "      <td>6</td>\n",
       "      <td>247</td>\n",
       "      <td>4</td>\n",
       "      <td>0</td>\n",
       "      <td>0</td>\n",
       "      <td>sales</td>\n",
       "      <td>low</td>\n",
       "      <td>1</td>\n",
       "      <td>yes</td>\n",
       "      <td>high</td>\n",
       "    </tr>\n",
       "    <tr>\n",
       "      <th>3</th>\n",
       "      <td>9</td>\n",
       "      <td>0,89</td>\n",
       "      <td>1</td>\n",
       "      <td>5</td>\n",
       "      <td>224</td>\n",
       "      <td>5</td>\n",
       "      <td>0</td>\n",
       "      <td>0</td>\n",
       "      <td>sales</td>\n",
       "      <td>low</td>\n",
       "      <td>1</td>\n",
       "      <td>yes</td>\n",
       "      <td>high</td>\n",
       "    </tr>\n",
       "    <tr>\n",
       "      <th>4</th>\n",
       "      <td>10</td>\n",
       "      <td>0,42</td>\n",
       "      <td>0,53</td>\n",
       "      <td>2</td>\n",
       "      <td>142</td>\n",
       "      <td>3</td>\n",
       "      <td>0</td>\n",
       "      <td>0</td>\n",
       "      <td>sales</td>\n",
       "      <td>low</td>\n",
       "      <td>1</td>\n",
       "      <td>yes</td>\n",
       "      <td>medium</td>\n",
       "    </tr>\n",
       "  </tbody>\n",
       "</table>\n",
       "</div>"
      ],
      "text/plain": [
       "   id_colab satisfaction_level last_evaluation  number_project  \\\n",
       "0         4               0,72            0,87               5   \n",
       "1         5               0,37            0,52               2   \n",
       "2         7                0,1            0,77               6   \n",
       "3         9               0,89               1               5   \n",
       "4        10               0,42            0,53               2   \n",
       "\n",
       "   average_montly_hours  time_spend_company  work_accident  \\\n",
       "0                   223                   5              0   \n",
       "1                   159                   3              0   \n",
       "2                   247                   4              0   \n",
       "3                   224                   5              0   \n",
       "4                   142                   3              0   \n",
       "\n",
       "   promotion_last_5years    job salary  left left_quanti  \\\n",
       "0                      0  sales    low     1         yes   \n",
       "1                      0  sales    low     1         yes   \n",
       "2                      0  sales    low     1         yes   \n",
       "3                      0  sales    low     1         yes   \n",
       "4                      0  sales    low     1         yes   \n",
       "\n",
       "  average_montly_hours_quali  \n",
       "0                       high  \n",
       "1                     medium  \n",
       "2                       high  \n",
       "3                       high  \n",
       "4                     medium  "
      ]
     },
     "execution_count": 37,
     "metadata": {},
     "output_type": "execute_result"
    }
   ],
   "source": [
    "#Rappelons ici à quoi notre dataframe \"bidata\" ressemble en affichant seulement les 5premières lignes.\n",
    "bidata.head()"
   ]
  },
  {
   "cell_type": "code",
   "execution_count": 38,
   "id": "607b6d4b",
   "metadata": {},
   "outputs": [
    {
     "data": {
      "image/png": "[encoded data removed]",
      "text/plain": [
       "<Figure size 640x480 with 1 Axes>"
      ]
     },
     "metadata": {},
     "output_type": "display_data"
    }
   ],
   "source": [
    "bidata.groupby(['job','time_spend_company']).size().groupby(level=0).apply(\n",
    "    lambda x: 100 * x / x.sum()\n",
    ").unstack().plot(kind='bar',stacked=True, legend=True)\n",
    "plt.title('Temps passé dans la compagnie (année) en fonction du job')\n",
    "plt.legend(bbox_to_anchor=(1.1,0.5), loc=\"lower right\", \n",
    "                          bbox_transform=plt.gcf().transFigure, title = 'Année')\n",
    "plt.xlabel('job', color = 'blue')\n",
    "plt.ylabel('effectif(%)', color = 'blue')\n",
    "plt.show()"
   ]
  },
  {
   "cell_type": "markdown",
   "id": "a7c6f94f",
   "metadata": {},
   "source": [
    "##### Prenons l'exemple du marketing, nous pouvons constater que les employés du service marketing restent en moyenne 3 ans."
   ]
  },
  {
   "cell_type": "code",
   "execution_count": 39,
   "id": "31e3fcdd",
   "metadata": {
    "scrolled": true
   },
   "outputs": [
    {
     "data": {
      "image/png": "[encoded data removed]",
      "text/plain": [
       "<Figure size 300x300 with 1 Axes>"
      ]
     },
     "metadata": {},
     "output_type": "display_data"
    }
   ],
   "source": [
    "bidata.groupby(['time_spend_company','number_project']).size().unstack().plot(kind='bar',stacked=True)\n",
    "plt.title(\"Le nombre de projet affecté en fonction de l'ancienneté\")\n",
    "plt.xlabel('Temps passé en années', color = 'blue')\n",
    "plt.ylabel('Effectif', color = 'blue')\n",
    "plt.gcf().set_size_inches(3, 3)\n",
    "plt.show()"
   ]
  },
  {
   "cell_type": "markdown",
   "id": "81e03dee",
   "metadata": {},
   "source": [
    "##### Prenons l'exemple des employés ayant une ancienneté de 3 ans, nous pouvons constater que la minorité ont été affectés 6 projet. Aucun d'entres eux ont 7 projets."
   ]
  },
  {
   "cell_type": "markdown",
   "id": "e4e3fb31",
   "metadata": {},
   "source": [
    "##### Ces graphiques sont un avant goût du prochain chapitre dans lequel nous allons explorer les données grâce à des analyses multivariés."
   ]
  },
  {
   "cell_type": "markdown",
   "id": "bed9580f",
   "metadata": {},
   "source": [
    "# II- Chapitre 2 : Explorer les données\n",
    "\n",
    "Dans ce chapitre nous allons comparer les variables entre elles afin de pouvoir interpreter des résultats. Cela vas nous permettre de mieux comprendre nos données et de comprendre ce qui pousse les employés à quitter l'entreprise.\n",
    "\n",
    "### A-Comparer des variables\n",
    "#### Comparaison de nos variables numériques\n",
    "\n",
    "Voici un tableau de corrélation de nos variables numérique.Le tableau de corrélation est un outil statistique qui montre la force et la direction de la relation entre deux ou plusieurs variables quantitatives. Il peut être utilisé pour identifier les variables qui sont fortement corrélées et qui peuvent influencer les résultats d'une analyse."
   ]
  },
  {
   "cell_type": "code",
   "execution_count": 48,
   "id": "026292cb",
   "metadata": {},
   "outputs": [
    {
     "data": {
      "text/html": [
       "<div>\n",
       "<style scoped>\n",
       "    .dataframe tbody tr th:only-of-type {\n",
       "        vertical-align: middle;\n",
       "    }\n",
       "\n",
       "    .dataframe tbody tr th {\n",
       "        vertical-align: top;\n",
       "    }\n",
       "\n",
       "    .dataframe thead th {\n",
       "        text-align: right;\n",
       "    }\n",
       "</style>\n",
       "<table border=\"1\" class=\"dataframe\">\n",
       "  <thead>\n",
       "    <tr style=\"text-align: right;\">\n",
       "      <th></th>\n",
       "      <th>number_project</th>\n",
       "      <th>average_montly_hours</th>\n",
       "      <th>time_spend_company</th>\n",
       "      <th>work_accident</th>\n",
       "      <th>promotion_last_5years</th>\n",
       "    </tr>\n",
       "  </thead>\n",
       "  <tbody>\n",
       "    <tr>\n",
       "      <th>number_project</th>\n",
       "      <td>1.000000</td>\n",
       "      <td>0.400247</td>\n",
       "      <td>0.250878</td>\n",
       "      <td>0.005150</td>\n",
       "      <td>-0.000919</td>\n",
       "    </tr>\n",
       "    <tr>\n",
       "      <th>average_montly_hours</th>\n",
       "      <td>0.400247</td>\n",
       "      <td>1.000000</td>\n",
       "      <td>0.168228</td>\n",
       "      <td>-0.013169</td>\n",
       "      <td>-0.008891</td>\n",
       "    </tr>\n",
       "    <tr>\n",
       "      <th>time_spend_company</th>\n",
       "      <td>0.250878</td>\n",
       "      <td>0.168228</td>\n",
       "      <td>1.000000</td>\n",
       "      <td>-0.022982</td>\n",
       "      <td>0.033373</td>\n",
       "    </tr>\n",
       "    <tr>\n",
       "      <th>work_accident</th>\n",
       "      <td>0.005150</td>\n",
       "      <td>-0.013169</td>\n",
       "      <td>-0.022982</td>\n",
       "      <td>1.000000</td>\n",
       "      <td>0.032622</td>\n",
       "    </tr>\n",
       "    <tr>\n",
       "      <th>promotion_last_5years</th>\n",
       "      <td>-0.000919</td>\n",
       "      <td>-0.008891</td>\n",
       "      <td>0.033373</td>\n",
       "      <td>0.032622</td>\n",
       "      <td>1.000000</td>\n",
       "    </tr>\n",
       "  </tbody>\n",
       "</table>\n",
       "</div>"
      ],
      "text/plain": [
       "                       number_project  average_montly_hours  \\\n",
       "number_project               1.000000              0.400247   \n",
       "average_montly_hours         0.400247              1.000000   \n",
       "time_spend_company           0.250878              0.168228   \n",
       "work_accident                0.005150             -0.013169   \n",
       "promotion_last_5years       -0.000919             -0.008891   \n",
       "\n",
       "                       time_spend_company  work_accident  \\\n",
       "number_project                   0.250878       0.005150   \n",
       "average_montly_hours             0.168228      -0.013169   \n",
       "time_spend_company               1.000000      -0.022982   \n",
       "work_accident                   -0.022982       1.000000   \n",
       "promotion_last_5years            0.033373       0.032622   \n",
       "\n",
       "                       promotion_last_5years  \n",
       "number_project                     -0.000919  \n",
       "average_montly_hours               -0.008891  \n",
       "time_spend_company                  0.033373  \n",
       "work_accident                       0.032622  \n",
       "promotion_last_5years               1.000000  "
      ]
     },
     "execution_count": 48,
     "metadata": {},
     "output_type": "execute_result"
    }
   ],
   "source": [
    "bidata_numericvalues = bidata[['satisfaction_level','last_evaluation','number_project','average_montly_hours','time_spend_company','work_accident','promotion_last_5years']]\n",
    "corr_matrix = bidata_numericvalues.corr(method='spearman')\n",
    "corr_matrix"
   ]
  },
  {
   "cell_type": "markdown",
   "id": "b21944fc",
   "metadata": {},
   "source": [
    "#### Comparaison de nos variables qualitatives et test Chi2\n",
    "Afin de pouvoir comparer nos variables qualitatives nous allons utiliser la méthode du Chi2. En effet, cette méthode permet d'évaluer si une différence observée entre les fréquences observées et les fréquences théoriques est statistiquement significative.Le test du chi2 est souvent utilisé dans les sciences sociales et la médecine pour déterminer si une association statistique existe entre deux variables catégoriques, telles que le sexe et une maladie, ou l'âge et un comportement de consommation.\n"
   ]
  },
  {
   "cell_type": "code",
   "execution_count": null,
   "id": "ef8b0935",
   "metadata": {},
   "outputs": [],
   "source": []
  },
  {
   "cell_type": "markdown",
   "id": "315e7413",
   "metadata": {},
   "source": [
    "#### Comparaison de nos variables quantitatives et qualitatives avec la méthode ANOVA\n",
    "\n",
    "Afin de comparer des variables quantitatives et qualitatives entres elles nous allons utiliser la méthode ANOVA.Cette méthode sert à évaluer l'effet d'une ou plusieurs variables explicatives sur une variable réponse. Elle permet de déterminer si les différences observées dans la variable réponse peuvent être attribuées à des différences dans les valeurs des variables explicatives ou sont le résultat d'une variation aléatoire. Cette méthode est souvent utilisée en analyse statistique pour des expériences scientifiques, en marketing pour des tests d'hypothèses sur les produits ou les segments de marché, et en économie pour des études de marché.\n"
   ]
  },
  {
   "cell_type": "code",
   "execution_count": null,
   "id": "2125f773",
   "metadata": {},
   "outputs": [],
   "source": []
  }
 ],
 "metadata": {
  "kernelspec": {
   "display_name": "Python 3 (ipykernel)",
   "language": "python",
   "name": "python3"
  },
  "language_info": {
   "codemirror_mode": {
    "name": "ipython",
    "version": 3
   },
   "file_extension": ".py",
   "mimetype": "text/x-python",
   "name": "python",
   "nbconvert_exporter": "python",
   "pygments_lexer": "ipython3",
   "version": "3.9.13"
  }
 },
 "nbformat": 4,
 "nbformat_minor": 5
}
