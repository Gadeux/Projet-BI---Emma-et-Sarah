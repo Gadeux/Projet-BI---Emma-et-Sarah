{
 "cells": [
  {
   "cell_type": "markdown",
   "id": "0805b940",
   "metadata": {},
   "source": [
    "# Livre blanc sur l'analyse des données et la BI\n",
    "## Sarah Bouchikh et Emma Gadea"
   ]
  },
  {
   "cell_type": "code",
   "execution_count": 1,
   "id": "e5af504d",
   "metadata": {},
   "outputs": [],
   "source": [
    "import pandas as pd\n",
    "import matplotlib.pyplot as plt\n",
    "import numpy as np\n",
    "from matplotlib import image\n",
    "%matplotlib inline\n",
    "\n",
    "\n",
    "bidata = pd.read_csv('HR_training.csv', encoding='unicode_escape', engine='python', delimiter=';')"
   ]
  },
  {
   "cell_type": "code",
   "execution_count": 2,
   "id": "33e66a90",
   "metadata": {},
   "outputs": [
    {
     "data": {
      "text/html": [
       "<div>\n",
       "<style scoped>\n",
       "    .dataframe tbody tr th:only-of-type {\n",
       "        vertical-align: middle;\n",
       "    }\n",
       "\n",
       "    .dataframe tbody tr th {\n",
       "        vertical-align: top;\n",
       "    }\n",
       "\n",
       "    .dataframe thead th {\n",
       "        text-align: right;\n",
       "    }\n",
       "</style>\n",
       "<table border=\"1\" class=\"dataframe\">\n",
       "  <thead>\n",
       "    <tr style=\"text-align: right;\">\n",
       "      <th></th>\n",
       "      <th>id_colab</th>\n",
       "      <th>satisfaction_level</th>\n",
       "      <th>last_evaluation</th>\n",
       "      <th>number_project</th>\n",
       "      <th>average_montly_hours</th>\n",
       "      <th>time_spend_company</th>\n",
       "      <th>work_accident</th>\n",
       "      <th>promotion_last_5years</th>\n",
       "      <th>job</th>\n",
       "      <th>salary</th>\n",
       "      <th>left</th>\n",
       "    </tr>\n",
       "  </thead>\n",
       "  <tbody>\n",
       "    <tr>\n",
       "      <th>0</th>\n",
       "      <td>4</td>\n",
       "      <td>0,72</td>\n",
       "      <td>0,87</td>\n",
       "      <td>5</td>\n",
       "      <td>223</td>\n",
       "      <td>5</td>\n",
       "      <td>0</td>\n",
       "      <td>0</td>\n",
       "      <td>sales</td>\n",
       "      <td>low</td>\n",
       "      <td>1</td>\n",
       "    </tr>\n",
       "    <tr>\n",
       "      <th>1</th>\n",
       "      <td>5</td>\n",
       "      <td>0,37</td>\n",
       "      <td>0,52</td>\n",
       "      <td>2</td>\n",
       "      <td>159</td>\n",
       "      <td>3</td>\n",
       "      <td>0</td>\n",
       "      <td>0</td>\n",
       "      <td>sales</td>\n",
       "      <td>low</td>\n",
       "      <td>1</td>\n",
       "    </tr>\n",
       "    <tr>\n",
       "      <th>2</th>\n",
       "      <td>7</td>\n",
       "      <td>0,1</td>\n",
       "      <td>0,77</td>\n",
       "      <td>6</td>\n",
       "      <td>247</td>\n",
       "      <td>4</td>\n",
       "      <td>0</td>\n",
       "      <td>0</td>\n",
       "      <td>sales</td>\n",
       "      <td>low</td>\n",
       "      <td>1</td>\n",
       "    </tr>\n",
       "    <tr>\n",
       "      <th>3</th>\n",
       "      <td>9</td>\n",
       "      <td>0,89</td>\n",
       "      <td>1</td>\n",
       "      <td>5</td>\n",
       "      <td>224</td>\n",
       "      <td>5</td>\n",
       "      <td>0</td>\n",
       "      <td>0</td>\n",
       "      <td>sales</td>\n",
       "      <td>low</td>\n",
       "      <td>1</td>\n",
       "    </tr>\n",
       "    <tr>\n",
       "      <th>4</th>\n",
       "      <td>10</td>\n",
       "      <td>0,42</td>\n",
       "      <td>0,53</td>\n",
       "      <td>2</td>\n",
       "      <td>142</td>\n",
       "      <td>3</td>\n",
       "      <td>0</td>\n",
       "      <td>0</td>\n",
       "      <td>sales</td>\n",
       "      <td>low</td>\n",
       "      <td>1</td>\n",
       "    </tr>\n",
       "    <tr>\n",
       "      <th>...</th>\n",
       "      <td>...</td>\n",
       "      <td>...</td>\n",
       "      <td>...</td>\n",
       "      <td>...</td>\n",
       "      <td>...</td>\n",
       "      <td>...</td>\n",
       "      <td>...</td>\n",
       "      <td>...</td>\n",
       "      <td>...</td>\n",
       "      <td>...</td>\n",
       "      <td>...</td>\n",
       "    </tr>\n",
       "    <tr>\n",
       "      <th>10046</th>\n",
       "      <td>14993</td>\n",
       "      <td>0,4</td>\n",
       "      <td>0,48</td>\n",
       "      <td>2</td>\n",
       "      <td>155</td>\n",
       "      <td>3</td>\n",
       "      <td>0</td>\n",
       "      <td>0</td>\n",
       "      <td>support</td>\n",
       "      <td>low</td>\n",
       "      <td>1</td>\n",
       "    </tr>\n",
       "    <tr>\n",
       "      <th>10047</th>\n",
       "      <td>14995</td>\n",
       "      <td>0,4</td>\n",
       "      <td>0,57</td>\n",
       "      <td>2</td>\n",
       "      <td>151</td>\n",
       "      <td>3</td>\n",
       "      <td>0</td>\n",
       "      <td>0</td>\n",
       "      <td>support</td>\n",
       "      <td>low</td>\n",
       "      <td>1</td>\n",
       "    </tr>\n",
       "    <tr>\n",
       "      <th>10048</th>\n",
       "      <td>14996</td>\n",
       "      <td>0,37</td>\n",
       "      <td>0,48</td>\n",
       "      <td>2</td>\n",
       "      <td>160</td>\n",
       "      <td>3</td>\n",
       "      <td>0</td>\n",
       "      <td>0</td>\n",
       "      <td>support</td>\n",
       "      <td>low</td>\n",
       "      <td>1</td>\n",
       "    </tr>\n",
       "    <tr>\n",
       "      <th>10049</th>\n",
       "      <td>14997</td>\n",
       "      <td>0,37</td>\n",
       "      <td>0,53</td>\n",
       "      <td>2</td>\n",
       "      <td>143</td>\n",
       "      <td>3</td>\n",
       "      <td>0</td>\n",
       "      <td>0</td>\n",
       "      <td>support</td>\n",
       "      <td>low</td>\n",
       "      <td>1</td>\n",
       "    </tr>\n",
       "    <tr>\n",
       "      <th>10050</th>\n",
       "      <td>14998</td>\n",
       "      <td>0,11</td>\n",
       "      <td>0,96</td>\n",
       "      <td>6</td>\n",
       "      <td>280</td>\n",
       "      <td>4</td>\n",
       "      <td>0</td>\n",
       "      <td>0</td>\n",
       "      <td>support</td>\n",
       "      <td>low</td>\n",
       "      <td>1</td>\n",
       "    </tr>\n",
       "  </tbody>\n",
       "</table>\n",
       "<p>10051 rows × 11 columns</p>\n",
       "</div>"
      ],
      "text/plain": [
       "       id_colab satisfaction_level last_evaluation  number_project  \\\n",
       "0             4               0,72            0,87               5   \n",
       "1             5               0,37            0,52               2   \n",
       "2             7                0,1            0,77               6   \n",
       "3             9               0,89               1               5   \n",
       "4            10               0,42            0,53               2   \n",
       "...         ...                ...             ...             ...   \n",
       "10046     14993                0,4            0,48               2   \n",
       "10047     14995                0,4            0,57               2   \n",
       "10048     14996               0,37            0,48               2   \n",
       "10049     14997               0,37            0,53               2   \n",
       "10050     14998               0,11            0,96               6   \n",
       "\n",
       "       average_montly_hours  time_spend_company  work_accident  \\\n",
       "0                       223                   5              0   \n",
       "1                       159                   3              0   \n",
       "2                       247                   4              0   \n",
       "3                       224                   5              0   \n",
       "4                       142                   3              0   \n",
       "...                     ...                 ...            ...   \n",
       "10046                   155                   3              0   \n",
       "10047                   151                   3              0   \n",
       "10048                   160                   3              0   \n",
       "10049                   143                   3              0   \n",
       "10050                   280                   4              0   \n",
       "\n",
       "       promotion_last_5years      job salary  left  \n",
       "0                          0    sales    low     1  \n",
       "1                          0    sales    low     1  \n",
       "2                          0    sales    low     1  \n",
       "3                          0    sales    low     1  \n",
       "4                          0    sales    low     1  \n",
       "...                      ...      ...    ...   ...  \n",
       "10046                      0  support    low     1  \n",
       "10047                      0  support    low     1  \n",
       "10048                      0  support    low     1  \n",
       "10049                      0  support    low     1  \n",
       "10050                      0  support    low     1  \n",
       "\n",
       "[10051 rows x 11 columns]"
      ]
     },
     "execution_count": 2,
     "metadata": {},
     "output_type": "execute_result"
    }
   ],
   "source": [
    "bidata"
   ]
  },
  {
   "cell_type": "markdown",
   "id": "5246fc68",
   "metadata": {},
   "source": [
    "### DEFINITION DES DONNEES DU FICHIER \n",
    "\n",
    "- Id : Numéro du collaborateur\n",
    "- Satisfaction level : Niveau de satisfaction des collaborateurs\n",
    "- Last evaluation : Niveau de satisfaction des collaborateurs lors de l’évaluation précédente\n",
    "- Number project : Nombre de projets portés par le collaborateur\n",
    "- Average monthly hours : Nombre d’heures mensuel moyen d’un collaborateur\n",
    "- Time spend company : Nombre d’années passées au sein de l’entreprise\n",
    "- Work accident : Information qui précise si le collaborateur a subi un accident du travail\n",
    "- Promotion last 5 years : Information qui précise si le collaborateur a été sujet à une promotion durant les 5 dernières années\n",
    "- Job : Secteur dans lequel travaille le collaborateur\n",
    "- Salary : Salaire du collaborateur (bas, moyen, haut)\n",
    "- Left : Si le collaborateur a finalement quitté l’entreprise ou non"
   ]
  },
  {
   "cell_type": "markdown",
   "id": "ec8e8398",
   "metadata": {},
   "source": [
    "# I- Chapitre 1 : Description des données\n",
    "## A-Typologie des données \n",
    "\n",
    "Il existe deux grandes catégories de données :\n",
    "\n",
    "Les données qualitatives et les données quantitative elle même divisés en sous catégorie en voici la définition :\n",
    "\n",
    "#### Les données quantitatives\n",
    "\n",
    "Continues : Les données quantitatives continues sont des données subjectives mesurées sur une échelle continue, comme un degré de satisfaction ou une intensité d'émotion.\n",
    " \n",
    "Discrètes : les données quantitatives discrètes sont à l’inverse non mesurables. Par exemple, ce sont le nombre d'enfants dans une famille, le nombre de produits achetés, le nombre de personnes dans une pièce.\n",
    "\n",
    "\n",
    "#### Les données qualitatives\n",
    "\n",
    "Ordinale: Une donnée qualitatives ordinale est une mesure numérique qui permet de classer les observations selon un ordre, mais sans échelle de mesure précise.\n",
    "\n",
    "Nominale: Une donnée qualitatives nominale est une donnée qui est utilisée pour étiqueter ou catégoriser les observations, sans aucun ordre ou signification numérique.\n",
    "\n",
    "## B- Catégorie de données\n",
    "\n",
    "#### Variables à expliquer (dépendantes)\n",
    "\n",
    "On considère les variables à expliquer comme étant des variables que l'ont peu prédire à l'aide des autres variables. On peut dire qu'elles sont corrélées. Par exemple on peut utiliser la droite de régression linéaire.\n",
    "\n",
    "#### Variables explicatives (indépendantes)\n",
    "\n",
    "On considère les variables explicatives comme étant des variables qui sont indépendantes les unes des autres.\n",
    "\n",
    "\n",
    "\n",
    "##### Voici un tableau résumant la typologie de nos variables, ainsi que leur catégorie :\n"
   ]
  },
  {
   "cell_type": "code",
   "execution_count": 3,
   "id": "4e65d0cf",
   "metadata": {
    "scrolled": true
   },
   "outputs": [
    {
     "data": {
      "text/html": [
       "<div>\n",
       "<style scoped>\n",
       "    .dataframe tbody tr th:only-of-type {\n",
       "        vertical-align: middle;\n",
       "    }\n",
       "\n",
       "    .dataframe tbody tr th {\n",
       "        vertical-align: top;\n",
       "    }\n",
       "\n",
       "    .dataframe thead th {\n",
       "        text-align: right;\n",
       "    }\n",
       "</style>\n",
       "<table border=\"1\" class=\"dataframe\">\n",
       "  <thead>\n",
       "    <tr style=\"text-align: right;\">\n",
       "      <th></th>\n",
       "      <th>Nom des données</th>\n",
       "      <th>Typologie des données</th>\n",
       "      <th>Catégorie de données</th>\n",
       "    </tr>\n",
       "  </thead>\n",
       "  <tbody>\n",
       "    <tr>\n",
       "      <th>0</th>\n",
       "      <td>id_colab</td>\n",
       "      <td>Qualitative nominale</td>\n",
       "      <td>Variable explicative</td>\n",
       "    </tr>\n",
       "    <tr>\n",
       "      <th>1</th>\n",
       "      <td>satisfaction_level</td>\n",
       "      <td>Quantitative continue</td>\n",
       "      <td>Variable explicative</td>\n",
       "    </tr>\n",
       "    <tr>\n",
       "      <th>2</th>\n",
       "      <td>last_evaluation</td>\n",
       "      <td>Quantitative continue</td>\n",
       "      <td>Variable explicative</td>\n",
       "    </tr>\n",
       "    <tr>\n",
       "      <th>3</th>\n",
       "      <td>number_project</td>\n",
       "      <td>Quantitative continue</td>\n",
       "      <td>Variable explicative</td>\n",
       "    </tr>\n",
       "    <tr>\n",
       "      <th>4</th>\n",
       "      <td>average_montly_hours</td>\n",
       "      <td>Quantitative continue</td>\n",
       "      <td>Variable explicative</td>\n",
       "    </tr>\n",
       "    <tr>\n",
       "      <th>5</th>\n",
       "      <td>time_spend_company</td>\n",
       "      <td>Quantitative continue</td>\n",
       "      <td>Variable explicative</td>\n",
       "    </tr>\n",
       "    <tr>\n",
       "      <th>6</th>\n",
       "      <td>work_accident</td>\n",
       "      <td>Qualitative nominale</td>\n",
       "      <td>Variable explicative</td>\n",
       "    </tr>\n",
       "    <tr>\n",
       "      <th>7</th>\n",
       "      <td>promotion_last_5years</td>\n",
       "      <td>Qualitative nominale</td>\n",
       "      <td>Variable explicative</td>\n",
       "    </tr>\n",
       "    <tr>\n",
       "      <th>8</th>\n",
       "      <td>job</td>\n",
       "      <td>Qualitative nominale</td>\n",
       "      <td>Variable explicative</td>\n",
       "    </tr>\n",
       "    <tr>\n",
       "      <th>9</th>\n",
       "      <td>salary</td>\n",
       "      <td>Qualitative ordinale</td>\n",
       "      <td>Variable explicative</td>\n",
       "    </tr>\n",
       "    <tr>\n",
       "      <th>10</th>\n",
       "      <td>left</td>\n",
       "      <td>Qualitative nominale</td>\n",
       "      <td>Variable à expliquer</td>\n",
       "    </tr>\n",
       "  </tbody>\n",
       "</table>\n",
       "</div>"
      ],
      "text/plain": [
       "          Nom des données  Typologie des données  Catégorie de données\n",
       "0                id_colab   Qualitative nominale  Variable explicative\n",
       "1      satisfaction_level  Quantitative continue  Variable explicative\n",
       "2         last_evaluation  Quantitative continue  Variable explicative\n",
       "3          number_project  Quantitative continue  Variable explicative\n",
       "4    average_montly_hours  Quantitative continue  Variable explicative\n",
       "5      time_spend_company  Quantitative continue  Variable explicative\n",
       "6           work_accident   Qualitative nominale  Variable explicative\n",
       "7   promotion_last_5years   Qualitative nominale  Variable explicative\n",
       "8                     job   Qualitative nominale  Variable explicative\n",
       "9                  salary   Qualitative ordinale  Variable explicative\n",
       "10                   left   Qualitative nominale  Variable à expliquer"
      ]
     },
     "execution_count": 3,
     "metadata": {},
     "output_type": "execute_result"
    }
   ],
   "source": [
    "data = {'Nom des données':['id_colab','satisfaction_level','last_evaluation','number_project','average_montly_hours','time_spend_company','work_accident','promotion_last_5years','job','salary','left'],'Typologie des données':['Qualitative nominale','Quantitative continue','Quantitative continue','Quantitative continue','Quantitative continue','Quantitative continue','Qualitative nominale','Qualitative nominale','Qualitative nominale','Qualitative ordinale','Qualitative nominale'], 'Catégorie de données': ['Variable explicative','Variable explicative','Variable explicative','Variable explicative','Variable explicative','Variable explicative','Variable explicative','Variable explicative','Variable explicative','Variable explicative','Variable à expliquer']}\n",
    "tableau_variables = pd.DataFrame(data)\n",
    "tableau_variables\n"
   ]
  },
  {
   "cell_type": "markdown",
   "id": "0666d49c",
   "metadata": {},
   "source": [
    "## C-Transformation des données\n",
    "\n",
    "#### Données qualitatives en données quantitatives  \n",
    "\n",
    "Nous allons transformer la variable 'left', que nous considérons comme une donnée qualitative continue, en donnée quantitative.\n",
    "\n",
    "Pour cela, nous avons d'abord dupliqué la colonne 'left', puis nous avons changé les données par : 1='yes' et 0='no'.\n",
    "\n"
   ]
  },
  {
   "cell_type": "code",
   "execution_count": 4,
   "id": "ef4d14b2",
   "metadata": {
    "scrolled": true
   },
   "outputs": [
    {
     "data": {
      "text/html": [
       "<div>\n",
       "<style scoped>\n",
       "    .dataframe tbody tr th:only-of-type {\n",
       "        vertical-align: middle;\n",
       "    }\n",
       "\n",
       "    .dataframe tbody tr th {\n",
       "        vertical-align: top;\n",
       "    }\n",
       "\n",
       "    .dataframe thead th {\n",
       "        text-align: right;\n",
       "    }\n",
       "</style>\n",
       "<table border=\"1\" class=\"dataframe\">\n",
       "  <thead>\n",
       "    <tr style=\"text-align: right;\">\n",
       "      <th></th>\n",
       "      <th>id_colab</th>\n",
       "      <th>satisfaction_level</th>\n",
       "      <th>last_evaluation</th>\n",
       "      <th>number_project</th>\n",
       "      <th>average_montly_hours</th>\n",
       "      <th>time_spend_company</th>\n",
       "      <th>work_accident</th>\n",
       "      <th>promotion_last_5years</th>\n",
       "      <th>job</th>\n",
       "      <th>salary</th>\n",
       "      <th>left</th>\n",
       "      <th>left_quanti</th>\n",
       "    </tr>\n",
       "  </thead>\n",
       "  <tbody>\n",
       "    <tr>\n",
       "      <th>0</th>\n",
       "      <td>4</td>\n",
       "      <td>0,72</td>\n",
       "      <td>0,87</td>\n",
       "      <td>5</td>\n",
       "      <td>223</td>\n",
       "      <td>5</td>\n",
       "      <td>0</td>\n",
       "      <td>0</td>\n",
       "      <td>sales</td>\n",
       "      <td>low</td>\n",
       "      <td>1</td>\n",
       "      <td>yes</td>\n",
       "    </tr>\n",
       "    <tr>\n",
       "      <th>1</th>\n",
       "      <td>5</td>\n",
       "      <td>0,37</td>\n",
       "      <td>0,52</td>\n",
       "      <td>2</td>\n",
       "      <td>159</td>\n",
       "      <td>3</td>\n",
       "      <td>0</td>\n",
       "      <td>0</td>\n",
       "      <td>sales</td>\n",
       "      <td>low</td>\n",
       "      <td>1</td>\n",
       "      <td>yes</td>\n",
       "    </tr>\n",
       "    <tr>\n",
       "      <th>2</th>\n",
       "      <td>7</td>\n",
       "      <td>0,1</td>\n",
       "      <td>0,77</td>\n",
       "      <td>6</td>\n",
       "      <td>247</td>\n",
       "      <td>4</td>\n",
       "      <td>0</td>\n",
       "      <td>0</td>\n",
       "      <td>sales</td>\n",
       "      <td>low</td>\n",
       "      <td>1</td>\n",
       "      <td>yes</td>\n",
       "    </tr>\n",
       "    <tr>\n",
       "      <th>3</th>\n",
       "      <td>9</td>\n",
       "      <td>0,89</td>\n",
       "      <td>1</td>\n",
       "      <td>5</td>\n",
       "      <td>224</td>\n",
       "      <td>5</td>\n",
       "      <td>0</td>\n",
       "      <td>0</td>\n",
       "      <td>sales</td>\n",
       "      <td>low</td>\n",
       "      <td>1</td>\n",
       "      <td>yes</td>\n",
       "    </tr>\n",
       "    <tr>\n",
       "      <th>4</th>\n",
       "      <td>10</td>\n",
       "      <td>0,42</td>\n",
       "      <td>0,53</td>\n",
       "      <td>2</td>\n",
       "      <td>142</td>\n",
       "      <td>3</td>\n",
       "      <td>0</td>\n",
       "      <td>0</td>\n",
       "      <td>sales</td>\n",
       "      <td>low</td>\n",
       "      <td>1</td>\n",
       "      <td>yes</td>\n",
       "    </tr>\n",
       "    <tr>\n",
       "      <th>...</th>\n",
       "      <td>...</td>\n",
       "      <td>...</td>\n",
       "      <td>...</td>\n",
       "      <td>...</td>\n",
       "      <td>...</td>\n",
       "      <td>...</td>\n",
       "      <td>...</td>\n",
       "      <td>...</td>\n",
       "      <td>...</td>\n",
       "      <td>...</td>\n",
       "      <td>...</td>\n",
       "      <td>...</td>\n",
       "    </tr>\n",
       "    <tr>\n",
       "      <th>10046</th>\n",
       "      <td>14993</td>\n",
       "      <td>0,4</td>\n",
       "      <td>0,48</td>\n",
       "      <td>2</td>\n",
       "      <td>155</td>\n",
       "      <td>3</td>\n",
       "      <td>0</td>\n",
       "      <td>0</td>\n",
       "      <td>support</td>\n",
       "      <td>low</td>\n",
       "      <td>1</td>\n",
       "      <td>yes</td>\n",
       "    </tr>\n",
       "    <tr>\n",
       "      <th>10047</th>\n",
       "      <td>14995</td>\n",
       "      <td>0,4</td>\n",
       "      <td>0,57</td>\n",
       "      <td>2</td>\n",
       "      <td>151</td>\n",
       "      <td>3</td>\n",
       "      <td>0</td>\n",
       "      <td>0</td>\n",
       "      <td>support</td>\n",
       "      <td>low</td>\n",
       "      <td>1</td>\n",
       "      <td>yes</td>\n",
       "    </tr>\n",
       "    <tr>\n",
       "      <th>10048</th>\n",
       "      <td>14996</td>\n",
       "      <td>0,37</td>\n",
       "      <td>0,48</td>\n",
       "      <td>2</td>\n",
       "      <td>160</td>\n",
       "      <td>3</td>\n",
       "      <td>0</td>\n",
       "      <td>0</td>\n",
       "      <td>support</td>\n",
       "      <td>low</td>\n",
       "      <td>1</td>\n",
       "      <td>yes</td>\n",
       "    </tr>\n",
       "    <tr>\n",
       "      <th>10049</th>\n",
       "      <td>14997</td>\n",
       "      <td>0,37</td>\n",
       "      <td>0,53</td>\n",
       "      <td>2</td>\n",
       "      <td>143</td>\n",
       "      <td>3</td>\n",
       "      <td>0</td>\n",
       "      <td>0</td>\n",
       "      <td>support</td>\n",
       "      <td>low</td>\n",
       "      <td>1</td>\n",
       "      <td>yes</td>\n",
       "    </tr>\n",
       "    <tr>\n",
       "      <th>10050</th>\n",
       "      <td>14998</td>\n",
       "      <td>0,11</td>\n",
       "      <td>0,96</td>\n",
       "      <td>6</td>\n",
       "      <td>280</td>\n",
       "      <td>4</td>\n",
       "      <td>0</td>\n",
       "      <td>0</td>\n",
       "      <td>support</td>\n",
       "      <td>low</td>\n",
       "      <td>1</td>\n",
       "      <td>yes</td>\n",
       "    </tr>\n",
       "  </tbody>\n",
       "</table>\n",
       "<p>10051 rows × 12 columns</p>\n",
       "</div>"
      ],
      "text/plain": [
       "       id_colab satisfaction_level last_evaluation  number_project  \\\n",
       "0             4               0,72            0,87               5   \n",
       "1             5               0,37            0,52               2   \n",
       "2             7                0,1            0,77               6   \n",
       "3             9               0,89               1               5   \n",
       "4            10               0,42            0,53               2   \n",
       "...         ...                ...             ...             ...   \n",
       "10046     14993                0,4            0,48               2   \n",
       "10047     14995                0,4            0,57               2   \n",
       "10048     14996               0,37            0,48               2   \n",
       "10049     14997               0,37            0,53               2   \n",
       "10050     14998               0,11            0,96               6   \n",
       "\n",
       "       average_montly_hours  time_spend_company  work_accident  \\\n",
       "0                       223                   5              0   \n",
       "1                       159                   3              0   \n",
       "2                       247                   4              0   \n",
       "3                       224                   5              0   \n",
       "4                       142                   3              0   \n",
       "...                     ...                 ...            ...   \n",
       "10046                   155                   3              0   \n",
       "10047                   151                   3              0   \n",
       "10048                   160                   3              0   \n",
       "10049                   143                   3              0   \n",
       "10050                   280                   4              0   \n",
       "\n",
       "       promotion_last_5years      job salary  left left_quanti  \n",
       "0                          0    sales    low     1         yes  \n",
       "1                          0    sales    low     1         yes  \n",
       "2                          0    sales    low     1         yes  \n",
       "3                          0    sales    low     1         yes  \n",
       "4                          0    sales    low     1         yes  \n",
       "...                      ...      ...    ...   ...         ...  \n",
       "10046                      0  support    low     1         yes  \n",
       "10047                      0  support    low     1         yes  \n",
       "10048                      0  support    low     1         yes  \n",
       "10049                      0  support    low     1         yes  \n",
       "10050                      0  support    low     1         yes  \n",
       "\n",
       "[10051 rows x 12 columns]"
      ]
     },
     "execution_count": 4,
     "metadata": {},
     "output_type": "execute_result"
    }
   ],
   "source": [
    "bidata = bidata.assign(left_quanti=bidata['left'])\n",
    "bidata['left_quanti'] = bidata['left_quanti'].map({1 : 'yes', 0 : 'no'})\n",
    "bidata"
   ]
  },
  {
   "cell_type": "markdown",
   "id": "bc16afe8",
   "metadata": {},
   "source": [
    "#### Données quantitatives en données qualitatives\n",
    "\n",
    "Nous allons transformer la variable 'average_montly_hours', que nous considérons comme quantitative nominale, en donnée qualitative.\n",
    "\n",
    "Pour cela, nous avons d'abord dupliqué la colonne 'average_montly_hours', puis nous avons défini les contraintes relative à la dénomination des différentes données. Nous avons défini 3 catégories : 'low' pour les personnes travaillant moins de 110h/mois,'medium' pour les personnes travaillant entre 110h et 160h/mois et enfin 'high' pour les personnes travaillant plus de 160h/mois.\n"
   ]
  },
  {
   "cell_type": "code",
   "execution_count": 5,
   "id": "3c5c2eb2",
   "metadata": {
    "scrolled": true
   },
   "outputs": [
    {
     "data": {
      "text/html": [
       "<div>\n",
       "<style scoped>\n",
       "    .dataframe tbody tr th:only-of-type {\n",
       "        vertical-align: middle;\n",
       "    }\n",
       "\n",
       "    .dataframe tbody tr th {\n",
       "        vertical-align: top;\n",
       "    }\n",
       "\n",
       "    .dataframe thead th {\n",
       "        text-align: right;\n",
       "    }\n",
       "</style>\n",
       "<table border=\"1\" class=\"dataframe\">\n",
       "  <thead>\n",
       "    <tr style=\"text-align: right;\">\n",
       "      <th></th>\n",
       "      <th>id_colab</th>\n",
       "      <th>satisfaction_level</th>\n",
       "      <th>last_evaluation</th>\n",
       "      <th>number_project</th>\n",
       "      <th>average_montly_hours</th>\n",
       "      <th>time_spend_company</th>\n",
       "      <th>work_accident</th>\n",
       "      <th>promotion_last_5years</th>\n",
       "      <th>job</th>\n",
       "      <th>salary</th>\n",
       "      <th>left</th>\n",
       "      <th>left_quanti</th>\n",
       "      <th>average_montly_hours_quali</th>\n",
       "    </tr>\n",
       "  </thead>\n",
       "  <tbody>\n",
       "    <tr>\n",
       "      <th>0</th>\n",
       "      <td>4</td>\n",
       "      <td>0,72</td>\n",
       "      <td>0,87</td>\n",
       "      <td>5</td>\n",
       "      <td>223</td>\n",
       "      <td>5</td>\n",
       "      <td>0</td>\n",
       "      <td>0</td>\n",
       "      <td>sales</td>\n",
       "      <td>low</td>\n",
       "      <td>1</td>\n",
       "      <td>yes</td>\n",
       "      <td>high</td>\n",
       "    </tr>\n",
       "    <tr>\n",
       "      <th>1</th>\n",
       "      <td>5</td>\n",
       "      <td>0,37</td>\n",
       "      <td>0,52</td>\n",
       "      <td>2</td>\n",
       "      <td>159</td>\n",
       "      <td>3</td>\n",
       "      <td>0</td>\n",
       "      <td>0</td>\n",
       "      <td>sales</td>\n",
       "      <td>low</td>\n",
       "      <td>1</td>\n",
       "      <td>yes</td>\n",
       "      <td>medium</td>\n",
       "    </tr>\n",
       "    <tr>\n",
       "      <th>2</th>\n",
       "      <td>7</td>\n",
       "      <td>0,1</td>\n",
       "      <td>0,77</td>\n",
       "      <td>6</td>\n",
       "      <td>247</td>\n",
       "      <td>4</td>\n",
       "      <td>0</td>\n",
       "      <td>0</td>\n",
       "      <td>sales</td>\n",
       "      <td>low</td>\n",
       "      <td>1</td>\n",
       "      <td>yes</td>\n",
       "      <td>high</td>\n",
       "    </tr>\n",
       "    <tr>\n",
       "      <th>3</th>\n",
       "      <td>9</td>\n",
       "      <td>0,89</td>\n",
       "      <td>1</td>\n",
       "      <td>5</td>\n",
       "      <td>224</td>\n",
       "      <td>5</td>\n",
       "      <td>0</td>\n",
       "      <td>0</td>\n",
       "      <td>sales</td>\n",
       "      <td>low</td>\n",
       "      <td>1</td>\n",
       "      <td>yes</td>\n",
       "      <td>high</td>\n",
       "    </tr>\n",
       "    <tr>\n",
       "      <th>4</th>\n",
       "      <td>10</td>\n",
       "      <td>0,42</td>\n",
       "      <td>0,53</td>\n",
       "      <td>2</td>\n",
       "      <td>142</td>\n",
       "      <td>3</td>\n",
       "      <td>0</td>\n",
       "      <td>0</td>\n",
       "      <td>sales</td>\n",
       "      <td>low</td>\n",
       "      <td>1</td>\n",
       "      <td>yes</td>\n",
       "      <td>medium</td>\n",
       "    </tr>\n",
       "    <tr>\n",
       "      <th>...</th>\n",
       "      <td>...</td>\n",
       "      <td>...</td>\n",
       "      <td>...</td>\n",
       "      <td>...</td>\n",
       "      <td>...</td>\n",
       "      <td>...</td>\n",
       "      <td>...</td>\n",
       "      <td>...</td>\n",
       "      <td>...</td>\n",
       "      <td>...</td>\n",
       "      <td>...</td>\n",
       "      <td>...</td>\n",
       "      <td>...</td>\n",
       "    </tr>\n",
       "    <tr>\n",
       "      <th>10046</th>\n",
       "      <td>14993</td>\n",
       "      <td>0,4</td>\n",
       "      <td>0,48</td>\n",
       "      <td>2</td>\n",
       "      <td>155</td>\n",
       "      <td>3</td>\n",
       "      <td>0</td>\n",
       "      <td>0</td>\n",
       "      <td>support</td>\n",
       "      <td>low</td>\n",
       "      <td>1</td>\n",
       "      <td>yes</td>\n",
       "      <td>medium</td>\n",
       "    </tr>\n",
       "    <tr>\n",
       "      <th>10047</th>\n",
       "      <td>14995</td>\n",
       "      <td>0,4</td>\n",
       "      <td>0,57</td>\n",
       "      <td>2</td>\n",
       "      <td>151</td>\n",
       "      <td>3</td>\n",
       "      <td>0</td>\n",
       "      <td>0</td>\n",
       "      <td>support</td>\n",
       "      <td>low</td>\n",
       "      <td>1</td>\n",
       "      <td>yes</td>\n",
       "      <td>medium</td>\n",
       "    </tr>\n",
       "    <tr>\n",
       "      <th>10048</th>\n",
       "      <td>14996</td>\n",
       "      <td>0,37</td>\n",
       "      <td>0,48</td>\n",
       "      <td>2</td>\n",
       "      <td>160</td>\n",
       "      <td>3</td>\n",
       "      <td>0</td>\n",
       "      <td>0</td>\n",
       "      <td>support</td>\n",
       "      <td>low</td>\n",
       "      <td>1</td>\n",
       "      <td>yes</td>\n",
       "      <td>medium</td>\n",
       "    </tr>\n",
       "    <tr>\n",
       "      <th>10049</th>\n",
       "      <td>14997</td>\n",
       "      <td>0,37</td>\n",
       "      <td>0,53</td>\n",
       "      <td>2</td>\n",
       "      <td>143</td>\n",
       "      <td>3</td>\n",
       "      <td>0</td>\n",
       "      <td>0</td>\n",
       "      <td>support</td>\n",
       "      <td>low</td>\n",
       "      <td>1</td>\n",
       "      <td>yes</td>\n",
       "      <td>medium</td>\n",
       "    </tr>\n",
       "    <tr>\n",
       "      <th>10050</th>\n",
       "      <td>14998</td>\n",
       "      <td>0,11</td>\n",
       "      <td>0,96</td>\n",
       "      <td>6</td>\n",
       "      <td>280</td>\n",
       "      <td>4</td>\n",
       "      <td>0</td>\n",
       "      <td>0</td>\n",
       "      <td>support</td>\n",
       "      <td>low</td>\n",
       "      <td>1</td>\n",
       "      <td>yes</td>\n",
       "      <td>high</td>\n",
       "    </tr>\n",
       "  </tbody>\n",
       "</table>\n",
       "<p>10051 rows × 13 columns</p>\n",
       "</div>"
      ],
      "text/plain": [
       "       id_colab satisfaction_level last_evaluation  number_project  \\\n",
       "0             4               0,72            0,87               5   \n",
       "1             5               0,37            0,52               2   \n",
       "2             7                0,1            0,77               6   \n",
       "3             9               0,89               1               5   \n",
       "4            10               0,42            0,53               2   \n",
       "...         ...                ...             ...             ...   \n",
       "10046     14993                0,4            0,48               2   \n",
       "10047     14995                0,4            0,57               2   \n",
       "10048     14996               0,37            0,48               2   \n",
       "10049     14997               0,37            0,53               2   \n",
       "10050     14998               0,11            0,96               6   \n",
       "\n",
       "       average_montly_hours  time_spend_company  work_accident  \\\n",
       "0                       223                   5              0   \n",
       "1                       159                   3              0   \n",
       "2                       247                   4              0   \n",
       "3                       224                   5              0   \n",
       "4                       142                   3              0   \n",
       "...                     ...                 ...            ...   \n",
       "10046                   155                   3              0   \n",
       "10047                   151                   3              0   \n",
       "10048                   160                   3              0   \n",
       "10049                   143                   3              0   \n",
       "10050                   280                   4              0   \n",
       "\n",
       "       promotion_last_5years      job salary  left left_quanti  \\\n",
       "0                          0    sales    low     1         yes   \n",
       "1                          0    sales    low     1         yes   \n",
       "2                          0    sales    low     1         yes   \n",
       "3                          0    sales    low     1         yes   \n",
       "4                          0    sales    low     1         yes   \n",
       "...                      ...      ...    ...   ...         ...   \n",
       "10046                      0  support    low     1         yes   \n",
       "10047                      0  support    low     1         yes   \n",
       "10048                      0  support    low     1         yes   \n",
       "10049                      0  support    low     1         yes   \n",
       "10050                      0  support    low     1         yes   \n",
       "\n",
       "      average_montly_hours_quali  \n",
       "0                           high  \n",
       "1                         medium  \n",
       "2                           high  \n",
       "3                           high  \n",
       "4                         medium  \n",
       "...                          ...  \n",
       "10046                     medium  \n",
       "10047                     medium  \n",
       "10048                     medium  \n",
       "10049                     medium  \n",
       "10050                       high  \n",
       "\n",
       "[10051 rows x 13 columns]"
      ]
     },
     "execution_count": 5,
     "metadata": {},
     "output_type": "execute_result"
    }
   ],
   "source": [
    "bidata = bidata.assign(average_montly_hours_quali=bidata['average_montly_hours'])\n",
    "bins = [0, 110, 160, float('inf')]\n",
    "labels = ['low', 'medium', 'high']\n",
    "bidata['average_montly_hours_quali'] = pd.cut(bidata['average_montly_hours'], bins=bins, labels=labels)\n",
    "bidata"
   ]
  },
  {
   "cell_type": "code",
   "execution_count": 6,
   "id": "55d72ded",
   "metadata": {},
   "outputs": [
    {
     "data": {
      "text/plain": [
       "['low', 'medium', 'high']"
      ]
     },
     "execution_count": 6,
     "metadata": {},
     "output_type": "execute_result"
    }
   ],
   "source": [
    "bidata.salary.unique().tolist()"
   ]
  },
  {
   "cell_type": "markdown",
   "id": "5f6f0952",
   "metadata": {},
   "source": [
    "## D-Les mesures de tendances centrale\n",
    "\n",
    "Il existe 3 mesures de tendance centrale utilisées pour décrire les données d'une distribution statistique : \n",
    "\n",
    "#### La médiane \n",
    "\n",
    "C’est la valeur qui sépare la moitié inférieure de la moitié supérieure d'un ensemble (deux parties d’effectifs égaux).La médiane est utilisée pour mesurer la tendance centrale d'un ensemble de données. \n",
    "\n",
    "#### La moyenne\n",
    "\n",
    "La moyenne est utilisée pour mesurer la tendance centrale d'un ensemble de données, elle peut également être utilisée pour identifier des tendances ou des changements dans les données au fil du temps en comparant les moyennes de différentes périodes ou groupes.\n",
    "\n",
    "C'est la somme des données divisée par l’effectif global. C’est l'indicateur le plus simple pour résumer l'information fournie par un ensemble de données.\n",
    "\n",
    "#### La mode\n",
    "\n",
    "La mode est une mesure de tendance centrale utilisée pour décrire les données d'une distribution statistique. C'est la valeur qui apparaît le plus fréquemment dans un ensemble de données.Elle est souvent utilisée pour décrire les données qualitatives ou pour identifier les éléments les plus fréquents dans un ensemble de données. \n",
    "\n",
    "Afin de rendre notre livrable plus conscis nous avons decidé de ne pas interpréter toutes les variables."
   ]
  },
  {
   "cell_type": "code",
   "execution_count": 7,
   "id": "84d6e81e",
   "metadata": {},
   "outputs": [
    {
     "name": "stderr",
     "output_type": "stream",
     "text": [
      "C:\\Users\\Emma\\AppData\\Local\\Temp\\ipykernel_14100\\3573655911.py:2: FutureWarning: Dropping of nuisance columns in DataFrame reductions (with 'numeric_only=None') is deprecated; in a future version this will raise TypeError.  Select only valid columns before calling the reduction.\n",
      "  mediane_bidata = bidata.median()\n"
     ]
    },
    {
     "data": {
      "text/plain": [
       "id_colab                 7500.0\n",
       "number_project              4.0\n",
       "average_montly_hours      199.0\n",
       "time_spend_company          3.0\n",
       "work_accident               0.0\n",
       "promotion_last_5years       0.0\n",
       "left                        0.0\n",
       "dtype: float64"
      ]
     },
     "execution_count": 7,
     "metadata": {},
     "output_type": "execute_result"
    }
   ],
   "source": [
    "#Mediane\n",
    "mediane_bidata = bidata.median()\n",
    "mediane_bidata\n",
    "##on ne tient pas compte de id_colab et left car insignifiant"
   ]
  },
  {
   "cell_type": "markdown",
   "id": "05a3255f",
   "metadata": {},
   "source": [
    "##### D'après le résultat, nous obtenons une médiane de 4 pour \"number_project\" et une médiane de 199 pour \"average_montly_hours\" . Nous pouvons déduire que 50% des employés intérrogés on été affectés à plus de 4 projets et 50% on été affectés à moins de 4 projets. Nous pouvons également déduire que plus de moitié ont travaillés plus de 199h et l'autre moitié moins de 199h."
   ]
  },
  {
   "cell_type": "code",
   "execution_count": 8,
   "id": "d156b9bd",
   "metadata": {},
   "outputs": [
    {
     "name": "stderr",
     "output_type": "stream",
     "text": [
      "C:\\Users\\Emma\\AppData\\Local\\Temp\\ipykernel_14100\\3805715750.py:2: FutureWarning: Dropping of nuisance columns in DataFrame reductions (with 'numeric_only=None') is deprecated; in a future version this will raise TypeError.  Select only valid columns before calling the reduction.\n",
      "  average_bidata = bidata.mean()\n"
     ]
    },
    {
     "data": {
      "text/plain": [
       "id_colab                 7492.237489\n",
       "number_project              3.803303\n",
       "average_montly_hours      200.812655\n",
       "time_spend_company          3.507213\n",
       "work_accident               0.147050\n",
       "promotion_last_5years       0.020098\n",
       "left                        0.237688\n",
       "dtype: float64"
      ]
     },
     "execution_count": 8,
     "metadata": {},
     "output_type": "execute_result"
    }
   ],
   "source": [
    "#Moyenne\n",
    "average_bidata = bidata.mean()\n",
    "average_bidata\n",
    "\n",
    "##on ne tient pas compte de id_colab et left car insignifiant"
   ]
  },
  {
   "cell_type": "markdown",
   "id": "ba7958ea",
   "metadata": {},
   "source": [
    "##### D'après le résultat, nous obtenons une moyenne de 3.8 pour \"number_project\" et une moyenne de 200.8 pour \"average_montly_hours\". Nous pouvons donc déduire que en moyenne les employés ont environ 4 projets et qu'ils travaillent en moyenne 200h/mois."
   ]
  },
  {
   "cell_type": "code",
   "execution_count": 9,
   "id": "31650020",
   "metadata": {
    "scrolled": true
   },
   "outputs": [
    {
     "name": "stdout",
     "output_type": "stream",
     "text": [
      "id_colab                          4\n",
      "satisfaction_level              0,1\n",
      "last_evaluation                0,54\n",
      "number_project                  4.0\n",
      "average_montly_hours          156.0\n",
      "time_spend_company              3.0\n",
      "work_accident                   0.0\n",
      "promotion_last_5years           0.0\n",
      "job                           sales\n",
      "salary                          low\n",
      "left                            0.0\n",
      "left_quanti                      no\n",
      "average_montly_hours_quali     high\n",
      "Name: 0, dtype: object\n"
     ]
    }
   ],
   "source": [
    "#Mode\n",
    "from scipy import stats\n",
    "\n",
    "mode_bidata = bidata.mode()\n",
    "print(mode_bidata.loc[0])\n",
    "##on ne tient pas compte de id_colab car insignifiant"
   ]
  },
  {
   "cell_type": "markdown",
   "id": "b6e46418",
   "metadata": {},
   "source": [
    "##### D'après le resultat, le mode pour number_project est de 4 et 156 pour average_montly_hours. Ce qui signifie que les employés ont tendance à etre affecté à 4 projets et qu'ils ont tendance à travailler 156h/mois."
   ]
  },
  {
   "cell_type": "markdown",
   "id": "1c5cab4d",
   "metadata": {},
   "source": [
    "## E-Les mesures de dispersion et de position \n",
    "\n",
    "Les mesures de dispersion décrivent la variabilité ou la répartition des valeurs d'une variable statistique dans un ensemble de données. Les mesures les plus courantes de dispersion sont : \n",
    "\n",
    "#### L'écart-type\n",
    "\n",
    "L'écart-type est une mesure de dispersion des données autour de la moyenne. Plus l'écart-type est faible, plus la population est homogène et à l'inverse plus il est élevé plus elle est hétérogène. Il est particulièrement utile pour identifier les données aberrantes, qui peuvent avoir un impact important sur les résultats globaux. Il est également utilisé dans les calculs statistiques tels que la construction d'intervalles de confiance, le test d'hypothèse et l'analyse de la variance.\n",
    "\n",
    "#### La variance\n",
    "\n",
    "La variance mesure la moyenne des distances au carré des valeurs de la variable par rapport à la moyenne de cette variable. Elle est également utilisée dans les calculs statistiques tels que la construction d'intervalles de confiance, le test d'hypothèse et l'analyse de la variance. Elle est utilisée pour mesurer la risque dans l'investissement, pour identifier la volatilité d'un actif financier.\n",
    "\n",
    "#### La fréquence \n",
    "\n",
    "La fréquence désigne le nombre de fois où une valeur ou un événement se produit dans un ensemble de données. Elle peut être exprimée sous forme de nombre absolu ou de pourcentage (c'est-à-dire en rapport à la taille totale de l'ensemble de données).\n",
    "\n",
    "C'est un outil clé pour l'analyse de données descriptives, qui permet de comprendre la répartition des valeurs dans un ensemble de données.\n",
    "\n",
    "#### L'étendue (minimum,maximum)\n",
    "\n",
    "L'étendue statistique est un concept utilisé pour mesurer la variabilité ou la dispersion des données dans un ensemble de données. Elle est généralement utilisée pour décrire la dispersion des données autour de la moyenne et peut être utilisée pour comparer la variabilité entre différents ensembles de données.\n",
    "\n",
    "#### Le percentile\n",
    "\n",
    "Un percentile est un concept statistique qui décrit la valeur en dessous de laquelle se trouve un certain pourcentage de valeurs dans un ensemble de données. Par exemple, si un élève a obtenu un score de 75ème percentile sur un test, cela signifie qu'il a obtenu un score supérieur à 75% des autres élèves. Les percentiles peuvent être utilisés pour donner une idée de la distribution des données et pour comparer les performances d'une personne à celles des autres dans un groupe.\n",
    "\n",
    "\n",
    "\n",
    "\n",
    "\n",
    "\n",
    "\n",
    "\n"
   ]
  },
  {
   "cell_type": "code",
   "execution_count": 10,
   "id": "08aea541",
   "metadata": {},
   "outputs": [
    {
     "name": "stderr",
     "output_type": "stream",
     "text": [
      "C:\\Users\\Emma\\AppData\\Local\\Temp\\ipykernel_14100\\3234764835.py:2: FutureWarning: Dropping of nuisance columns in DataFrame reductions (with 'numeric_only=None') is deprecated; in a future version this will raise TypeError.  Select only valid columns before calling the reduction.\n",
      "  std_all = bidata.std()\n"
     ]
    },
    {
     "data": {
      "text/plain": [
       "id_colab                 4331.355967\n",
       "number_project              1.230464\n",
       "average_montly_hours       49.775706\n",
       "time_spend_company          1.480360\n",
       "work_accident               0.354173\n",
       "promotion_last_5years       0.140341\n",
       "left                        0.425688\n",
       "dtype: float64"
      ]
     },
     "execution_count": 10,
     "metadata": {},
     "output_type": "execute_result"
    }
   ],
   "source": [
    "#Ecart-type\n",
    "std_all = bidata.std()\n",
    "std_all\n",
    "##on ne tient pas compte de id_colab et left car insignifiant"
   ]
  },
  {
   "cell_type": "markdown",
   "id": "50dd2477",
   "metadata": {},
   "source": [
    "##### D'après le résultat, l'écart-type de \"number_project\" est de 1 donc plutôt homègene et est de 49 pour \"average_montly_hours\" donc plus hétérogène. Nous pouvons donc déduire que les employés sont affectés en générale au même nombre de projet, mais que leurs temps passé au travail est généralement différents pour chacun d'entre eux."
   ]
  },
  {
   "cell_type": "code",
   "execution_count": 11,
   "id": "cbb49cd0",
   "metadata": {},
   "outputs": [
    {
     "name": "stderr",
     "output_type": "stream",
     "text": [
      "C:\\Users\\Emma\\AppData\\Local\\Temp\\ipykernel_14100\\3545053567.py:2: FutureWarning: Dropping of nuisance columns in DataFrame reductions (with 'numeric_only=None') is deprecated; in a future version this will raise TypeError.  Select only valid columns before calling the reduction.\n",
      "  var_all = bidata.var()\n"
     ]
    },
    {
     "data": {
      "text/plain": [
       "id_colab                 1.876064e+07\n",
       "number_project           1.514043e+00\n",
       "average_montly_hours     2.477621e+03\n",
       "time_spend_company       2.191465e+00\n",
       "work_accident            1.254388e-01\n",
       "promotion_last_5years    1.969555e-02\n",
       "left                     1.812103e-01\n",
       "dtype: float64"
      ]
     },
     "execution_count": 11,
     "metadata": {},
     "output_type": "execute_result"
    }
   ],
   "source": [
    "#Variance\n",
    "var_all = bidata.var()\n",
    "var_all\n",
    "##on ne tient pas compte de id_colab et left car insignifiant"
   ]
  },
  {
   "cell_type": "markdown",
   "id": "40536ffb",
   "metadata": {},
   "source": [
    "##### D'après le resultat, la variance de number_project est de 1.5 c'est à dire que la dispertion est proche de la moyenne alors que la variance deaverage_montly_hours est de 2.4 donc plus écarté de la moyenne. "
   ]
  },
  {
   "cell_type": "code",
   "execution_count": 12,
   "id": "cdcc07d9",
   "metadata": {},
   "outputs": [
    {
     "data": {
      "text/plain": [
       "0,1     261\n",
       "0,11    222\n",
       "0,77    177\n",
       "0,74    171\n",
       "0,82    167\n",
       "       ... \n",
       "0,3      22\n",
       "0,26     22\n",
       "0,33     21\n",
       "0,12     20\n",
       "0,27     19\n",
       "Name: satisfaction_level, Length: 92, dtype: int64"
      ]
     },
     "execution_count": 12,
     "metadata": {},
     "output_type": "execute_result"
    }
   ],
   "source": [
    "# Fréquence\n",
    "##on ne tient pas compte de id_colab car insignifiant donc nous n'avons pas calculé sa fréquence.\n",
    "freq_satisfaction_level = bidata['satisfaction_level'].value_counts()\n",
    "freq_satisfaction_level"
   ]
  },
  {
   "cell_type": "code",
   "execution_count": 13,
   "id": "364b49ff",
   "metadata": {
    "scrolled": true
   },
   "outputs": [
    {
     "data": {
      "image/png": "[encoded data removed]",
      "text/plain": [
       "<Figure size 1008x216 with 1 Axes>"
      ]
     },
     "metadata": {
      "needs_background": "light"
     },
     "output_type": "display_data"
    }
   ],
   "source": [
    "freq_satisfaction_level.plot(kind='bar')\n",
    "plt.title(\"Le taux de satisfaction personnel par personne\")\n",
    "plt.xlabel('satisfaction_level', color = 'blue')\n",
    "plt.ylabel('effectif', color = 'blue')\n",
    "plt.gcf().set_size_inches(14, 3)\n",
    "plt.show()"
   ]
  },
  {
   "cell_type": "markdown",
   "id": "3e620a93",
   "metadata": {},
   "source": [
    "##### D'après le resultat, nous pouvons constater que 261 personnes ont répondu 0.1 de taux de satisfaction."
   ]
  },
  {
   "cell_type": "code",
   "execution_count": 14,
   "id": "ad9179f1",
   "metadata": {},
   "outputs": [
    {
     "data": {
      "text/plain": [
       "0,54    248\n",
       "0,55    236\n",
       "0,5     233\n",
       "0,51    227\n",
       "0,53    225\n",
       "       ... \n",
       "0,38     33\n",
       "0,42     32\n",
       "0,43     31\n",
       "0,44     29\n",
       "0,36     16\n",
       "Name: last_evaluation, Length: 65, dtype: int64"
      ]
     },
     "execution_count": 14,
     "metadata": {},
     "output_type": "execute_result"
    }
   ],
   "source": [
    "freq_last_evaluation = bidata['last_evaluation'].value_counts()\n",
    "freq_last_evaluation"
   ]
  },
  {
   "cell_type": "code",
   "execution_count": 15,
   "id": "20afb2ff",
   "metadata": {
    "scrolled": true
   },
   "outputs": [
    {
     "data": {
      "image/png": "[encoded data removed]",
      "text/plain": [
       "<Figure size 864x144 with 1 Axes>"
      ]
     },
     "metadata": {
      "needs_background": "light"
     },
     "output_type": "display_data"
    }
   ],
   "source": [
    "freq_last_evaluation.plot(kind='bar')\n",
    "plt.title(\"Le taux de satisfaction personnel par personne durant la dernière évaluation annuelle\")\n",
    "plt.xlabel('last_evaluation', color = 'blue')\n",
    "plt.ylabel('effectif', color = 'blue')\n",
    "plt.gcf().set_size_inches(12, 2)\n",
    "\n",
    "plt.show()"
   ]
  },
  {
   "cell_type": "markdown",
   "id": "aeb00be7",
   "metadata": {},
   "source": [
    "##### D'après le résultat, nous pouvons constater que l'année dernière 248 personnes (effectif le plus élévé) ont répondu 0.54 de taux de satisfaction. Seulement 16 personnes ont répondu 0.36."
   ]
  },
  {
   "cell_type": "code",
   "execution_count": 16,
   "id": "bc820b2d",
   "metadata": {
    "scrolled": true
   },
   "outputs": [
    {
     "data": {
      "text/plain": [
       "4    2938\n",
       "3    2739\n",
       "5    1830\n",
       "2    1582\n",
       "6     790\n",
       "7     172\n",
       "Name: number_project, dtype: int64"
      ]
     },
     "execution_count": 16,
     "metadata": {},
     "output_type": "execute_result"
    }
   ],
   "source": [
    "freq_number_project = bidata['number_project'].value_counts()\n",
    "freq_number_project"
   ]
  },
  {
   "cell_type": "code",
   "execution_count": 17,
   "id": "747fb53e",
   "metadata": {},
   "outputs": [
    {
     "data": {
      "image/png": "[encoded data removed]",
      "text/plain": [
       "<Figure size 432x288 with 1 Axes>"
      ]
     },
     "metadata": {
      "needs_background": "light"
     },
     "output_type": "display_data"
    }
   ],
   "source": [
    "freq_number_project.plot(kind='bar')\n",
    "plt.title(\"Nombre de projets affectés par personne\")\n",
    "plt.xlabel('number_project', color = 'blue')\n",
    "plt.ylabel('effectif', color = 'blue')\n",
    "plt.show()"
   ]
  },
  {
   "cell_type": "markdown",
   "id": "bce664fb",
   "metadata": {},
   "source": [
    "##### D'après le resulat, 2938 employés ont été affectés à 4 projets et 172 à 7 projets."
   ]
  },
  {
   "cell_type": "code",
   "execution_count": 18,
   "id": "de0010f8",
   "metadata": {},
   "outputs": [
    {
     "data": {
      "text/plain": [
       "156    102\n",
       "149    101\n",
       "140     99\n",
       "151     98\n",
       "159     93\n",
       "      ... \n",
       "288      5\n",
       "297      5\n",
       "96       5\n",
       "299      4\n",
       "303      3\n",
       "Name: average_montly_hours, Length: 215, dtype: int64"
      ]
     },
     "execution_count": 18,
     "metadata": {},
     "output_type": "execute_result"
    }
   ],
   "source": [
    "freq_average_montly_hours = bidata['average_montly_hours'].value_counts()\n",
    "freq_average_montly_hours"
   ]
  },
  {
   "cell_type": "code",
   "execution_count": 19,
   "id": "8e3b6c43",
   "metadata": {},
   "outputs": [
    {
     "data": {
      "text/plain": [
       "high      7138\n",
       "medium    2751\n",
       "low        162\n",
       "Name: average_montly_hours_quali, dtype: int64"
      ]
     },
     "execution_count": 19,
     "metadata": {},
     "output_type": "execute_result"
    }
   ],
   "source": [
    "freq_average_montly_hours_quali = bidata['average_montly_hours_quali'].value_counts()\n",
    "freq_average_montly_hours_quali"
   ]
  },
  {
   "cell_type": "code",
   "execution_count": 20,
   "id": "0611211a",
   "metadata": {},
   "outputs": [
    {
     "data": {
      "image/png": "[encoded data removed]",
      "text/plain": [
       "<Figure size 432x288 with 1 Axes>"
      ]
     },
     "metadata": {
      "needs_background": "light"
     },
     "output_type": "display_data"
    }
   ],
   "source": [
    "#Les colonnes \"average_montly_hours\" et \"average_montly_hours_quali\" étant les même, il est plus simple d'utiliser \"average_montly_hours_quali\" pour faire le graphique.\n",
    "#Il y a moins de données, donc le graphique est plus visible et plus compréhensible. Mais ce sont les même données.\n",
    "freq_average_montly_hours_quali.plot(kind='bar')\n",
    "plt.title(\"La moyenne d'heure travaillé chaque mois dans l'entreprise\")\n",
    "plt.xlabel('average_montly_hours_quali', color = 'blue')\n",
    "plt.ylabel('effectif', color = 'blue')\n",
    "plt.show()"
   ]
  },
  {
   "cell_type": "markdown",
   "id": "a92906f6",
   "metadata": {},
   "source": [
    "##### D'après le résultat, 7238 employés ont travaillés en moyenne plus de 160h/mois et seulement 162 ont travaillés moins de 110h/mois"
   ]
  },
  {
   "cell_type": "code",
   "execution_count": 21,
   "id": "dd14dbbe",
   "metadata": {},
   "outputs": [
    {
     "data": {
      "text/plain": [
       "3     4311\n",
       "2     2174\n",
       "4     1713\n",
       "5      976\n",
       "6      483\n",
       "10     155\n",
       "7      122\n",
       "8      117\n",
       "Name: time_spend_company, dtype: int64"
      ]
     },
     "execution_count": 21,
     "metadata": {},
     "output_type": "execute_result"
    }
   ],
   "source": [
    "freq_time_spend_company = bidata['time_spend_company'].value_counts()\n",
    "freq_time_spend_company"
   ]
  },
  {
   "cell_type": "code",
   "execution_count": 22,
   "id": "1bb00d79",
   "metadata": {},
   "outputs": [
    {
     "data": {
      "image/png": "[encoded data removed]",
      "text/plain": [
       "<Figure size 432x288 with 1 Axes>"
      ]
     },
     "metadata": {
      "needs_background": "light"
     },
     "output_type": "display_data"
    }
   ],
   "source": [
    "freq_time_spend_company.plot(kind='bar')\n",
    "plt.title(\"Le temps passé au seins de l'entreprise, en année\")\n",
    "plt.xlabel('time_spend_company', color = 'blue')\n",
    "plt.ylabel('effectif', color = 'blue')\n",
    "plt.show()"
   ]
  },
  {
   "cell_type": "markdown",
   "id": "059f8dc0",
   "metadata": {},
   "source": [
    "##### D'après le resultat, 4311 employés sont là depuis 3 ans. Pour la minorité d'entre eux soit 117 employés, depuis 8 ans."
   ]
  },
  {
   "cell_type": "code",
   "execution_count": 23,
   "id": "b24f0e99",
   "metadata": {},
   "outputs": [
    {
     "data": {
      "text/plain": [
       "0    8573\n",
       "1    1478\n",
       "Name: work_accident, dtype: int64"
      ]
     },
     "execution_count": 23,
     "metadata": {},
     "output_type": "execute_result"
    }
   ],
   "source": [
    "freq_work_accident = bidata['work_accident'].value_counts()\n",
    "freq_work_accident"
   ]
  },
  {
   "cell_type": "code",
   "execution_count": 24,
   "id": "9249217a",
   "metadata": {},
   "outputs": [
    {
     "data": {
      "image/png": "[encoded data removed]",
      "text/plain": [
       "<Figure size 432x288 with 1 Axes>"
      ]
     },
     "metadata": {},
     "output_type": "display_data"
    }
   ],
   "source": [
    "freq_work_accident.plot(kind='pie', autopct='%1.2f%%')\n",
    "plt.title('Pourcentage de personnes ayant subi ou non un accident du travail')\n",
    "plt.ylabel('')\n",
    "plt.show()"
   ]
  },
  {
   "cell_type": "markdown",
   "id": "d274d80e",
   "metadata": {},
   "source": [
    "##### D'après le résultat, 8573 ou 85% des employés n'ont pas subi d'accident de travail et 1478 ou 14% ont subi un accident du travail."
   ]
  },
  {
   "cell_type": "code",
   "execution_count": 25,
   "id": "238e40cd",
   "metadata": {},
   "outputs": [
    {
     "data": {
      "text/plain": [
       "0    9849\n",
       "1     202\n",
       "Name: promotion_last_5years, dtype: int64"
      ]
     },
     "execution_count": 25,
     "metadata": {},
     "output_type": "execute_result"
    }
   ],
   "source": [
    "freq_promotion_last_5years = bidata['promotion_last_5years'].value_counts()\n",
    "freq_promotion_last_5years"
   ]
  },
  {
   "cell_type": "code",
   "execution_count": 26,
   "id": "6b966f28",
   "metadata": {},
   "outputs": [
    {
     "data": {
      "image/png": "[encoded data removed]",
      "text/plain": [
       "<Figure size 432x288 with 1 Axes>"
      ]
     },
     "metadata": {
      "needs_background": "light"
     },
     "output_type": "display_data"
    }
   ],
   "source": [
    "freq_promotion_last_5years.plot(kind='bar')\n",
    "plt.title('Nombre de personnes ayant reçu ou non une promotion ces 5 dernières années')\n",
    "plt.xlabel('promotion_last_5years', color = 'blue')\n",
    "plt.ylabel('effectif', color = 'blue')\n",
    "plt.show()"
   ]
  },
  {
   "cell_type": "markdown",
   "id": "163fd2ce",
   "metadata": {},
   "source": [
    "##### D'après le résultat, seulement 202 employés ont eu une promotion lors de ces 5 dernières années."
   ]
  },
  {
   "cell_type": "code",
   "execution_count": 27,
   "id": "69b399e4",
   "metadata": {},
   "outputs": [
    {
     "data": {
      "text/plain": [
       "sales          2816\n",
       "technical      1808\n",
       "support        1468\n",
       "IT              852\n",
       "product_mng     586\n",
       "marketing       583\n",
       "RandD           509\n",
       "accounting      502\n",
       "hr              494\n",
       "management      433\n",
       "Name: job, dtype: int64"
      ]
     },
     "execution_count": 27,
     "metadata": {},
     "output_type": "execute_result"
    }
   ],
   "source": [
    "freq_job = bidata['job'].value_counts()\n",
    "freq_job"
   ]
  },
  {
   "cell_type": "code",
   "execution_count": 28,
   "id": "482c948e",
   "metadata": {},
   "outputs": [
    {
     "data": {
      "image/png": "[encoded data removed]",
      "text/plain": [
       "<Figure size 720x720 with 1 Axes>"
      ]
     },
     "metadata": {},
     "output_type": "display_data"
    }
   ],
   "source": [
    "freq_job.plot(kind='pie', autopct='%1.2f%%')\n",
    "plt.title('Les différents jobs des personnes dans notre base de donnée')\n",
    "plt.ylabel('')\n",
    "plt.gcf().set_size_inches(10, 10)\n",
    "\n",
    "plt.show()"
   ]
  },
  {
   "cell_type": "markdown",
   "id": "0e267ce7",
   "metadata": {},
   "source": [
    "##### D'après le résultat, 2816 employés soit 28% ont un poste en vente, et seulement 433 soit 4.3% ont un poste dans le domaine du management."
   ]
  },
  {
   "cell_type": "code",
   "execution_count": 29,
   "id": "875fc9a9",
   "metadata": {},
   "outputs": [
    {
     "data": {
      "text/plain": [
       "low       4899\n",
       "medium    4324\n",
       "high       828\n",
       "Name: salary, dtype: int64"
      ]
     },
     "execution_count": 29,
     "metadata": {},
     "output_type": "execute_result"
    }
   ],
   "source": [
    "freq_salary = bidata['salary'].value_counts()\n",
    "freq_salary"
   ]
  },
  {
   "cell_type": "code",
   "execution_count": 30,
   "id": "bc5bea4e",
   "metadata": {},
   "outputs": [
    {
     "data": {
      "image/png": "[encoded data removed]",
      "text/plain": [
       "<Figure size 432x288 with 1 Axes>"
      ]
     },
     "metadata": {},
     "output_type": "display_data"
    }
   ],
   "source": [
    "freq_salary.plot(kind='pie', autopct='%1.2f%%')\n",
    "plt.title('La fréquence des différents niveau de salaire au sein de notre base de donnée, en %')\n",
    "plt.ylabel('')\n",
    "plt.show()"
   ]
  },
  {
   "cell_type": "markdown",
   "id": "6cb61cd2",
   "metadata": {},
   "source": [
    "##### D'après le résultat, 4899 soit 48.7% des employés ont un salaire faible et 828 soit 8.2% ont un salaire élevé."
   ]
  },
  {
   "cell_type": "code",
   "execution_count": 31,
   "id": "c0db130e",
   "metadata": {},
   "outputs": [
    {
     "data": {
      "text/plain": [
       "0    7662\n",
       "1    2389\n",
       "Name: left, dtype: int64"
      ]
     },
     "execution_count": 31,
     "metadata": {},
     "output_type": "execute_result"
    }
   ],
   "source": [
    "freq_left = bidata['left'].value_counts()\n",
    "freq_left\n",
    "#Les colonnes \"left_quanti\" et \"left\" ont les même données. La fréquence sera donc la même. Yes=1 et No=0."
   ]
  },
  {
   "cell_type": "code",
   "execution_count": 32,
   "id": "f6eaea72",
   "metadata": {},
   "outputs": [
    {
     "data": {
      "image/png": "[encoded data removed]",
      "text/plain": [
       "<Figure size 432x288 with 1 Axes>"
      ]
     },
     "metadata": {
      "needs_background": "light"
     },
     "output_type": "display_data"
    }
   ],
   "source": [
    "freq_left.plot(kind='bar')\n",
    "plt.title(\"Le nombre de personne ayant quitté ou non la compagnie dans l'effectif\")\n",
    "plt.xlabel('left', color = 'blue')\n",
    "plt.ylabel('effectif', color = 'blue')\n",
    "plt.show()"
   ]
  },
  {
   "cell_type": "markdown",
   "id": "ed6ff46c",
   "metadata": {},
   "source": [
    "##### D'après le résultat, 7662 employés sont restés dans l'entreprise et 2389 sont partis."
   ]
  },
  {
   "cell_type": "code",
   "execution_count": 33,
   "id": "503aeedc",
   "metadata": {},
   "outputs": [
    {
     "data": {
      "text/plain": [
       "id_colab                         4\n",
       "satisfaction_level            0,09\n",
       "last_evaluation               0,36\n",
       "number_project                   2\n",
       "average_montly_hours            96\n",
       "time_spend_company               2\n",
       "work_accident                    0\n",
       "promotion_last_5years            0\n",
       "job                             IT\n",
       "salary                        high\n",
       "left                             0\n",
       "left_quanti                     no\n",
       "average_montly_hours_quali     low\n",
       "dtype: object"
      ]
     },
     "execution_count": 33,
     "metadata": {},
     "output_type": "execute_result"
    }
   ],
   "source": [
    "#Etendue min\n",
    "#id_colab,job,salary,left_quanti,average_montly_hours_quali sont insignifiant.\n",
    "min_all = bidata.min()\n",
    "min_all"
   ]
  },
  {
   "cell_type": "markdown",
   "id": "4059e6e9",
   "metadata": {},
   "source": [
    "##### D'après le résultat, le minimum de projets affecté est de 2 et le minimum d'heures effectués par mois est de 96h."
   ]
  },
  {
   "cell_type": "code",
   "execution_count": 34,
   "id": "ae585ab1",
   "metadata": {},
   "outputs": [
    {
     "data": {
      "text/plain": [
       "id_colab                          14998\n",
       "satisfaction_level                    1\n",
       "last_evaluation                       1\n",
       "number_project                        7\n",
       "average_montly_hours                310\n",
       "time_spend_company                   10\n",
       "work_accident                         1\n",
       "promotion_last_5years                 1\n",
       "job                           technical\n",
       "salary                           medium\n",
       "left                                  1\n",
       "left_quanti                         yes\n",
       "average_montly_hours_quali         high\n",
       "dtype: object"
      ]
     },
     "execution_count": 34,
     "metadata": {},
     "output_type": "execute_result"
    }
   ],
   "source": [
    "#Etendue max\n",
    "#id_colab,job,salary,left_quanti,average_montly_hours_quali sont insignifiant.\n",
    "max_all = bidata.max()\n",
    "max_all"
   ]
  },
  {
   "cell_type": "markdown",
   "id": "086f782c",
   "metadata": {},
   "source": [
    "##### D'après le résultat, le nombre maximum projets affecté est de 7 et le maximum d'heures effectués par mois est de 310h."
   ]
  },
  {
   "cell_type": "code",
   "execution_count": 35,
   "id": "76653c19",
   "metadata": {},
   "outputs": [
    {
     "data": {
      "text/html": [
       "<div>\n",
       "<style scoped>\n",
       "    .dataframe tbody tr th:only-of-type {\n",
       "        vertical-align: middle;\n",
       "    }\n",
       "\n",
       "    .dataframe tbody tr th {\n",
       "        vertical-align: top;\n",
       "    }\n",
       "\n",
       "    .dataframe thead th {\n",
       "        text-align: right;\n",
       "    }\n",
       "</style>\n",
       "<table border=\"1\" class=\"dataframe\">\n",
       "  <thead>\n",
       "    <tr style=\"text-align: right;\">\n",
       "      <th></th>\n",
       "      <th>id_colab</th>\n",
       "      <th>number_project</th>\n",
       "      <th>average_montly_hours</th>\n",
       "      <th>time_spend_company</th>\n",
       "      <th>work_accident</th>\n",
       "      <th>promotion_last_5years</th>\n",
       "      <th>left</th>\n",
       "    </tr>\n",
       "  </thead>\n",
       "  <tbody>\n",
       "    <tr>\n",
       "      <th>0.25</th>\n",
       "      <td>3750.5</td>\n",
       "      <td>3.0</td>\n",
       "      <td>156.0</td>\n",
       "      <td>3.0</td>\n",
       "      <td>0.0</td>\n",
       "      <td>0.0</td>\n",
       "      <td>0.0</td>\n",
       "    </tr>\n",
       "    <tr>\n",
       "      <th>0.50</th>\n",
       "      <td>7500.0</td>\n",
       "      <td>4.0</td>\n",
       "      <td>199.0</td>\n",
       "      <td>3.0</td>\n",
       "      <td>0.0</td>\n",
       "      <td>0.0</td>\n",
       "      <td>0.0</td>\n",
       "    </tr>\n",
       "    <tr>\n",
       "      <th>0.75</th>\n",
       "      <td>11249.0</td>\n",
       "      <td>5.0</td>\n",
       "      <td>245.0</td>\n",
       "      <td>4.0</td>\n",
       "      <td>0.0</td>\n",
       "      <td>0.0</td>\n",
       "      <td>0.0</td>\n",
       "    </tr>\n",
       "  </tbody>\n",
       "</table>\n",
       "</div>"
      ],
      "text/plain": [
       "      id_colab  number_project  average_montly_hours  time_spend_company  \\\n",
       "0.25    3750.5             3.0                 156.0                 3.0   \n",
       "0.50    7500.0             4.0                 199.0                 3.0   \n",
       "0.75   11249.0             5.0                 245.0                 4.0   \n",
       "\n",
       "      work_accident  promotion_last_5years  left  \n",
       "0.25            0.0                    0.0   0.0  \n",
       "0.50            0.0                    0.0   0.0  \n",
       "0.75            0.0                    0.0   0.0  "
      ]
     },
     "execution_count": 35,
     "metadata": {},
     "output_type": "execute_result"
    }
   ],
   "source": [
    "#Percentile\n",
    "#id_colab est insignifiant\n",
    "percentiles_all = bidata.quantile([0.25, 0.5, 0.75])\n",
    "percentiles_all"
   ]
  },
  {
   "cell_type": "markdown",
   "id": "5d58e61b",
   "metadata": {},
   "source": [
    "##### D'après le résultat, 25% des employés ont été affectés à 3 projets et 75% à 5 projets. Concernant les heures effectués par mois 25% des employés travaillent 156h/mois et 75% travaillent 245h/mois."
   ]
  },
  {
   "cell_type": "markdown",
   "id": "8a2cb8fd",
   "metadata": {},
   "source": [
    "##### Voici un tableau regroupant l'ensemble des KPIs ci dessus:"
   ]
  },
  {
   "cell_type": "code",
   "execution_count": 36,
   "id": "51b3b4c6",
   "metadata": {},
   "outputs": [
    {
     "data": {
      "text/html": [
       "<div>\n",
       "<style scoped>\n",
       "    .dataframe tbody tr th:only-of-type {\n",
       "        vertical-align: middle;\n",
       "    }\n",
       "\n",
       "    .dataframe tbody tr th {\n",
       "        vertical-align: top;\n",
       "    }\n",
       "\n",
       "    .dataframe thead th {\n",
       "        text-align: right;\n",
       "    }\n",
       "</style>\n",
       "<table border=\"1\" class=\"dataframe\">\n",
       "  <thead>\n",
       "    <tr style=\"text-align: right;\">\n",
       "      <th></th>\n",
       "      <th>id_colab</th>\n",
       "      <th>number_project</th>\n",
       "      <th>average_montly_hours</th>\n",
       "      <th>time_spend_company</th>\n",
       "      <th>work_accident</th>\n",
       "      <th>promotion_last_5years</th>\n",
       "      <th>left</th>\n",
       "    </tr>\n",
       "  </thead>\n",
       "  <tbody>\n",
       "    <tr>\n",
       "      <th>count</th>\n",
       "      <td>10051.00</td>\n",
       "      <td>10051.00</td>\n",
       "      <td>10051.00</td>\n",
       "      <td>10051.00</td>\n",
       "      <td>10051.00</td>\n",
       "      <td>10051.00</td>\n",
       "      <td>10051.00</td>\n",
       "    </tr>\n",
       "    <tr>\n",
       "      <th>mean</th>\n",
       "      <td>7492.24</td>\n",
       "      <td>3.80</td>\n",
       "      <td>200.81</td>\n",
       "      <td>3.51</td>\n",
       "      <td>0.15</td>\n",
       "      <td>0.02</td>\n",
       "      <td>0.24</td>\n",
       "    </tr>\n",
       "    <tr>\n",
       "      <th>std</th>\n",
       "      <td>4331.36</td>\n",
       "      <td>1.23</td>\n",
       "      <td>49.78</td>\n",
       "      <td>1.48</td>\n",
       "      <td>0.35</td>\n",
       "      <td>0.14</td>\n",
       "      <td>0.43</td>\n",
       "    </tr>\n",
       "    <tr>\n",
       "      <th>min</th>\n",
       "      <td>4.00</td>\n",
       "      <td>2.00</td>\n",
       "      <td>96.00</td>\n",
       "      <td>2.00</td>\n",
       "      <td>0.00</td>\n",
       "      <td>0.00</td>\n",
       "      <td>0.00</td>\n",
       "    </tr>\n",
       "    <tr>\n",
       "      <th>25%</th>\n",
       "      <td>3750.50</td>\n",
       "      <td>3.00</td>\n",
       "      <td>156.00</td>\n",
       "      <td>3.00</td>\n",
       "      <td>0.00</td>\n",
       "      <td>0.00</td>\n",
       "      <td>0.00</td>\n",
       "    </tr>\n",
       "    <tr>\n",
       "      <th>50%</th>\n",
       "      <td>7500.00</td>\n",
       "      <td>4.00</td>\n",
       "      <td>199.00</td>\n",
       "      <td>3.00</td>\n",
       "      <td>0.00</td>\n",
       "      <td>0.00</td>\n",
       "      <td>0.00</td>\n",
       "    </tr>\n",
       "    <tr>\n",
       "      <th>75%</th>\n",
       "      <td>11249.00</td>\n",
       "      <td>5.00</td>\n",
       "      <td>245.00</td>\n",
       "      <td>4.00</td>\n",
       "      <td>0.00</td>\n",
       "      <td>0.00</td>\n",
       "      <td>0.00</td>\n",
       "    </tr>\n",
       "    <tr>\n",
       "      <th>max</th>\n",
       "      <td>14998.00</td>\n",
       "      <td>7.00</td>\n",
       "      <td>310.00</td>\n",
       "      <td>10.00</td>\n",
       "      <td>1.00</td>\n",
       "      <td>1.00</td>\n",
       "      <td>1.00</td>\n",
       "    </tr>\n",
       "  </tbody>\n",
       "</table>\n",
       "</div>"
      ],
      "text/plain": [
       "       id_colab number_project average_montly_hours time_spend_company  \\\n",
       "count  10051.00       10051.00             10051.00           10051.00   \n",
       "mean    7492.24           3.80               200.81               3.51   \n",
       "std     4331.36           1.23                49.78               1.48   \n",
       "min        4.00           2.00                96.00               2.00   \n",
       "25%     3750.50           3.00               156.00               3.00   \n",
       "50%     7500.00           4.00               199.00               3.00   \n",
       "75%    11249.00           5.00               245.00               4.00   \n",
       "max    14998.00           7.00               310.00              10.00   \n",
       "\n",
       "      work_accident promotion_last_5years      left  \n",
       "count      10051.00              10051.00  10051.00  \n",
       "mean           0.15                  0.02      0.24  \n",
       "std            0.35                  0.14      0.43  \n",
       "min            0.00                  0.00      0.00  \n",
       "25%            0.00                  0.00      0.00  \n",
       "50%            0.00                  0.00      0.00  \n",
       "75%            0.00                  0.00      0.00  \n",
       "max            1.00                  1.00      1.00  "
      ]
     },
     "execution_count": 36,
     "metadata": {},
     "output_type": "execute_result"
    }
   ],
   "source": [
    "kpi = bidata.describe().applymap('{:.2f}'.format)\n",
    "kpi\n",
    "#On ne tient pas compte de id_colab et left car insignifiant."
   ]
  },
  {
   "cell_type": "markdown",
   "id": "97278f11",
   "metadata": {},
   "source": [
    "# Représentation graphique de la distribution des données"
   ]
  },
  {
   "cell_type": "code",
   "execution_count": 37,
   "id": "f1102fa4",
   "metadata": {},
   "outputs": [
    {
     "data": {
      "text/html": [
       "<div>\n",
       "<style scoped>\n",
       "    .dataframe tbody tr th:only-of-type {\n",
       "        vertical-align: middle;\n",
       "    }\n",
       "\n",
       "    .dataframe tbody tr th {\n",
       "        vertical-align: top;\n",
       "    }\n",
       "\n",
       "    .dataframe thead th {\n",
       "        text-align: right;\n",
       "    }\n",
       "</style>\n",
       "<table border=\"1\" class=\"dataframe\">\n",
       "  <thead>\n",
       "    <tr style=\"text-align: right;\">\n",
       "      <th></th>\n",
       "      <th>id_colab</th>\n",
       "      <th>satisfaction_level</th>\n",
       "      <th>last_evaluation</th>\n",
       "      <th>number_project</th>\n",
       "      <th>average_montly_hours</th>\n",
       "      <th>time_spend_company</th>\n",
       "      <th>work_accident</th>\n",
       "      <th>promotion_last_5years</th>\n",
       "      <th>job</th>\n",
       "      <th>salary</th>\n",
       "      <th>left</th>\n",
       "      <th>left_quanti</th>\n",
       "      <th>average_montly_hours_quali</th>\n",
       "    </tr>\n",
       "  </thead>\n",
       "  <tbody>\n",
       "    <tr>\n",
       "      <th>0</th>\n",
       "      <td>4</td>\n",
       "      <td>0,72</td>\n",
       "      <td>0,87</td>\n",
       "      <td>5</td>\n",
       "      <td>223</td>\n",
       "      <td>5</td>\n",
       "      <td>0</td>\n",
       "      <td>0</td>\n",
       "      <td>sales</td>\n",
       "      <td>low</td>\n",
       "      <td>1</td>\n",
       "      <td>yes</td>\n",
       "      <td>high</td>\n",
       "    </tr>\n",
       "    <tr>\n",
       "      <th>1</th>\n",
       "      <td>5</td>\n",
       "      <td>0,37</td>\n",
       "      <td>0,52</td>\n",
       "      <td>2</td>\n",
       "      <td>159</td>\n",
       "      <td>3</td>\n",
       "      <td>0</td>\n",
       "      <td>0</td>\n",
       "      <td>sales</td>\n",
       "      <td>low</td>\n",
       "      <td>1</td>\n",
       "      <td>yes</td>\n",
       "      <td>medium</td>\n",
       "    </tr>\n",
       "    <tr>\n",
       "      <th>2</th>\n",
       "      <td>7</td>\n",
       "      <td>0,1</td>\n",
       "      <td>0,77</td>\n",
       "      <td>6</td>\n",
       "      <td>247</td>\n",
       "      <td>4</td>\n",
       "      <td>0</td>\n",
       "      <td>0</td>\n",
       "      <td>sales</td>\n",
       "      <td>low</td>\n",
       "      <td>1</td>\n",
       "      <td>yes</td>\n",
       "      <td>high</td>\n",
       "    </tr>\n",
       "    <tr>\n",
       "      <th>3</th>\n",
       "      <td>9</td>\n",
       "      <td>0,89</td>\n",
       "      <td>1</td>\n",
       "      <td>5</td>\n",
       "      <td>224</td>\n",
       "      <td>5</td>\n",
       "      <td>0</td>\n",
       "      <td>0</td>\n",
       "      <td>sales</td>\n",
       "      <td>low</td>\n",
       "      <td>1</td>\n",
       "      <td>yes</td>\n",
       "      <td>high</td>\n",
       "    </tr>\n",
       "    <tr>\n",
       "      <th>4</th>\n",
       "      <td>10</td>\n",
       "      <td>0,42</td>\n",
       "      <td>0,53</td>\n",
       "      <td>2</td>\n",
       "      <td>142</td>\n",
       "      <td>3</td>\n",
       "      <td>0</td>\n",
       "      <td>0</td>\n",
       "      <td>sales</td>\n",
       "      <td>low</td>\n",
       "      <td>1</td>\n",
       "      <td>yes</td>\n",
       "      <td>medium</td>\n",
       "    </tr>\n",
       "  </tbody>\n",
       "</table>\n",
       "</div>"
      ],
      "text/plain": [
       "   id_colab satisfaction_level last_evaluation  number_project  \\\n",
       "0         4               0,72            0,87               5   \n",
       "1         5               0,37            0,52               2   \n",
       "2         7                0,1            0,77               6   \n",
       "3         9               0,89               1               5   \n",
       "4        10               0,42            0,53               2   \n",
       "\n",
       "   average_montly_hours  time_spend_company  work_accident  \\\n",
       "0                   223                   5              0   \n",
       "1                   159                   3              0   \n",
       "2                   247                   4              0   \n",
       "3                   224                   5              0   \n",
       "4                   142                   3              0   \n",
       "\n",
       "   promotion_last_5years    job salary  left left_quanti  \\\n",
       "0                      0  sales    low     1         yes   \n",
       "1                      0  sales    low     1         yes   \n",
       "2                      0  sales    low     1         yes   \n",
       "3                      0  sales    low     1         yes   \n",
       "4                      0  sales    low     1         yes   \n",
       "\n",
       "  average_montly_hours_quali  \n",
       "0                       high  \n",
       "1                     medium  \n",
       "2                       high  \n",
       "3                       high  \n",
       "4                     medium  "
      ]
     },
     "execution_count": 37,
     "metadata": {},
     "output_type": "execute_result"
    }
   ],
   "source": [
    "#Rappelons ici à quoi notre dataframe \"bidata\" ressemble en affichant seulement les 5premières lignes.\n",
    "bidata.head()"
   ]
  },
  {
   "cell_type": "code",
   "execution_count": 38,
   "id": "607b6d4b",
   "metadata": {},
   "outputs": [
    {
     "data": {
      "image/png": "[encoded data removed]",
      "text/plain": [
       "<Figure size 432x288 with 1 Axes>"
      ]
     },
     "metadata": {
      "needs_background": "light"
     },
     "output_type": "display_data"
    }
   ],
   "source": [
    "bidata.groupby(['job','time_spend_company']).size().groupby(level=0).apply(\n",
    "    lambda x: 100 * x / x.sum()\n",
    ").unstack().plot(kind='bar',stacked=True, legend=True)\n",
    "plt.title('Temps passé dans la compagnie (année) en fonction du job')\n",
    "plt.legend(bbox_to_anchor=(1.1,0.5), loc=\"lower right\", \n",
    "                          bbox_transform=plt.gcf().transFigure, title = 'Année')\n",
    "plt.xlabel('job', color = 'blue')\n",
    "plt.ylabel('effectif(%)', color = 'blue')\n",
    "plt.show()"
   ]
  },
  {
   "cell_type": "markdown",
   "id": "a7c6f94f",
   "metadata": {},
   "source": [
    "##### Prenons l'exemple du marketing, nous pouvons constater que les employés du service marketing restent en moyenne 3 ans."
   ]
  },
  {
   "cell_type": "code",
   "execution_count": 39,
   "id": "31e3fcdd",
   "metadata": {
    "scrolled": true
   },
   "outputs": [
    {
     "data": {
      "image/png": "[encoded data removed]",
      "text/plain": [
       "<Figure size 216x216 with 1 Axes>"
      ]
     },
     "metadata": {
      "needs_background": "light"
     },
     "output_type": "display_data"
    }
   ],
   "source": [
    "bidata.groupby(['time_spend_company','number_project']).size().unstack().plot(kind='bar',stacked=True)\n",
    "plt.title(\"Le nombre de projet affecté en fonction de l'ancienneté\")\n",
    "plt.xlabel('Temps passé en années', color = 'blue')\n",
    "plt.ylabel('Effectif', color = 'blue')\n",
    "plt.gcf().set_size_inches(3, 3)\n",
    "plt.show()"
   ]
  },
  {
   "cell_type": "markdown",
   "id": "81e03dee",
   "metadata": {},
   "source": [
    "##### Prenons l'exemple des employés ayant une ancienneté de 3 ans, nous pouvons constater que la minorité ont été affectés 6 projet. Aucun d'entres eux ont 7 projets."
   ]
  },
  {
   "cell_type": "markdown",
   "id": "e4e3fb31",
   "metadata": {},
   "source": [
    "##### Ces graphiques sont un avant goût du prochain chapitre dans lequel nous allons explorer les données grâce à des analyses multivariés."
   ]
  },
  {
   "cell_type": "markdown",
   "id": "bed9580f",
   "metadata": {},
   "source": [
    "# II- Chapitre 2 : Explorer les données\n",
    "\n",
    "Dans ce chapitre nous allons comparer les variables entre elles afin de pouvoir interpreter des résultats. Cela vas nous permettre de mieux comprendre nos données et de comprendre ce qui pousse les employés à quitter l'entreprise.\n",
    "\n",
    "### A-Comparer des variables\n",
    "#### Comparaison de nos variables numériques\n",
    "\n",
    "Voici un tableau de corrélation de nos variables numérique.Le tableau de corrélation est un outil statistique qui montre la force et la direction de la relation entre deux ou plusieurs variables quantitatives. Il peut être utilisé pour identifier les variables qui sont fortement corrélées et qui peuvent influencer les résultats d'une analyse."
   ]
  },
  {
   "cell_type": "code",
   "execution_count": 40,
   "id": "026292cb",
   "metadata": {
    "tags": []
   },
   "outputs": [
    {
     "data": {
      "text/html": [
       "<div>\n",
       "<style scoped>\n",
       "    .dataframe tbody tr th:only-of-type {\n",
       "        vertical-align: middle;\n",
       "    }\n",
       "\n",
       "    .dataframe tbody tr th {\n",
       "        vertical-align: top;\n",
       "    }\n",
       "\n",
       "    .dataframe thead th {\n",
       "        text-align: right;\n",
       "    }\n",
       "</style>\n",
       "<table border=\"1\" class=\"dataframe\">\n",
       "  <thead>\n",
       "    <tr style=\"text-align: right;\">\n",
       "      <th></th>\n",
       "      <th>number_project</th>\n",
       "      <th>average_montly_hours</th>\n",
       "      <th>time_spend_company</th>\n",
       "      <th>work_accident</th>\n",
       "      <th>promotion_last_5years</th>\n",
       "      <th>left</th>\n",
       "    </tr>\n",
       "  </thead>\n",
       "  <tbody>\n",
       "    <tr>\n",
       "      <th>number_project</th>\n",
       "      <td>1.000000</td>\n",
       "      <td>0.400247</td>\n",
       "      <td>0.250878</td>\n",
       "      <td>0.005150</td>\n",
       "      <td>-0.000919</td>\n",
       "      <td>-0.004792</td>\n",
       "    </tr>\n",
       "    <tr>\n",
       "      <th>average_montly_hours</th>\n",
       "      <td>0.400247</td>\n",
       "      <td>1.000000</td>\n",
       "      <td>0.168228</td>\n",
       "      <td>-0.013169</td>\n",
       "      <td>-0.008891</td>\n",
       "      <td>0.056638</td>\n",
       "    </tr>\n",
       "    <tr>\n",
       "      <th>time_spend_company</th>\n",
       "      <td>0.250878</td>\n",
       "      <td>0.168228</td>\n",
       "      <td>1.000000</td>\n",
       "      <td>-0.022982</td>\n",
       "      <td>0.033373</td>\n",
       "      <td>0.270494</td>\n",
       "    </tr>\n",
       "    <tr>\n",
       "      <th>work_accident</th>\n",
       "      <td>0.005150</td>\n",
       "      <td>-0.013169</td>\n",
       "      <td>-0.022982</td>\n",
       "      <td>1.000000</td>\n",
       "      <td>0.032622</td>\n",
       "      <td>-0.155293</td>\n",
       "    </tr>\n",
       "    <tr>\n",
       "      <th>promotion_last_5years</th>\n",
       "      <td>-0.000919</td>\n",
       "      <td>-0.008891</td>\n",
       "      <td>0.033373</td>\n",
       "      <td>0.032622</td>\n",
       "      <td>1.000000</td>\n",
       "      <td>-0.061647</td>\n",
       "    </tr>\n",
       "    <tr>\n",
       "      <th>left</th>\n",
       "      <td>-0.004792</td>\n",
       "      <td>0.056638</td>\n",
       "      <td>0.270494</td>\n",
       "      <td>-0.155293</td>\n",
       "      <td>-0.061647</td>\n",
       "      <td>1.000000</td>\n",
       "    </tr>\n",
       "  </tbody>\n",
       "</table>\n",
       "</div>"
      ],
      "text/plain": [
       "                       number_project  average_montly_hours  \\\n",
       "number_project               1.000000              0.400247   \n",
       "average_montly_hours         0.400247              1.000000   \n",
       "time_spend_company           0.250878              0.168228   \n",
       "work_accident                0.005150             -0.013169   \n",
       "promotion_last_5years       -0.000919             -0.008891   \n",
       "left                        -0.004792              0.056638   \n",
       "\n",
       "                       time_spend_company  work_accident  \\\n",
       "number_project                   0.250878       0.005150   \n",
       "average_montly_hours             0.168228      -0.013169   \n",
       "time_spend_company               1.000000      -0.022982   \n",
       "work_accident                   -0.022982       1.000000   \n",
       "promotion_last_5years            0.033373       0.032622   \n",
       "left                             0.270494      -0.155293   \n",
       "\n",
       "                       promotion_last_5years      left  \n",
       "number_project                     -0.000919 -0.004792  \n",
       "average_montly_hours               -0.008891  0.056638  \n",
       "time_spend_company                  0.033373  0.270494  \n",
       "work_accident                       0.032622 -0.155293  \n",
       "promotion_last_5years               1.000000 -0.061647  \n",
       "left                               -0.061647  1.000000  "
      ]
     },
     "execution_count": 40,
     "metadata": {},
     "output_type": "execute_result"
    }
   ],
   "source": [
    "bidata_numericvalues = bidata[['satisfaction_level','last_evaluation','number_project','average_montly_hours','time_spend_company','work_accident','promotion_last_5years','left']]\n",
    "corr_matrix = bidata_numericvalues.corr(method='spearman')\n",
    "corr_matrix"
   ]
  },
  {
   "cell_type": "markdown",
   "id": "974d9edc",
   "metadata": {},
   "source": [
    "Voici une représentation graphique via une heatmap de ce tableau de corrélation qui nous permet d'avoir une meilleur visualisation des résultats : "
   ]
  },
  {
   "cell_type": "code",
   "execution_count": 41,
   "id": "c60aa3b0",
   "metadata": {},
   "outputs": [
    {
     "ename": "NameError",
     "evalue": "name 'sns' is not defined",
     "output_type": "error",
     "traceback": [
      "\u001b[1;31m---------------------------------------------------------------------------\u001b[0m",
      "\u001b[1;31mNameError\u001b[0m                                 Traceback (most recent call last)",
      "Input \u001b[1;32mIn [41]\u001b[0m, in \u001b[0;36m<cell line: 1>\u001b[1;34m()\u001b[0m\n\u001b[1;32m----> 1\u001b[0m \u001b[43msns\u001b[49m\u001b[38;5;241m.\u001b[39mheatmap(corr_matrix, annot\u001b[38;5;241m=\u001b[39m\u001b[38;5;28;01mTrue\u001b[39;00m, cmap\u001b[38;5;241m=\u001b[39m\u001b[38;5;124m'\u001b[39m\u001b[38;5;124mcoolwarm\u001b[39m\u001b[38;5;124m'\u001b[39m)\n\u001b[0;32m      2\u001b[0m \u001b[38;5;28mprint\u001b[39m(sns\u001b[38;5;241m.\u001b[39mheatmap)\n",
      "\u001b[1;31mNameError\u001b[0m: name 'sns' is not defined"
     ]
    }
   ],
   "source": [
    "sns.heatmap(corr_matrix, annot=True, cmap='coolwarm')\n",
    "print(sns.heatmap)"
   ]
  },
  {
   "cell_type": "markdown",
   "id": "b21944fc",
   "metadata": {},
   "source": [
    "#### Comparaison de nos variables qualitatives et test Chi2\n",
    "Afin de pouvoir comparer nos variables qualitatives nous allons utiliser la méthode du Chi2. En effet, cette méthode permet d'évaluer si une différence observée entre les fréquences observées et les fréquences théoriques est statistiquement significative.Le test du chi2 est souvent utilisé dans les sciences sociales et la médecine pour déterminer si une association statistique existe entre deux variables catégoriques, telles que le sexe et une maladie, ou l'âge et un comportement de consommation. L'intérêt du test du Khi² est de mesurer l'indépendance entre deux variables qualitatives à partir du tableau de contigence. \n",
    "\n",
    "##### Pour notre étude, nous allons comparer la variable \"left\" avec le reste des variables qualitatives.\n"
   ]
  },
  {
   "cell_type": "markdown",
   "id": "26ec7244-62c0-4983-bc0c-537a5571678a",
   "metadata": {},
   "source": [
    "##### ces deux liens nous ont aidé pour la compréhention du Test Chi-2 \n",
    "- https://asardell.github.io/statistique-python/\n",
    "- https://www.pythonfordatascience.org/chi-square-test-of-independence-python/"
   ]
  },
  {
   "cell_type": "markdown",
   "id": "9a004e5a-0902-4630-9273-1488c76d45d7",
   "metadata": {},
   "source": [
    "On pose les hypothèses de départ :\n",
    "- H0 : Variables indépendantes si p-value > 5%\n",
    "- H1 : Variables non indépendantes si p-value < 5%"
   ]
  },
  {
   "cell_type": "code",
   "execution_count": 79,
   "id": "ef8b0935",
   "metadata": {},
   "outputs": [
    {
     "data": {
      "text/html": [
       "<div>\n",
       "<style scoped>\n",
       "    .dataframe tbody tr th:only-of-type {\n",
       "        vertical-align: middle;\n",
       "    }\n",
       "\n",
       "    .dataframe tbody tr th {\n",
       "        vertical-align: top;\n",
       "    }\n",
       "\n",
       "    .dataframe thead th {\n",
       "        text-align: right;\n",
       "    }\n",
       "</style>\n",
       "<table border=\"1\" class=\"dataframe\">\n",
       "  <thead>\n",
       "    <tr style=\"text-align: right;\">\n",
       "      <th>salary</th>\n",
       "      <th>high</th>\n",
       "      <th>low</th>\n",
       "      <th>medium</th>\n",
       "    </tr>\n",
       "    <tr>\n",
       "      <th>left</th>\n",
       "      <th></th>\n",
       "      <th></th>\n",
       "      <th></th>\n",
       "    </tr>\n",
       "  </thead>\n",
       "  <tbody>\n",
       "    <tr>\n",
       "      <th>0</th>\n",
       "      <td>770</td>\n",
       "      <td>3452</td>\n",
       "      <td>3440</td>\n",
       "    </tr>\n",
       "    <tr>\n",
       "      <th>1</th>\n",
       "      <td>58</td>\n",
       "      <td>1447</td>\n",
       "      <td>884</td>\n",
       "    </tr>\n",
       "  </tbody>\n",
       "</table>\n",
       "</div>"
      ],
      "text/plain": [
       "salary  high   low  medium\n",
       "left                      \n",
       "0        770  3452    3440\n",
       "1         58  1447     884"
      ]
     },
     "execution_count": 79,
     "metadata": {},
     "output_type": "execute_result"
    }
   ],
   "source": [
    "#tableau de contingence\n",
    "df_ls = pd.crosstab(bidata.left, bidata.salary)\n",
    "df_ls"
   ]
  },
  {
   "cell_type": "code",
   "execution_count": 80,
   "id": "2ad62bdb-f66d-4bbb-8eb1-0d8961a02449",
   "metadata": {},
   "outputs": [
    {
     "data": {
      "text/plain": [
       "7.126387442442354e-54"
      ]
     },
     "execution_count": 80,
     "metadata": {},
     "output_type": "execute_result"
    }
   ],
   "source": [
    "#calcule de la contingence\n",
    "from scipy.stats import chi2_contingency\n",
    "Khi2_obs, p_value, ddl, effectif_theorique = chi2_contingency(df_ls)\n",
    "p_value"
   ]
  },
  {
   "cell_type": "markdown",
   "id": "07850b9c-c2e0-401f-9c08-2d97091eaaf8",
   "metadata": {},
   "source": [
    "Ici p-value > 5% donc les variables sont idépendantes."
   ]
  },
  {
   "cell_type": "code",
   "execution_count": 51,
   "id": "f131b28a",
   "metadata": {
    "scrolled": true
   },
   "outputs": [
    {
     "data": {
      "text/plain": [
       "<matplotlib.image.AxesImage at 0x189474b87c0>"
      ]
     },
     "execution_count": 51,
     "metadata": {},
     "output_type": "execute_result"
    },
    {
     "data": {
      "image/png": "[encoded data removed]",
      "text/plain": [
       "<Figure size 432x288 with 1 Axes>"
      ]
     },
     "metadata": {
      "needs_background": "light"
     },
     "output_type": "display_data"
    }
   ],
   "source": [
    "imgsalleft = plt.imread(\"salaryleft.png\")\n",
    "plt.imshow(imgsalleft)"
   ]
  },
  {
   "cell_type": "markdown",
   "id": "a524f65c",
   "metadata": {},
   "source": [
    "Nous pouvons voir que les personnes qui ont quitté l'entreprise avaient en majorité un salaire bas."
   ]
  },
  {
   "cell_type": "code",
   "execution_count": 77,
   "id": "b2970ad4-c6fd-4fee-98eb-edddc0affdee",
   "metadata": {},
   "outputs": [
    {
     "data": {
      "text/html": [
       "<div>\n",
       "<style scoped>\n",
       "    .dataframe tbody tr th:only-of-type {\n",
       "        vertical-align: middle;\n",
       "    }\n",
       "\n",
       "    .dataframe tbody tr th {\n",
       "        vertical-align: top;\n",
       "    }\n",
       "\n",
       "    .dataframe thead th {\n",
       "        text-align: right;\n",
       "    }\n",
       "</style>\n",
       "<table border=\"1\" class=\"dataframe\">\n",
       "  <thead>\n",
       "    <tr style=\"text-align: right;\">\n",
       "      <th>work_accident</th>\n",
       "      <th>0</th>\n",
       "      <th>1</th>\n",
       "    </tr>\n",
       "    <tr>\n",
       "      <th>left</th>\n",
       "      <th></th>\n",
       "      <th></th>\n",
       "    </tr>\n",
       "  </thead>\n",
       "  <tbody>\n",
       "    <tr>\n",
       "      <th>0</th>\n",
       "      <td>6300</td>\n",
       "      <td>1362</td>\n",
       "    </tr>\n",
       "    <tr>\n",
       "      <th>1</th>\n",
       "      <td>2273</td>\n",
       "      <td>116</td>\n",
       "    </tr>\n",
       "  </tbody>\n",
       "</table>\n",
       "</div>"
      ],
      "text/plain": [
       "work_accident     0     1\n",
       "left                     \n",
       "0              6300  1362\n",
       "1              2273   116"
      ]
     },
     "execution_count": 77,
     "metadata": {},
     "output_type": "execute_result"
    }
   ],
   "source": [
    "#on fait la même chose avec les autres variables qualitatives\n",
    "df_lwa = pd.crosstab(bidata.left, bidata.work_accident)\n",
    "df_lwa"
   ]
  },
  {
   "cell_type": "code",
   "execution_count": 81,
   "id": "8e83f47d-097b-4200-8a46-78af03eece79",
   "metadata": {},
   "outputs": [
    {
     "data": {
      "text/plain": [
       "1.9854177373977723e-54"
      ]
     },
     "execution_count": 81,
     "metadata": {},
     "output_type": "execute_result"
    }
   ],
   "source": [
    "Khi2_obs, p_value, ddl, effectif_theorique = chi2_contingency(df_lwa)\n",
    "p_value"
   ]
  },
  {
   "cell_type": "markdown",
   "id": "5fcaf78a-7b47-44e2-9050-4bc0ea34da6a",
   "metadata": {},
   "source": [
    "Ici p-value < 5% donc les variables sont dépendantes."
   ]
  },
  {
   "cell_type": "code",
   "execution_count": 57,
   "id": "9e6391b9",
   "metadata": {},
   "outputs": [
    {
     "data": {
      "text/plain": [
       "<matplotlib.image.AxesImage at 0x189476471c0>"
      ]
     },
     "execution_count": 57,
     "metadata": {},
     "output_type": "execute_result"
    },
    {
     "data": {
      "image/png": "[encoded data removed]",
      "text/plain": [
       "<Figure size 432x288 with 1 Axes>"
      ]
     },
     "metadata": {
      "needs_background": "light"
     },
     "output_type": "display_data"
    }
   ],
   "source": [
    "imgwaleft = plt.imread(\"accileft.png\")\n",
    "plt.imshow(imgwaleft)"
   ]
  },
  {
   "cell_type": "markdown",
   "id": "83d4be3e",
   "metadata": {},
   "source": [
    "Nous pouvons constater que les accidents de travail n'ont pas impacté les départs des employés."
   ]
  },
  {
   "cell_type": "code",
   "execution_count": 82,
   "id": "cec76f57-f82b-4f72-9f6a-79a9aee67d9b",
   "metadata": {},
   "outputs": [
    {
     "data": {
      "text/html": [
       "<div>\n",
       "<style scoped>\n",
       "    .dataframe tbody tr th:only-of-type {\n",
       "        vertical-align: middle;\n",
       "    }\n",
       "\n",
       "    .dataframe tbody tr th {\n",
       "        vertical-align: top;\n",
       "    }\n",
       "\n",
       "    .dataframe thead th {\n",
       "        text-align: right;\n",
       "    }\n",
       "</style>\n",
       "<table border=\"1\" class=\"dataframe\">\n",
       "  <thead>\n",
       "    <tr style=\"text-align: right;\">\n",
       "      <th>promotion_last_5years</th>\n",
       "      <th>0</th>\n",
       "      <th>1</th>\n",
       "    </tr>\n",
       "    <tr>\n",
       "      <th>left</th>\n",
       "      <th></th>\n",
       "      <th></th>\n",
       "    </tr>\n",
       "  </thead>\n",
       "  <tbody>\n",
       "    <tr>\n",
       "      <th>0</th>\n",
       "      <td>7471</td>\n",
       "      <td>191</td>\n",
       "    </tr>\n",
       "    <tr>\n",
       "      <th>1</th>\n",
       "      <td>2378</td>\n",
       "      <td>11</td>\n",
       "    </tr>\n",
       "  </tbody>\n",
       "</table>\n",
       "</div>"
      ],
      "text/plain": [
       "promotion_last_5years     0    1\n",
       "left                            \n",
       "0                      7471  191\n",
       "1                      2378   11"
      ]
     },
     "execution_count": 82,
     "metadata": {},
     "output_type": "execute_result"
    }
   ],
   "source": [
    "df_lp = pd.crosstab(bidata.left, bidata.promotion_last_5years)\n",
    "df_lp"
   ]
  },
  {
   "cell_type": "code",
   "execution_count": 83,
   "id": "89726a16-3608-4732-9b97-b935244a3e34",
   "metadata": {},
   "outputs": [
    {
     "data": {
      "text/plain": [
       "1.0813878149068868e-09"
      ]
     },
     "execution_count": 83,
     "metadata": {},
     "output_type": "execute_result"
    }
   ],
   "source": [
    "Khi2_obs, p_value, ddl, effectif_theorique = chi2_contingency(df_lp)\n",
    "p_value"
   ]
  },
  {
   "cell_type": "markdown",
   "id": "5f0d866b-9925-4c5b-91bf-d82fd0a5c3d8",
   "metadata": {},
   "source": [
    "Ici p-value < 5% donc les variables sont dépendantes."
   ]
  },
  {
   "cell_type": "code",
   "execution_count": 90,
   "id": "7783816a",
   "metadata": {},
   "outputs": [
    {
     "data": {
      "text/plain": [
       "<matplotlib.image.AxesImage at 0x18948b61340>"
      ]
     },
     "execution_count": 90,
     "metadata": {},
     "output_type": "execute_result"
    },
    {
     "data": {
      "image/png": "[encoded data removed]",
      "text/plain": [
       "<Figure size 432x288 with 1 Axes>"
      ]
     },
     "metadata": {
      "needs_background": "light"
     },
     "output_type": "display_data"
    }
   ],
   "source": [
    "imgpromoleft = plt.imread(\"promotion5years.png\")\n",
    "plt.imshow(imgpromoleft)"
   ]
  },
  {
   "cell_type": "markdown",
   "id": "4bd5281f",
   "metadata": {},
   "source": [
    "Nous pouvons constater que la plupart des employés ayant quitté l'entreprise n'ont pas eu de promotions."
   ]
  },
  {
   "cell_type": "code",
   "execution_count": 75,
   "id": "dbb927c2-555a-4178-969a-f12f218f218f",
   "metadata": {},
   "outputs": [
    {
     "data": {
      "text/html": [
       "<div>\n",
       "<style scoped>\n",
       "    .dataframe tbody tr th:only-of-type {\n",
       "        vertical-align: middle;\n",
       "    }\n",
       "\n",
       "    .dataframe tbody tr th {\n",
       "        vertical-align: top;\n",
       "    }\n",
       "\n",
       "    .dataframe thead th {\n",
       "        text-align: right;\n",
       "    }\n",
       "</style>\n",
       "<table border=\"1\" class=\"dataframe\">\n",
       "  <thead>\n",
       "    <tr style=\"text-align: right;\">\n",
       "      <th>job</th>\n",
       "      <th>IT</th>\n",
       "      <th>RandD</th>\n",
       "      <th>accounting</th>\n",
       "      <th>hr</th>\n",
       "      <th>management</th>\n",
       "      <th>marketing</th>\n",
       "      <th>product_mng</th>\n",
       "      <th>sales</th>\n",
       "      <th>support</th>\n",
       "      <th>technical</th>\n",
       "    </tr>\n",
       "    <tr>\n",
       "      <th>left</th>\n",
       "      <th></th>\n",
       "      <th></th>\n",
       "      <th></th>\n",
       "      <th></th>\n",
       "      <th></th>\n",
       "      <th></th>\n",
       "      <th></th>\n",
       "      <th></th>\n",
       "      <th></th>\n",
       "      <th></th>\n",
       "    </tr>\n",
       "  </thead>\n",
       "  <tbody>\n",
       "    <tr>\n",
       "      <th>0</th>\n",
       "      <td>659</td>\n",
       "      <td>434</td>\n",
       "      <td>352</td>\n",
       "      <td>350</td>\n",
       "      <td>372</td>\n",
       "      <td>447</td>\n",
       "      <td>458</td>\n",
       "      <td>2137</td>\n",
       "      <td>1096</td>\n",
       "      <td>1357</td>\n",
       "    </tr>\n",
       "    <tr>\n",
       "      <th>1</th>\n",
       "      <td>193</td>\n",
       "      <td>75</td>\n",
       "      <td>150</td>\n",
       "      <td>144</td>\n",
       "      <td>61</td>\n",
       "      <td>136</td>\n",
       "      <td>128</td>\n",
       "      <td>679</td>\n",
       "      <td>372</td>\n",
       "      <td>451</td>\n",
       "    </tr>\n",
       "  </tbody>\n",
       "</table>\n",
       "</div>"
      ],
      "text/plain": [
       "job    IT  RandD  accounting   hr  management  marketing  product_mng  sales  \\\n",
       "left                                                                           \n",
       "0     659    434         352  350         372        447          458   2137   \n",
       "1     193     75         150  144          61        136          128    679   \n",
       "\n",
       "job   support  technical  \n",
       "left                      \n",
       "0        1096       1357  \n",
       "1         372        451  "
      ]
     },
     "execution_count": 75,
     "metadata": {},
     "output_type": "execute_result"
    }
   ],
   "source": [
    "df_lj = pd.crosstab(bidata.left, bidata.job)\n",
    "df_lj"
   ]
  },
  {
   "cell_type": "code",
   "execution_count": null,
   "id": "952afa10-3772-4fcc-ad36-11727a93cc1a",
   "metadata": {},
   "outputs": [],
   "source": [
    "Khi2_obs, p_value, ddl, effectif_theorique = chi2_contingency(df_lj)\n",
    "p_value"
   ]
  },
  {
   "cell_type": "markdown",
   "id": "313e37c0-d88a-4140-8728-5151d3c0f783",
   "metadata": {},
   "source": [
    "Ici p-value < 5% donc les variables sont dépendantes."
   ]
  },
  {
   "cell_type": "code",
   "execution_count": 91,
   "id": "577b411d",
   "metadata": {},
   "outputs": [
    {
     "data": {
      "text/plain": [
       "<matplotlib.image.AxesImage at 0x18948bc5280>"
      ]
     },
     "execution_count": 91,
     "metadata": {},
     "output_type": "execute_result"
    },
    {
     "data": {
      "image/png": "[encoded data removed]",
      "text/plain": [
       "<Figure size 432x288 with 1 Axes>"
      ]
     },
     "metadata": {
      "needs_background": "light"
     },
     "output_type": "display_data"
    }
   ],
   "source": [
    "imgjobleft = plt.imread(\"nbleftjob.png\")\n",
    "plt.imshow(imgjobleft)"
   ]
  },
  {
   "cell_type": "markdown",
   "id": "7890fc75",
   "metadata": {},
   "source": [
    "Les résultats nous montrent que le département qui souffre le plus des départs est celui des ventes."
   ]
  },
  {
   "cell_type": "markdown",
   "id": "baccaeca",
   "metadata": {},
   "source": [
    "#### Comparaison de nos variables quantitatives et qualitatives avec la méthode ANOVA\n",
    "\n",
    "Afin de comparer des variables quantitatives et qualitatives entres elles nous allons utiliser la méthode ANOVA.Cette méthode sert à évaluer l'effet d'une ou plusieurs variables explicatives sur une variable réponse. Elle permet de déterminer si les différences observées dans la variable réponse peuvent être attribuées à des différences dans les valeurs des variables explicatives ou sont le résultat d'une variation aléatoire. Cette méthode est souvent utilisée en analyse statistique pour des expériences scientifiques, en marketing pour des tests d'hypothèses sur les produits ou les segments de marché, et en économie pour des études de marché.\n",
    "\n",
    "Nous avons ici pris des variables qu'il nous semblais logique d'étudier"
   ]
  },
  {
   "cell_type": "code",
   "execution_count": 92,
   "id": "3bb1ff2a",
   "metadata": {},
   "outputs": [
    {
     "data": {
      "text/plain": [
       "<matplotlib.image.AxesImage at 0x18948c14ee0>"
      ]
     },
     "execution_count": 92,
     "metadata": {},
     "output_type": "execute_result"
    },
    {
     "data": {
      "image/png": "[encoded data removed]",
      "text/plain": [
       "<Figure size 432x288 with 1 Axes>"
      ]
     },
     "metadata": {
      "needs_background": "light"
     },
     "output_type": "display_data"
    }
   ],
   "source": [
    "#Tableau méthode anova en fonction de satisfaction_level en corrélation avec job et salary\n",
    "imganova = plt.imread(\"anova.png\")\n",
    "plt.imshow(imganova)"
   ]
  },
  {
   "cell_type": "code",
   "execution_count": 94,
   "id": "a7f3de0b",
   "metadata": {},
   "outputs": [
    {
     "data": {
      "text/plain": [
       "<matplotlib.image.AxesImage at 0x1894e9bb880>"
      ]
     },
     "execution_count": 94,
     "metadata": {},
     "output_type": "execute_result"
    },
    {
     "data": {
      "image/png": "[encoded data removed]",
      "text/plain": [
       "<Figure size 432x288 with 1 Axes>"
      ]
     },
     "metadata": {
      "needs_background": "light"
     },
     "output_type": "display_data"
    }
   ],
   "source": [
    "#Tableau méthode anova en fonction de average_monthly_hours en corrélation avec job et salary\n",
    "imganovaav = plt.imread(\"anova2.png\")\n",
    "plt.imshow(imganovaav)"
   ]
  },
  {
   "cell_type": "code",
   "execution_count": 96,
   "id": "652a11e0",
   "metadata": {},
   "outputs": [
    {
     "data": {
      "text/plain": [
       "<matplotlib.image.AxesImage at 0x1894f14a3a0>"
      ]
     },
     "execution_count": 96,
     "metadata": {},
     "output_type": "execute_result"
    },
    {
     "data": {
      "image/png": "[encoded data removed]",
      "text/plain": [
       "<Figure size 432x288 with 1 Axes>"
      ]
     },
     "metadata": {
      "needs_background": "light"
     },
     "output_type": "display_data"
    }
   ],
   "source": [
    "#Tableau méthode anova en fonction de last_evalutation en corrélation avec job et work accident\n",
    "imganova3 = plt.imread(\"anova3.png\")\n",
    "plt.imshow(imganova3)"
   ]
  },
  {
   "cell_type": "markdown",
   "id": "0f938689-50fa-4a9a-88d7-99320d989590",
   "metadata": {},
   "source": [
    "### B-Représenter graphiquement les relations entre les variables"
   ]
  },
  {
   "cell_type": "markdown",
   "id": "56e62ce2-80dc-45df-898e-69ffd2de1434",
   "metadata": {},
   "source": [
    "Dans cette partie, nous allons representer graphiquement les relations entre les variables que nous jugeons pertinentes pour notre analyse."
   ]
  },
  {
   "cell_type": "code",
   "execution_count": 58,
   "id": "db631b54-dd1f-44f4-848e-40e264b78cf5",
   "metadata": {},
   "outputs": [
    {
     "data": {
      "text/html": [
       "<div>\n",
       "<style scoped>\n",
       "    .dataframe tbody tr th:only-of-type {\n",
       "        vertical-align: middle;\n",
       "    }\n",
       "\n",
       "    .dataframe tbody tr th {\n",
       "        vertical-align: top;\n",
       "    }\n",
       "\n",
       "    .dataframe thead th {\n",
       "        text-align: right;\n",
       "    }\n",
       "</style>\n",
       "<table border=\"1\" class=\"dataframe\">\n",
       "  <thead>\n",
       "    <tr style=\"text-align: right;\">\n",
       "      <th></th>\n",
       "      <th>id_colab</th>\n",
       "      <th>satisfaction_level</th>\n",
       "      <th>last_evaluation</th>\n",
       "      <th>number_project</th>\n",
       "      <th>average_montly_hours</th>\n",
       "      <th>time_spend_company</th>\n",
       "      <th>work_accident</th>\n",
       "      <th>promotion_last_5years</th>\n",
       "      <th>job</th>\n",
       "      <th>salary</th>\n",
       "      <th>left</th>\n",
       "      <th>left_quanti</th>\n",
       "      <th>average_montly_hours_quali</th>\n",
       "    </tr>\n",
       "  </thead>\n",
       "  <tbody>\n",
       "    <tr>\n",
       "      <th>0</th>\n",
       "      <td>4</td>\n",
       "      <td>0,72</td>\n",
       "      <td>0,87</td>\n",
       "      <td>5</td>\n",
       "      <td>223</td>\n",
       "      <td>5</td>\n",
       "      <td>0</td>\n",
       "      <td>0</td>\n",
       "      <td>sales</td>\n",
       "      <td>low</td>\n",
       "      <td>1</td>\n",
       "      <td>yes</td>\n",
       "      <td>high</td>\n",
       "    </tr>\n",
       "    <tr>\n",
       "      <th>1</th>\n",
       "      <td>5</td>\n",
       "      <td>0,37</td>\n",
       "      <td>0,52</td>\n",
       "      <td>2</td>\n",
       "      <td>159</td>\n",
       "      <td>3</td>\n",
       "      <td>0</td>\n",
       "      <td>0</td>\n",
       "      <td>sales</td>\n",
       "      <td>low</td>\n",
       "      <td>1</td>\n",
       "      <td>yes</td>\n",
       "      <td>medium</td>\n",
       "    </tr>\n",
       "    <tr>\n",
       "      <th>2</th>\n",
       "      <td>7</td>\n",
       "      <td>0,1</td>\n",
       "      <td>0,77</td>\n",
       "      <td>6</td>\n",
       "      <td>247</td>\n",
       "      <td>4</td>\n",
       "      <td>0</td>\n",
       "      <td>0</td>\n",
       "      <td>sales</td>\n",
       "      <td>low</td>\n",
       "      <td>1</td>\n",
       "      <td>yes</td>\n",
       "      <td>high</td>\n",
       "    </tr>\n",
       "    <tr>\n",
       "      <th>3</th>\n",
       "      <td>9</td>\n",
       "      <td>0,89</td>\n",
       "      <td>1</td>\n",
       "      <td>5</td>\n",
       "      <td>224</td>\n",
       "      <td>5</td>\n",
       "      <td>0</td>\n",
       "      <td>0</td>\n",
       "      <td>sales</td>\n",
       "      <td>low</td>\n",
       "      <td>1</td>\n",
       "      <td>yes</td>\n",
       "      <td>high</td>\n",
       "    </tr>\n",
       "    <tr>\n",
       "      <th>4</th>\n",
       "      <td>10</td>\n",
       "      <td>0,42</td>\n",
       "      <td>0,53</td>\n",
       "      <td>2</td>\n",
       "      <td>142</td>\n",
       "      <td>3</td>\n",
       "      <td>0</td>\n",
       "      <td>0</td>\n",
       "      <td>sales</td>\n",
       "      <td>low</td>\n",
       "      <td>1</td>\n",
       "      <td>yes</td>\n",
       "      <td>medium</td>\n",
       "    </tr>\n",
       "  </tbody>\n",
       "</table>\n",
       "</div>"
      ],
      "text/plain": [
       "   id_colab satisfaction_level last_evaluation  number_project  \\\n",
       "0         4               0,72            0,87               5   \n",
       "1         5               0,37            0,52               2   \n",
       "2         7                0,1            0,77               6   \n",
       "3         9               0,89               1               5   \n",
       "4        10               0,42            0,53               2   \n",
       "\n",
       "   average_montly_hours  time_spend_company  work_accident  \\\n",
       "0                   223                   5              0   \n",
       "1                   159                   3              0   \n",
       "2                   247                   4              0   \n",
       "3                   224                   5              0   \n",
       "4                   142                   3              0   \n",
       "\n",
       "   promotion_last_5years    job salary  left left_quanti  \\\n",
       "0                      0  sales    low     1         yes   \n",
       "1                      0  sales    low     1         yes   \n",
       "2                      0  sales    low     1         yes   \n",
       "3                      0  sales    low     1         yes   \n",
       "4                      0  sales    low     1         yes   \n",
       "\n",
       "  average_montly_hours_quali  \n",
       "0                       high  \n",
       "1                     medium  \n",
       "2                       high  \n",
       "3                       high  \n",
       "4                     medium  "
      ]
     },
     "execution_count": 58,
     "metadata": {},
     "output_type": "execute_result"
    }
   ],
   "source": [
    "#Rappelons ici à quoi notre dataframe \"bidata\" ressemble en affichant seulement les 5premières lignes.\n",
    "bidata.head()\n"
   ]
  },
  {
   "cell_type": "code",
   "execution_count": 59,
   "id": "dfc23410-a18d-45ef-86ca-68ea23611858",
   "metadata": {},
   "outputs": [
    {
     "data": {
      "text/html": [
       "<div>\n",
       "<style scoped>\n",
       "    .dataframe tbody tr th:only-of-type {\n",
       "        vertical-align: middle;\n",
       "    }\n",
       "\n",
       "    .dataframe tbody tr th {\n",
       "        vertical-align: top;\n",
       "    }\n",
       "\n",
       "    .dataframe thead th {\n",
       "        text-align: right;\n",
       "    }\n",
       "</style>\n",
       "<table border=\"1\" class=\"dataframe\">\n",
       "  <thead>\n",
       "    <tr style=\"text-align: right;\">\n",
       "      <th>time_spend_company</th>\n",
       "      <th>2</th>\n",
       "      <th>3</th>\n",
       "      <th>4</th>\n",
       "      <th>5</th>\n",
       "      <th>6</th>\n",
       "      <th>7</th>\n",
       "      <th>8</th>\n",
       "      <th>10</th>\n",
       "    </tr>\n",
       "    <tr>\n",
       "      <th>number_project</th>\n",
       "      <th></th>\n",
       "      <th></th>\n",
       "      <th></th>\n",
       "      <th></th>\n",
       "      <th></th>\n",
       "      <th></th>\n",
       "      <th></th>\n",
       "      <th></th>\n",
       "    </tr>\n",
       "  </thead>\n",
       "  <tbody>\n",
       "    <tr>\n",
       "      <th>2</th>\n",
       "      <td>153</td>\n",
       "      <td>1223</td>\n",
       "      <td>87</td>\n",
       "      <td>56</td>\n",
       "      <td>36</td>\n",
       "      <td>10</td>\n",
       "      <td>9</td>\n",
       "      <td>8</td>\n",
       "    </tr>\n",
       "    <tr>\n",
       "      <th>3</th>\n",
       "      <td>860</td>\n",
       "      <td>1179</td>\n",
       "      <td>360</td>\n",
       "      <td>92</td>\n",
       "      <td>97</td>\n",
       "      <td>35</td>\n",
       "      <td>49</td>\n",
       "      <td>67</td>\n",
       "    </tr>\n",
       "    <tr>\n",
       "      <th>4</th>\n",
       "      <td>753</td>\n",
       "      <td>1230</td>\n",
       "      <td>380</td>\n",
       "      <td>296</td>\n",
       "      <td>151</td>\n",
       "      <td>43</td>\n",
       "      <td>32</td>\n",
       "      <td>53</td>\n",
       "    </tr>\n",
       "    <tr>\n",
       "      <th>5</th>\n",
       "      <td>362</td>\n",
       "      <td>585</td>\n",
       "      <td>277</td>\n",
       "      <td>393</td>\n",
       "      <td>148</td>\n",
       "      <td>25</td>\n",
       "      <td>22</td>\n",
       "      <td>18</td>\n",
       "    </tr>\n",
       "    <tr>\n",
       "      <th>6</th>\n",
       "      <td>45</td>\n",
       "      <td>89</td>\n",
       "      <td>463</td>\n",
       "      <td>119</td>\n",
       "      <td>51</td>\n",
       "      <td>9</td>\n",
       "      <td>5</td>\n",
       "      <td>9</td>\n",
       "    </tr>\n",
       "    <tr>\n",
       "      <th>7</th>\n",
       "      <td>1</td>\n",
       "      <td>5</td>\n",
       "      <td>146</td>\n",
       "      <td>20</td>\n",
       "      <td>0</td>\n",
       "      <td>0</td>\n",
       "      <td>0</td>\n",
       "      <td>0</td>\n",
       "    </tr>\n",
       "  </tbody>\n",
       "</table>\n",
       "</div>"
      ],
      "text/plain": [
       "time_spend_company   2     3    4    5    6   7   8   10\n",
       "number_project                                          \n",
       "2                   153  1223   87   56   36  10   9   8\n",
       "3                   860  1179  360   92   97  35  49  67\n",
       "4                   753  1230  380  296  151  43  32  53\n",
       "5                   362   585  277  393  148  25  22  18\n",
       "6                    45    89  463  119   51   9   5   9\n",
       "7                     1     5  146   20    0   0   0   0"
      ]
     },
     "execution_count": 59,
     "metadata": {},
     "output_type": "execute_result"
    }
   ],
   "source": [
    "#tableau de contingence entre \"number_project\" et \"time_spend_company\"\n",
    "df_nt= pd.crosstab(bidata.number_project, bidata.time_spend_company)\n",
    "df_nt"
   ]
  },
  {
   "cell_type": "code",
   "execution_count": 60,
   "id": "40770dda-1f0f-4f15-a011-f165bd0ca5db",
   "metadata": {},
   "outputs": [
    {
     "data": {
      "image/png": "[encoded data removed]",
      "text/plain": [
       "<Figure size 432x288 with 1 Axes>"
      ]
     },
     "metadata": {
      "needs_background": "light"
     },
     "output_type": "display_data"
    }
   ],
   "source": [
    "df_nt.plot(kind='bar')\n",
    "plt.title(\"Le nombre de projet en fonction du temps passé dans la companie\")\n",
    "plt.xlabel('number_project', color = 'blue')\n",
    "plt.ylabel('effectif', color = 'blue')\n",
    "plt.show()"
   ]
  },
  {
   "cell_type": "code",
   "execution_count": 61,
   "id": "46d117ae-86bb-4d2e-9d9f-de3a0727aca2",
   "metadata": {},
   "outputs": [
    {
     "data": {
      "text/html": [
       "<div>\n",
       "<style scoped>\n",
       "    .dataframe tbody tr th:only-of-type {\n",
       "        vertical-align: middle;\n",
       "    }\n",
       "\n",
       "    .dataframe tbody tr th {\n",
       "        vertical-align: top;\n",
       "    }\n",
       "\n",
       "    .dataframe thead th {\n",
       "        text-align: right;\n",
       "    }\n",
       "</style>\n",
       "<table border=\"1\" class=\"dataframe\">\n",
       "  <thead>\n",
       "    <tr style=\"text-align: right;\">\n",
       "      <th>time_spend_company</th>\n",
       "      <th>2</th>\n",
       "      <th>3</th>\n",
       "      <th>4</th>\n",
       "      <th>5</th>\n",
       "      <th>6</th>\n",
       "      <th>7</th>\n",
       "      <th>8</th>\n",
       "      <th>10</th>\n",
       "    </tr>\n",
       "    <tr>\n",
       "      <th>salary</th>\n",
       "      <th></th>\n",
       "      <th></th>\n",
       "      <th></th>\n",
       "      <th></th>\n",
       "      <th></th>\n",
       "      <th></th>\n",
       "      <th></th>\n",
       "      <th></th>\n",
       "    </tr>\n",
       "  </thead>\n",
       "  <tbody>\n",
       "    <tr>\n",
       "      <th>high</th>\n",
       "      <td>200</td>\n",
       "      <td>350</td>\n",
       "      <td>123</td>\n",
       "      <td>43</td>\n",
       "      <td>27</td>\n",
       "      <td>24</td>\n",
       "      <td>13</td>\n",
       "      <td>48</td>\n",
       "    </tr>\n",
       "    <tr>\n",
       "      <th>low</th>\n",
       "      <td>1008</td>\n",
       "      <td>2169</td>\n",
       "      <td>876</td>\n",
       "      <td>516</td>\n",
       "      <td>230</td>\n",
       "      <td>21</td>\n",
       "      <td>42</td>\n",
       "      <td>37</td>\n",
       "    </tr>\n",
       "    <tr>\n",
       "      <th>medium</th>\n",
       "      <td>966</td>\n",
       "      <td>1792</td>\n",
       "      <td>714</td>\n",
       "      <td>417</td>\n",
       "      <td>226</td>\n",
       "      <td>77</td>\n",
       "      <td>62</td>\n",
       "      <td>70</td>\n",
       "    </tr>\n",
       "  </tbody>\n",
       "</table>\n",
       "</div>"
      ],
      "text/plain": [
       "time_spend_company    2     3    4    5    6   7   8   10\n",
       "salary                                                   \n",
       "high                 200   350  123   43   27  24  13  48\n",
       "low                 1008  2169  876  516  230  21  42  37\n",
       "medium               966  1792  714  417  226  77  62  70"
      ]
     },
     "execution_count": 61,
     "metadata": {},
     "output_type": "execute_result"
    }
   ],
   "source": [
    "#tableau de contingence entre \"salary\" et \"time_spend_company\"\n",
    "df_st= pd.crosstab(bidata.salary, bidata.time_spend_company)\n",
    "df_st"
   ]
  },
  {
   "cell_type": "code",
   "execution_count": 62,
   "id": "f054caa2-a0c0-4fbb-95fd-f3169c5c1ce9",
   "metadata": {},
   "outputs": [
    {
     "data": {
      "image/png": "[encoded data removed]",
      "text/plain": [
       "<Figure size 432x288 with 1 Axes>"
      ]
     },
     "metadata": {
      "needs_background": "light"
     },
     "output_type": "display_data"
    }
   ],
   "source": [
    "df_st.plot(kind='bar')\n",
    "plt.title(\"Le nombre de projet en fonction du temps passé dans la companie\")\n",
    "plt.xlabel('salary', color = 'blue')\n",
    "plt.ylabel('effectif', color = 'blue')\n",
    "plt.show()"
   ]
  },
  {
   "cell_type": "code",
   "execution_count": 63,
   "id": "d1df9b48-1d37-40f7-9877-6bf2a2c5b07a",
   "metadata": {},
   "outputs": [
    {
     "data": {
      "text/html": [
       "<div>\n",
       "<style scoped>\n",
       "    .dataframe tbody tr th:only-of-type {\n",
       "        vertical-align: middle;\n",
       "    }\n",
       "\n",
       "    .dataframe tbody tr th {\n",
       "        vertical-align: top;\n",
       "    }\n",
       "\n",
       "    .dataframe thead th {\n",
       "        text-align: right;\n",
       "    }\n",
       "</style>\n",
       "<table border=\"1\" class=\"dataframe\">\n",
       "  <thead>\n",
       "    <tr style=\"text-align: right;\">\n",
       "      <th>time_spend_company</th>\n",
       "      <th>2</th>\n",
       "      <th>3</th>\n",
       "      <th>4</th>\n",
       "      <th>5</th>\n",
       "      <th>6</th>\n",
       "      <th>7</th>\n",
       "      <th>8</th>\n",
       "      <th>10</th>\n",
       "    </tr>\n",
       "    <tr>\n",
       "      <th>satisfaction_level</th>\n",
       "      <th></th>\n",
       "      <th></th>\n",
       "      <th></th>\n",
       "      <th></th>\n",
       "      <th></th>\n",
       "      <th></th>\n",
       "      <th></th>\n",
       "      <th></th>\n",
       "    </tr>\n",
       "  </thead>\n",
       "  <tbody>\n",
       "    <tr>\n",
       "      <th>0,09</th>\n",
       "      <td>1</td>\n",
       "      <td>0</td>\n",
       "      <td>111</td>\n",
       "      <td>14</td>\n",
       "      <td>0</td>\n",
       "      <td>0</td>\n",
       "      <td>0</td>\n",
       "      <td>0</td>\n",
       "    </tr>\n",
       "    <tr>\n",
       "      <th>0,1</th>\n",
       "      <td>0</td>\n",
       "      <td>1</td>\n",
       "      <td>236</td>\n",
       "      <td>24</td>\n",
       "      <td>0</td>\n",
       "      <td>0</td>\n",
       "      <td>0</td>\n",
       "      <td>0</td>\n",
       "    </tr>\n",
       "    <tr>\n",
       "      <th>0,11</th>\n",
       "      <td>0</td>\n",
       "      <td>2</td>\n",
       "      <td>202</td>\n",
       "      <td>18</td>\n",
       "      <td>0</td>\n",
       "      <td>0</td>\n",
       "      <td>0</td>\n",
       "      <td>0</td>\n",
       "    </tr>\n",
       "    <tr>\n",
       "      <th>0,12</th>\n",
       "      <td>2</td>\n",
       "      <td>4</td>\n",
       "      <td>7</td>\n",
       "      <td>4</td>\n",
       "      <td>3</td>\n",
       "      <td>0</td>\n",
       "      <td>0</td>\n",
       "      <td>0</td>\n",
       "    </tr>\n",
       "    <tr>\n",
       "      <th>0,13</th>\n",
       "      <td>3</td>\n",
       "      <td>2</td>\n",
       "      <td>8</td>\n",
       "      <td>13</td>\n",
       "      <td>5</td>\n",
       "      <td>0</td>\n",
       "      <td>0</td>\n",
       "      <td>0</td>\n",
       "    </tr>\n",
       "    <tr>\n",
       "      <th>...</th>\n",
       "      <td>...</td>\n",
       "      <td>...</td>\n",
       "      <td>...</td>\n",
       "      <td>...</td>\n",
       "      <td>...</td>\n",
       "      <td>...</td>\n",
       "      <td>...</td>\n",
       "      <td>...</td>\n",
       "    </tr>\n",
       "    <tr>\n",
       "      <th>0,96</th>\n",
       "      <td>42</td>\n",
       "      <td>55</td>\n",
       "      <td>16</td>\n",
       "      <td>6</td>\n",
       "      <td>6</td>\n",
       "      <td>3</td>\n",
       "      <td>2</td>\n",
       "      <td>3</td>\n",
       "    </tr>\n",
       "    <tr>\n",
       "      <th>0,97</th>\n",
       "      <td>47</td>\n",
       "      <td>44</td>\n",
       "      <td>11</td>\n",
       "      <td>2</td>\n",
       "      <td>6</td>\n",
       "      <td>2</td>\n",
       "      <td>4</td>\n",
       "      <td>2</td>\n",
       "    </tr>\n",
       "    <tr>\n",
       "      <th>0,98</th>\n",
       "      <td>37</td>\n",
       "      <td>59</td>\n",
       "      <td>18</td>\n",
       "      <td>1</td>\n",
       "      <td>7</td>\n",
       "      <td>0</td>\n",
       "      <td>0</td>\n",
       "      <td>6</td>\n",
       "    </tr>\n",
       "    <tr>\n",
       "      <th>0,99</th>\n",
       "      <td>43</td>\n",
       "      <td>48</td>\n",
       "      <td>21</td>\n",
       "      <td>2</td>\n",
       "      <td>3</td>\n",
       "      <td>0</td>\n",
       "      <td>2</td>\n",
       "      <td>3</td>\n",
       "    </tr>\n",
       "    <tr>\n",
       "      <th>1</th>\n",
       "      <td>14</td>\n",
       "      <td>40</td>\n",
       "      <td>17</td>\n",
       "      <td>3</td>\n",
       "      <td>1</td>\n",
       "      <td>2</td>\n",
       "      <td>0</td>\n",
       "      <td>0</td>\n",
       "    </tr>\n",
       "  </tbody>\n",
       "</table>\n",
       "<p>92 rows × 8 columns</p>\n",
       "</div>"
      ],
      "text/plain": [
       "time_spend_company  2   3    4   5   6   7   8   10\n",
       "satisfaction_level                                 \n",
       "0,09                 1   0  111  14   0   0   0   0\n",
       "0,1                  0   1  236  24   0   0   0   0\n",
       "0,11                 0   2  202  18   0   0   0   0\n",
       "0,12                 2   4    7   4   3   0   0   0\n",
       "0,13                 3   2    8  13   5   0   0   0\n",
       "...                 ..  ..  ...  ..  ..  ..  ..  ..\n",
       "0,96                42  55   16   6   6   3   2   3\n",
       "0,97                47  44   11   2   6   2   4   2\n",
       "0,98                37  59   18   1   7   0   0   6\n",
       "0,99                43  48   21   2   3   0   2   3\n",
       "1                   14  40   17   3   1   2   0   0\n",
       "\n",
       "[92 rows x 8 columns]"
      ]
     },
     "execution_count": 63,
     "metadata": {},
     "output_type": "execute_result"
    }
   ],
   "source": [
    "#tableau de contingence entre \"satisfaction_level\" et \"time_spend_company\"\n",
    "df_slt= pd.crosstab(bidata.satisfaction_level, bidata.time_spend_company)\n",
    "df_slt"
   ]
  },
  {
   "cell_type": "code",
   "execution_count": 74,
   "id": "a1d7e42e",
   "metadata": {},
   "outputs": [
    {
     "data": {
      "image/png": "[encoded data removed]",
      "text/plain": [
       "<Figure size 432x288 with 1 Axes>"
      ]
     },
     "metadata": {
      "needs_background": "light"
     },
     "output_type": "display_data"
    }
   ],
   "source": [
    "df_st.plot(kind='bar')\n",
    "plt.title(\"Le nombre de projet en fonction du temps passé dans la companie\")\n",
    "plt.xlabel('satisfaction_level', color = 'blue')\n",
    "plt.ylabel('effectif', color = 'blue')\n",
    "plt.show()"
   ]
  },
  {
   "cell_type": "code",
   "execution_count": 64,
   "id": "e4b7840f-2def-4312-a5a5-796d66d28fcf",
   "metadata": {
    "scrolled": true
   },
   "outputs": [
    {
     "data": {
      "text/html": [
       "<div>\n",
       "<style scoped>\n",
       "    .dataframe tbody tr th:only-of-type {\n",
       "        vertical-align: middle;\n",
       "    }\n",
       "\n",
       "    .dataframe tbody tr th {\n",
       "        vertical-align: top;\n",
       "    }\n",
       "\n",
       "    .dataframe thead th {\n",
       "        text-align: right;\n",
       "    }\n",
       "</style>\n",
       "<table border=\"1\" class=\"dataframe\">\n",
       "  <thead>\n",
       "    <tr style=\"text-align: right;\">\n",
       "      <th>job</th>\n",
       "      <th>IT</th>\n",
       "      <th>RandD</th>\n",
       "      <th>accounting</th>\n",
       "      <th>hr</th>\n",
       "      <th>management</th>\n",
       "      <th>marketing</th>\n",
       "      <th>product_mng</th>\n",
       "      <th>sales</th>\n",
       "      <th>support</th>\n",
       "      <th>technical</th>\n",
       "    </tr>\n",
       "    <tr>\n",
       "      <th>work_accident</th>\n",
       "      <th></th>\n",
       "      <th></th>\n",
       "      <th></th>\n",
       "      <th></th>\n",
       "      <th></th>\n",
       "      <th></th>\n",
       "      <th></th>\n",
       "      <th></th>\n",
       "      <th></th>\n",
       "      <th></th>\n",
       "    </tr>\n",
       "  </thead>\n",
       "  <tbody>\n",
       "    <tr>\n",
       "      <th>0</th>\n",
       "      <td>741</td>\n",
       "      <td>422</td>\n",
       "      <td>441</td>\n",
       "      <td>426</td>\n",
       "      <td>359</td>\n",
       "      <td>494</td>\n",
       "      <td>497</td>\n",
       "      <td>2418</td>\n",
       "      <td>1231</td>\n",
       "      <td>1544</td>\n",
       "    </tr>\n",
       "    <tr>\n",
       "      <th>1</th>\n",
       "      <td>111</td>\n",
       "      <td>87</td>\n",
       "      <td>61</td>\n",
       "      <td>68</td>\n",
       "      <td>74</td>\n",
       "      <td>89</td>\n",
       "      <td>89</td>\n",
       "      <td>398</td>\n",
       "      <td>237</td>\n",
       "      <td>264</td>\n",
       "    </tr>\n",
       "  </tbody>\n",
       "</table>\n",
       "</div>"
      ],
      "text/plain": [
       "job             IT  RandD  accounting   hr  management  marketing  \\\n",
       "work_accident                                                       \n",
       "0              741    422         441  426         359        494   \n",
       "1              111     87          61   68          74         89   \n",
       "\n",
       "job            product_mng  sales  support  technical  \n",
       "work_accident                                          \n",
       "0                      497   2418     1231       1544  \n",
       "1                       89    398      237        264  "
      ]
     },
     "execution_count": 64,
     "metadata": {},
     "output_type": "execute_result"
    }
   ],
   "source": [
    "#tableau de contingence entre \"work_accident\" et \"job\"\n",
    "df_wj= pd.crosstab(bidata.work_accident, bidata.job)\n",
    "df_wj"
   ]
  },
  {
   "cell_type": "code",
   "execution_count": 71,
   "id": "687e7638",
   "metadata": {},
   "outputs": [
    {
     "data": {
      "image/png": "[encoded data removed]",
      "text/plain": [
       "<Figure size 432x288 with 1 Axes>"
      ]
     },
     "metadata": {
      "needs_background": "light"
     },
     "output_type": "display_data"
    }
   ],
   "source": [
    "df_st.plot(kind='bar')\n",
    "plt.title(\"Le nombre de projet en fonction du temps passé dans la companie\")\n",
    "plt.xlabel('job', color = 'blue')\n",
    "plt.ylabel('work_accident', color = 'blue')\n",
    "plt.show()"
   ]
  },
  {
   "cell_type": "code",
   "execution_count": 65,
   "id": "b15d6487-25bc-4355-8485-8e1b3a2db49f",
   "metadata": {},
   "outputs": [
    {
     "data": {
      "text/html": [
       "<div>\n",
       "<style scoped>\n",
       "    .dataframe tbody tr th:only-of-type {\n",
       "        vertical-align: middle;\n",
       "    }\n",
       "\n",
       "    .dataframe tbody tr th {\n",
       "        vertical-align: top;\n",
       "    }\n",
       "\n",
       "    .dataframe thead th {\n",
       "        text-align: right;\n",
       "    }\n",
       "</style>\n",
       "<table border=\"1\" class=\"dataframe\">\n",
       "  <thead>\n",
       "    <tr style=\"text-align: right;\">\n",
       "      <th>time_spend_company</th>\n",
       "      <th>2</th>\n",
       "      <th>3</th>\n",
       "      <th>4</th>\n",
       "      <th>5</th>\n",
       "      <th>6</th>\n",
       "      <th>7</th>\n",
       "      <th>8</th>\n",
       "      <th>10</th>\n",
       "    </tr>\n",
       "    <tr>\n",
       "      <th>promotion_last_5years</th>\n",
       "      <th></th>\n",
       "      <th></th>\n",
       "      <th></th>\n",
       "      <th></th>\n",
       "      <th></th>\n",
       "      <th></th>\n",
       "      <th></th>\n",
       "      <th></th>\n",
       "    </tr>\n",
       "  </thead>\n",
       "  <tbody>\n",
       "    <tr>\n",
       "      <th>0</th>\n",
       "      <td>2139</td>\n",
       "      <td>4225</td>\n",
       "      <td>1694</td>\n",
       "      <td>968</td>\n",
       "      <td>472</td>\n",
       "      <td>100</td>\n",
       "      <td>109</td>\n",
       "      <td>142</td>\n",
       "    </tr>\n",
       "    <tr>\n",
       "      <th>1</th>\n",
       "      <td>35</td>\n",
       "      <td>86</td>\n",
       "      <td>19</td>\n",
       "      <td>8</td>\n",
       "      <td>11</td>\n",
       "      <td>22</td>\n",
       "      <td>8</td>\n",
       "      <td>13</td>\n",
       "    </tr>\n",
       "  </tbody>\n",
       "</table>\n",
       "</div>"
      ],
      "text/plain": [
       "time_spend_company       2     3     4    5    6    7    8    10\n",
       "promotion_last_5years                                           \n",
       "0                      2139  4225  1694  968  472  100  109  142\n",
       "1                        35    86    19    8   11   22    8   13"
      ]
     },
     "execution_count": 65,
     "metadata": {},
     "output_type": "execute_result"
    }
   ],
   "source": [
    "#tableau de contingence entre \"promotion_last_5years\" et \"time_spend_company\"\n",
    "df_pt= pd.crosstab(bidata.promotion_last_5years, bidata.time_spend_company)\n",
    "df_pt"
   ]
  },
  {
   "cell_type": "code",
   "execution_count": null,
   "id": "681d351a",
   "metadata": {},
   "outputs": [],
   "source": []
  },
  {
   "cell_type": "code",
   "execution_count": 66,
   "id": "1e5015a7-6a05-4a42-ab79-3a25f67201bd",
   "metadata": {},
   "outputs": [
    {
     "data": {
      "text/html": [
       "<div>\n",
       "<style scoped>\n",
       "    .dataframe tbody tr th:only-of-type {\n",
       "        vertical-align: middle;\n",
       "    }\n",
       "\n",
       "    .dataframe tbody tr th {\n",
       "        vertical-align: top;\n",
       "    }\n",
       "\n",
       "    .dataframe thead th {\n",
       "        text-align: right;\n",
       "    }\n",
       "</style>\n",
       "<table border=\"1\" class=\"dataframe\">\n",
       "  <thead>\n",
       "    <tr style=\"text-align: right;\">\n",
       "      <th>job</th>\n",
       "      <th>IT</th>\n",
       "      <th>RandD</th>\n",
       "      <th>accounting</th>\n",
       "      <th>hr</th>\n",
       "      <th>management</th>\n",
       "      <th>marketing</th>\n",
       "      <th>product_mng</th>\n",
       "      <th>sales</th>\n",
       "      <th>support</th>\n",
       "      <th>technical</th>\n",
       "    </tr>\n",
       "    <tr>\n",
       "      <th>salary</th>\n",
       "      <th></th>\n",
       "      <th></th>\n",
       "      <th></th>\n",
       "      <th></th>\n",
       "      <th></th>\n",
       "      <th></th>\n",
       "      <th></th>\n",
       "      <th></th>\n",
       "      <th></th>\n",
       "      <th></th>\n",
       "    </tr>\n",
       "  </thead>\n",
       "  <tbody>\n",
       "    <tr>\n",
       "      <th>high</th>\n",
       "      <td>60</td>\n",
       "      <td>36</td>\n",
       "      <td>46</td>\n",
       "      <td>28</td>\n",
       "      <td>158</td>\n",
       "      <td>53</td>\n",
       "      <td>39</td>\n",
       "      <td>182</td>\n",
       "      <td>97</td>\n",
       "      <td>129</td>\n",
       "    </tr>\n",
       "    <tr>\n",
       "      <th>low</th>\n",
       "      <td>423</td>\n",
       "      <td>243</td>\n",
       "      <td>241</td>\n",
       "      <td>225</td>\n",
       "      <td>122</td>\n",
       "      <td>279</td>\n",
       "      <td>293</td>\n",
       "      <td>1407</td>\n",
       "      <td>741</td>\n",
       "      <td>925</td>\n",
       "    </tr>\n",
       "    <tr>\n",
       "      <th>medium</th>\n",
       "      <td>369</td>\n",
       "      <td>230</td>\n",
       "      <td>215</td>\n",
       "      <td>241</td>\n",
       "      <td>153</td>\n",
       "      <td>251</td>\n",
       "      <td>254</td>\n",
       "      <td>1227</td>\n",
       "      <td>630</td>\n",
       "      <td>754</td>\n",
       "    </tr>\n",
       "  </tbody>\n",
       "</table>\n",
       "</div>"
      ],
      "text/plain": [
       "job      IT  RandD  accounting   hr  management  marketing  product_mng  \\\n",
       "salary                                                                    \n",
       "high     60     36          46   28         158         53           39   \n",
       "low     423    243         241  225         122        279          293   \n",
       "medium  369    230         215  241         153        251          254   \n",
       "\n",
       "job     sales  support  technical  \n",
       "salary                             \n",
       "high      182       97        129  \n",
       "low      1407      741        925  \n",
       "medium   1227      630        754  "
      ]
     },
     "execution_count": 66,
     "metadata": {},
     "output_type": "execute_result"
    }
   ],
   "source": [
    "#tableau de contingence entre \"salary\" et \"job\"\n",
    "df_sj= pd.crosstab(bidata.salary, bidata.job)\n",
    "df_sj"
   ]
  }
 ],
 "metadata": {
  "kernelspec": {
   "display_name": "Python 3 (ipykernel)",
   "language": "python",
   "name": "python3"
  },
  "language_info": {
   "codemirror_mode": {
    "name": "ipython",
    "version": 3
   },
   "file_extension": ".py",
   "mimetype": "text/x-python",
   "name": "python",
   "nbconvert_exporter": "python",
   "pygments_lexer": "ipython3",
   "version": "3.9.12"
  }
 },
 "nbformat": 4,
 "nbformat_minor": 5
}
