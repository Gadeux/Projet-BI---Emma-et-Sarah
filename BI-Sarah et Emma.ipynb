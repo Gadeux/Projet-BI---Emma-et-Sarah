{
 "cells": [
  {
   "cell_type": "markdown",
   "id": "0805b940",
   "metadata": {},
   "source": [
    "# Livre blanc sur l'analyse des données et la BI\n",
    "## Sarah Bouchikh et Emma Gadea\n",
    "\n",
    "### Sommaire\n",
    "\n",
    "#### Introduction\n",
    "    Visualtion de la base de données\n",
    "    Définition des données du fichier\n",
    "\n",
    "#### I- Chapitre 1 : Description des données\n",
    "    A-Typologie des données \n",
    "    B- Catégorie de données\n",
    "    C-Transformation des données\n",
    "    D-Les mesures de tendances centrale\n",
    "    E-Les mesures de dispersion et de position \n",
    "    F-Représentation graphique de la distribution des données\n",
    "    \n",
    "#### II- Chapitre 2 : Exploration des données\n",
    "    A-Comparer des variables\n",
    "    B-Représenter graphiquement les relations entre les variables\n",
    "\n",
    "#### III- Chapitre 3 : Modelisation des données\n",
    "     A-Quel est le profil des collaborateurs qui vont quitter l'entreprise ?\n",
    "     B-Pourquoi les collaborateurs quittent l'entreprise ?\n",
    "    \n",
    "#### IV- Conclusion\n"
   ]
  },
  {
   "cell_type": "code",
   "execution_count": 1,
   "id": "e5af504d",
   "metadata": {},
   "outputs": [],
   "source": [
    "import pandas as pd\n",
    "import matplotlib.pyplot as plt\n",
    "import numpy as np\n",
    "import seaborn as sns\n",
    "from PIL import Image, ImageTk\n",
    "import tkinter as tk\n",
    "\n",
    "from matplotlib import image\n",
    "%matplotlib inline\n",
    "\n",
    "\n",
    "bidata = pd.read_csv('HR_training.csv', encoding='unicode_escape', engine='python', delimiter=';')"
   ]
  },
  {
   "cell_type": "code",
   "execution_count": 2,
   "id": "33e66a90",
   "metadata": {},
   "outputs": [
    {
     "data": {
      "text/html": [
       "<div>\n",
       "<style scoped>\n",
       "    .dataframe tbody tr th:only-of-type {\n",
       "        vertical-align: middle;\n",
       "    }\n",
       "\n",
       "    .dataframe tbody tr th {\n",
       "        vertical-align: top;\n",
       "    }\n",
       "\n",
       "    .dataframe thead th {\n",
       "        text-align: right;\n",
       "    }\n",
       "</style>\n",
       "<table border=\"1\" class=\"dataframe\">\n",
       "  <thead>\n",
       "    <tr style=\"text-align: right;\">\n",
       "      <th></th>\n",
       "      <th>id_colab</th>\n",
       "      <th>satisfaction_level</th>\n",
       "      <th>last_evaluation</th>\n",
       "      <th>number_project</th>\n",
       "      <th>average_montly_hours</th>\n",
       "      <th>time_spend_company</th>\n",
       "      <th>work_accident</th>\n",
       "      <th>promotion_last_5years</th>\n",
       "      <th>job</th>\n",
       "      <th>salary</th>\n",
       "      <th>left</th>\n",
       "    </tr>\n",
       "  </thead>\n",
       "  <tbody>\n",
       "    <tr>\n",
       "      <th>0</th>\n",
       "      <td>4</td>\n",
       "      <td>0,72</td>\n",
       "      <td>0,87</td>\n",
       "      <td>5</td>\n",
       "      <td>223</td>\n",
       "      <td>5</td>\n",
       "      <td>0</td>\n",
       "      <td>0</td>\n",
       "      <td>sales</td>\n",
       "      <td>low</td>\n",
       "      <td>1</td>\n",
       "    </tr>\n",
       "    <tr>\n",
       "      <th>1</th>\n",
       "      <td>5</td>\n",
       "      <td>0,37</td>\n",
       "      <td>0,52</td>\n",
       "      <td>2</td>\n",
       "      <td>159</td>\n",
       "      <td>3</td>\n",
       "      <td>0</td>\n",
       "      <td>0</td>\n",
       "      <td>sales</td>\n",
       "      <td>low</td>\n",
       "      <td>1</td>\n",
       "    </tr>\n",
       "    <tr>\n",
       "      <th>2</th>\n",
       "      <td>7</td>\n",
       "      <td>0,1</td>\n",
       "      <td>0,77</td>\n",
       "      <td>6</td>\n",
       "      <td>247</td>\n",
       "      <td>4</td>\n",
       "      <td>0</td>\n",
       "      <td>0</td>\n",
       "      <td>sales</td>\n",
       "      <td>low</td>\n",
       "      <td>1</td>\n",
       "    </tr>\n",
       "    <tr>\n",
       "      <th>3</th>\n",
       "      <td>9</td>\n",
       "      <td>0,89</td>\n",
       "      <td>1</td>\n",
       "      <td>5</td>\n",
       "      <td>224</td>\n",
       "      <td>5</td>\n",
       "      <td>0</td>\n",
       "      <td>0</td>\n",
       "      <td>sales</td>\n",
       "      <td>low</td>\n",
       "      <td>1</td>\n",
       "    </tr>\n",
       "    <tr>\n",
       "      <th>4</th>\n",
       "      <td>10</td>\n",
       "      <td>0,42</td>\n",
       "      <td>0,53</td>\n",
       "      <td>2</td>\n",
       "      <td>142</td>\n",
       "      <td>3</td>\n",
       "      <td>0</td>\n",
       "      <td>0</td>\n",
       "      <td>sales</td>\n",
       "      <td>low</td>\n",
       "      <td>1</td>\n",
       "    </tr>\n",
       "    <tr>\n",
       "      <th>...</th>\n",
       "      <td>...</td>\n",
       "      <td>...</td>\n",
       "      <td>...</td>\n",
       "      <td>...</td>\n",
       "      <td>...</td>\n",
       "      <td>...</td>\n",
       "      <td>...</td>\n",
       "      <td>...</td>\n",
       "      <td>...</td>\n",
       "      <td>...</td>\n",
       "      <td>...</td>\n",
       "    </tr>\n",
       "    <tr>\n",
       "      <th>10046</th>\n",
       "      <td>14993</td>\n",
       "      <td>0,4</td>\n",
       "      <td>0,48</td>\n",
       "      <td>2</td>\n",
       "      <td>155</td>\n",
       "      <td>3</td>\n",
       "      <td>0</td>\n",
       "      <td>0</td>\n",
       "      <td>support</td>\n",
       "      <td>low</td>\n",
       "      <td>1</td>\n",
       "    </tr>\n",
       "    <tr>\n",
       "      <th>10047</th>\n",
       "      <td>14995</td>\n",
       "      <td>0,4</td>\n",
       "      <td>0,57</td>\n",
       "      <td>2</td>\n",
       "      <td>151</td>\n",
       "      <td>3</td>\n",
       "      <td>0</td>\n",
       "      <td>0</td>\n",
       "      <td>support</td>\n",
       "      <td>low</td>\n",
       "      <td>1</td>\n",
       "    </tr>\n",
       "    <tr>\n",
       "      <th>10048</th>\n",
       "      <td>14996</td>\n",
       "      <td>0,37</td>\n",
       "      <td>0,48</td>\n",
       "      <td>2</td>\n",
       "      <td>160</td>\n",
       "      <td>3</td>\n",
       "      <td>0</td>\n",
       "      <td>0</td>\n",
       "      <td>support</td>\n",
       "      <td>low</td>\n",
       "      <td>1</td>\n",
       "    </tr>\n",
       "    <tr>\n",
       "      <th>10049</th>\n",
       "      <td>14997</td>\n",
       "      <td>0,37</td>\n",
       "      <td>0,53</td>\n",
       "      <td>2</td>\n",
       "      <td>143</td>\n",
       "      <td>3</td>\n",
       "      <td>0</td>\n",
       "      <td>0</td>\n",
       "      <td>support</td>\n",
       "      <td>low</td>\n",
       "      <td>1</td>\n",
       "    </tr>\n",
       "    <tr>\n",
       "      <th>10050</th>\n",
       "      <td>14998</td>\n",
       "      <td>0,11</td>\n",
       "      <td>0,96</td>\n",
       "      <td>6</td>\n",
       "      <td>280</td>\n",
       "      <td>4</td>\n",
       "      <td>0</td>\n",
       "      <td>0</td>\n",
       "      <td>support</td>\n",
       "      <td>low</td>\n",
       "      <td>1</td>\n",
       "    </tr>\n",
       "  </tbody>\n",
       "</table>\n",
       "<p>10051 rows × 11 columns</p>\n",
       "</div>"
      ],
      "text/plain": [
       "       id_colab satisfaction_level last_evaluation  number_project  \\\n",
       "0             4               0,72            0,87               5   \n",
       "1             5               0,37            0,52               2   \n",
       "2             7                0,1            0,77               6   \n",
       "3             9               0,89               1               5   \n",
       "4            10               0,42            0,53               2   \n",
       "...         ...                ...             ...             ...   \n",
       "10046     14993                0,4            0,48               2   \n",
       "10047     14995                0,4            0,57               2   \n",
       "10048     14996               0,37            0,48               2   \n",
       "10049     14997               0,37            0,53               2   \n",
       "10050     14998               0,11            0,96               6   \n",
       "\n",
       "       average_montly_hours  time_spend_company  work_accident  \\\n",
       "0                       223                   5              0   \n",
       "1                       159                   3              0   \n",
       "2                       247                   4              0   \n",
       "3                       224                   5              0   \n",
       "4                       142                   3              0   \n",
       "...                     ...                 ...            ...   \n",
       "10046                   155                   3              0   \n",
       "10047                   151                   3              0   \n",
       "10048                   160                   3              0   \n",
       "10049                   143                   3              0   \n",
       "10050                   280                   4              0   \n",
       "\n",
       "       promotion_last_5years      job salary  left  \n",
       "0                          0    sales    low     1  \n",
       "1                          0    sales    low     1  \n",
       "2                          0    sales    low     1  \n",
       "3                          0    sales    low     1  \n",
       "4                          0    sales    low     1  \n",
       "...                      ...      ...    ...   ...  \n",
       "10046                      0  support    low     1  \n",
       "10047                      0  support    low     1  \n",
       "10048                      0  support    low     1  \n",
       "10049                      0  support    low     1  \n",
       "10050                      0  support    low     1  \n",
       "\n",
       "[10051 rows x 11 columns]"
      ]
     },
     "execution_count": 2,
     "metadata": {},
     "output_type": "execute_result"
    }
   ],
   "source": [
    "bidata"
   ]
  },
  {
   "cell_type": "markdown",
   "id": "5246fc68",
   "metadata": {},
   "source": [
    "### DEFINITION DES DONNEES DU FICHIER \n",
    "\n",
    "- Id : Numéro du collaborateur\n",
    "- Satisfaction level : Niveau de satisfaction des collaborateurs\n",
    "- Last evaluation : Niveau de satisfaction des collaborateurs lors de l’évaluation précédente\n",
    "- Number project : Nombre de projets portés par le collaborateur\n",
    "- Average monthly hours : Nombre d’heures mensuel moyen d’un collaborateur\n",
    "- Time spend company : Nombre d’années passées au sein de l’entreprise\n",
    "- Work accident : Information qui précise si le collaborateur a subi un accident du travail\n",
    "- Promotion last 5 years : Information qui précise si le collaborateur a été sujet à une promotion durant les 5 dernières années\n",
    "- Job : Secteur dans lequel travaille le collaborateur\n",
    "- Salary : Salaire du collaborateur (bas, moyen, haut)\n",
    "- Left : Si le collaborateur a finalement quitté l’entreprise ou non"
   ]
  },
  {
   "cell_type": "markdown",
   "id": "ec8e8398",
   "metadata": {},
   "source": [
    "# I- Chapitre 1 : Description des données\n",
    "## A-Typologie des données \n",
    "\n",
    "Il existe deux grandes catégories de données :\n",
    "\n",
    "Les données qualitatives et les données quantitative elle même divisés en sous catégorie en voici la définition :\n",
    "\n",
    "#### Les données quantitatives\n",
    "\n",
    "Continues : Les données quantitatives continues sont des données subjectives mesurées sur une échelle continue, comme un degré de satisfaction ou une intensité d'émotion.\n",
    " \n",
    "Discrètes : les données quantitatives discrètes sont à l’inverse non mesurables. Par exemple, ce sont le nombre d'enfants dans une famille, le nombre de produits achetés, le nombre de personnes dans une pièce.\n",
    "\n",
    "\n",
    "#### Les données qualitatives\n",
    "\n",
    "Ordinale: Une donnée qualitatives ordinale est une mesure numérique qui permet de classer les observations selon un ordre, mais sans échelle de mesure précise.\n",
    "\n",
    "Nominale: Une donnée qualitatives nominale est une donnée qui est utilisée pour étiqueter ou catégoriser les observations, sans aucun ordre ou signification numérique.\n",
    "\n",
    "## B- Catégorie de données\n",
    "\n",
    "#### Variables à expliquer (dépendantes)\n",
    "\n",
    "On considère les variables à expliquer comme étant des variables que l'ont peu prédire à l'aide des autres variables. On peut dire qu'elles sont corrélées. Par exemple on peut utiliser la droite de régression linéaire.\n",
    "\n",
    "#### Variables explicatives (indépendantes)\n",
    "\n",
    "On considère les variables explicatives comme étant des variables qui sont indépendantes les unes des autres.\n",
    "\n",
    "\n",
    "\n",
    "##### Voici un tableau résumant la typologie de nos variables, ainsi que leur catégorie :\n"
   ]
  },
  {
   "cell_type": "code",
   "execution_count": 3,
   "id": "4e65d0cf",
   "metadata": {
    "scrolled": true
   },
   "outputs": [
    {
     "data": {
      "text/html": [
       "<div>\n",
       "<style scoped>\n",
       "    .dataframe tbody tr th:only-of-type {\n",
       "        vertical-align: middle;\n",
       "    }\n",
       "\n",
       "    .dataframe tbody tr th {\n",
       "        vertical-align: top;\n",
       "    }\n",
       "\n",
       "    .dataframe thead th {\n",
       "        text-align: right;\n",
       "    }\n",
       "</style>\n",
       "<table border=\"1\" class=\"dataframe\">\n",
       "  <thead>\n",
       "    <tr style=\"text-align: right;\">\n",
       "      <th></th>\n",
       "      <th>Nom des données</th>\n",
       "      <th>Typologie des données</th>\n",
       "      <th>Catégorie de données</th>\n",
       "    </tr>\n",
       "  </thead>\n",
       "  <tbody>\n",
       "    <tr>\n",
       "      <th>0</th>\n",
       "      <td>id_colab</td>\n",
       "      <td>Qualitative nominale</td>\n",
       "      <td>Variable explicative</td>\n",
       "    </tr>\n",
       "    <tr>\n",
       "      <th>1</th>\n",
       "      <td>satisfaction_level</td>\n",
       "      <td>Quantitative continue</td>\n",
       "      <td>Variable explicative</td>\n",
       "    </tr>\n",
       "    <tr>\n",
       "      <th>2</th>\n",
       "      <td>last_evaluation</td>\n",
       "      <td>Quantitative continue</td>\n",
       "      <td>Variable explicative</td>\n",
       "    </tr>\n",
       "    <tr>\n",
       "      <th>3</th>\n",
       "      <td>number_project</td>\n",
       "      <td>Quantitative continue</td>\n",
       "      <td>Variable explicative</td>\n",
       "    </tr>\n",
       "    <tr>\n",
       "      <th>4</th>\n",
       "      <td>average_montly_hours</td>\n",
       "      <td>Quantitative continue</td>\n",
       "      <td>Variable explicative</td>\n",
       "    </tr>\n",
       "    <tr>\n",
       "      <th>5</th>\n",
       "      <td>time_spend_company</td>\n",
       "      <td>Quantitative continue</td>\n",
       "      <td>Variable explicative</td>\n",
       "    </tr>\n",
       "    <tr>\n",
       "      <th>6</th>\n",
       "      <td>work_accident</td>\n",
       "      <td>Qualitative nominale</td>\n",
       "      <td>Variable explicative</td>\n",
       "    </tr>\n",
       "    <tr>\n",
       "      <th>7</th>\n",
       "      <td>promotion_last_5years</td>\n",
       "      <td>Qualitative nominale</td>\n",
       "      <td>Variable explicative</td>\n",
       "    </tr>\n",
       "    <tr>\n",
       "      <th>8</th>\n",
       "      <td>job</td>\n",
       "      <td>Qualitative nominale</td>\n",
       "      <td>Variable explicative</td>\n",
       "    </tr>\n",
       "    <tr>\n",
       "      <th>9</th>\n",
       "      <td>salary</td>\n",
       "      <td>Qualitative ordinale</td>\n",
       "      <td>Variable explicative</td>\n",
       "    </tr>\n",
       "    <tr>\n",
       "      <th>10</th>\n",
       "      <td>left</td>\n",
       "      <td>Qualitative nominale</td>\n",
       "      <td>Variable à expliquer</td>\n",
       "    </tr>\n",
       "  </tbody>\n",
       "</table>\n",
       "</div>"
      ],
      "text/plain": [
       "          Nom des données  Typologie des données  Catégorie de données\n",
       "0                id_colab   Qualitative nominale  Variable explicative\n",
       "1      satisfaction_level  Quantitative continue  Variable explicative\n",
       "2         last_evaluation  Quantitative continue  Variable explicative\n",
       "3          number_project  Quantitative continue  Variable explicative\n",
       "4    average_montly_hours  Quantitative continue  Variable explicative\n",
       "5      time_spend_company  Quantitative continue  Variable explicative\n",
       "6           work_accident   Qualitative nominale  Variable explicative\n",
       "7   promotion_last_5years   Qualitative nominale  Variable explicative\n",
       "8                     job   Qualitative nominale  Variable explicative\n",
       "9                  salary   Qualitative ordinale  Variable explicative\n",
       "10                   left   Qualitative nominale  Variable à expliquer"
      ]
     },
     "execution_count": 3,
     "metadata": {},
     "output_type": "execute_result"
    }
   ],
   "source": [
    "data = {'Nom des données':['id_colab','satisfaction_level','last_evaluation','number_project','average_montly_hours','time_spend_company','work_accident','promotion_last_5years','job','salary','left'],'Typologie des données':['Qualitative nominale','Quantitative continue','Quantitative continue','Quantitative continue','Quantitative continue','Quantitative continue','Qualitative nominale','Qualitative nominale','Qualitative nominale','Qualitative ordinale','Qualitative nominale'], 'Catégorie de données': ['Variable explicative','Variable explicative','Variable explicative','Variable explicative','Variable explicative','Variable explicative','Variable explicative','Variable explicative','Variable explicative','Variable explicative','Variable à expliquer']}\n",
    "tableau_variables = pd.DataFrame(data)\n",
    "tableau_variables\n"
   ]
  },
  {
   "cell_type": "markdown",
   "id": "0666d49c",
   "metadata": {},
   "source": [
    "## C-Transformation des données\n",
    "\n",
    "#### Données qualitatives en données quantitatives  \n",
    "\n",
    "Nous allons transformer la variable 'left', que nous considérons comme une donnée qualitative continue, en donnée quantitative.\n",
    "\n",
    "Pour cela, nous avons d'abord dupliqué la colonne 'left', puis nous avons changé les données par : 1='yes' et 0='no'.\n",
    "\n"
   ]
  },
  {
   "cell_type": "code",
   "execution_count": 4,
   "id": "ef4d14b2",
   "metadata": {
    "scrolled": true
   },
   "outputs": [
    {
     "data": {
      "text/html": [
       "<div>\n",
       "<style scoped>\n",
       "    .dataframe tbody tr th:only-of-type {\n",
       "        vertical-align: middle;\n",
       "    }\n",
       "\n",
       "    .dataframe tbody tr th {\n",
       "        vertical-align: top;\n",
       "    }\n",
       "\n",
       "    .dataframe thead th {\n",
       "        text-align: right;\n",
       "    }\n",
       "</style>\n",
       "<table border=\"1\" class=\"dataframe\">\n",
       "  <thead>\n",
       "    <tr style=\"text-align: right;\">\n",
       "      <th></th>\n",
       "      <th>id_colab</th>\n",
       "      <th>satisfaction_level</th>\n",
       "      <th>last_evaluation</th>\n",
       "      <th>number_project</th>\n",
       "      <th>average_montly_hours</th>\n",
       "      <th>time_spend_company</th>\n",
       "      <th>work_accident</th>\n",
       "      <th>promotion_last_5years</th>\n",
       "      <th>job</th>\n",
       "      <th>salary</th>\n",
       "      <th>left</th>\n",
       "      <th>left_quanti</th>\n",
       "    </tr>\n",
       "  </thead>\n",
       "  <tbody>\n",
       "    <tr>\n",
       "      <th>0</th>\n",
       "      <td>4</td>\n",
       "      <td>0,72</td>\n",
       "      <td>0,87</td>\n",
       "      <td>5</td>\n",
       "      <td>223</td>\n",
       "      <td>5</td>\n",
       "      <td>0</td>\n",
       "      <td>0</td>\n",
       "      <td>sales</td>\n",
       "      <td>low</td>\n",
       "      <td>1</td>\n",
       "      <td>yes</td>\n",
       "    </tr>\n",
       "    <tr>\n",
       "      <th>1</th>\n",
       "      <td>5</td>\n",
       "      <td>0,37</td>\n",
       "      <td>0,52</td>\n",
       "      <td>2</td>\n",
       "      <td>159</td>\n",
       "      <td>3</td>\n",
       "      <td>0</td>\n",
       "      <td>0</td>\n",
       "      <td>sales</td>\n",
       "      <td>low</td>\n",
       "      <td>1</td>\n",
       "      <td>yes</td>\n",
       "    </tr>\n",
       "    <tr>\n",
       "      <th>2</th>\n",
       "      <td>7</td>\n",
       "      <td>0,1</td>\n",
       "      <td>0,77</td>\n",
       "      <td>6</td>\n",
       "      <td>247</td>\n",
       "      <td>4</td>\n",
       "      <td>0</td>\n",
       "      <td>0</td>\n",
       "      <td>sales</td>\n",
       "      <td>low</td>\n",
       "      <td>1</td>\n",
       "      <td>yes</td>\n",
       "    </tr>\n",
       "    <tr>\n",
       "      <th>3</th>\n",
       "      <td>9</td>\n",
       "      <td>0,89</td>\n",
       "      <td>1</td>\n",
       "      <td>5</td>\n",
       "      <td>224</td>\n",
       "      <td>5</td>\n",
       "      <td>0</td>\n",
       "      <td>0</td>\n",
       "      <td>sales</td>\n",
       "      <td>low</td>\n",
       "      <td>1</td>\n",
       "      <td>yes</td>\n",
       "    </tr>\n",
       "    <tr>\n",
       "      <th>4</th>\n",
       "      <td>10</td>\n",
       "      <td>0,42</td>\n",
       "      <td>0,53</td>\n",
       "      <td>2</td>\n",
       "      <td>142</td>\n",
       "      <td>3</td>\n",
       "      <td>0</td>\n",
       "      <td>0</td>\n",
       "      <td>sales</td>\n",
       "      <td>low</td>\n",
       "      <td>1</td>\n",
       "      <td>yes</td>\n",
       "    </tr>\n",
       "    <tr>\n",
       "      <th>...</th>\n",
       "      <td>...</td>\n",
       "      <td>...</td>\n",
       "      <td>...</td>\n",
       "      <td>...</td>\n",
       "      <td>...</td>\n",
       "      <td>...</td>\n",
       "      <td>...</td>\n",
       "      <td>...</td>\n",
       "      <td>...</td>\n",
       "      <td>...</td>\n",
       "      <td>...</td>\n",
       "      <td>...</td>\n",
       "    </tr>\n",
       "    <tr>\n",
       "      <th>10046</th>\n",
       "      <td>14993</td>\n",
       "      <td>0,4</td>\n",
       "      <td>0,48</td>\n",
       "      <td>2</td>\n",
       "      <td>155</td>\n",
       "      <td>3</td>\n",
       "      <td>0</td>\n",
       "      <td>0</td>\n",
       "      <td>support</td>\n",
       "      <td>low</td>\n",
       "      <td>1</td>\n",
       "      <td>yes</td>\n",
       "    </tr>\n",
       "    <tr>\n",
       "      <th>10047</th>\n",
       "      <td>14995</td>\n",
       "      <td>0,4</td>\n",
       "      <td>0,57</td>\n",
       "      <td>2</td>\n",
       "      <td>151</td>\n",
       "      <td>3</td>\n",
       "      <td>0</td>\n",
       "      <td>0</td>\n",
       "      <td>support</td>\n",
       "      <td>low</td>\n",
       "      <td>1</td>\n",
       "      <td>yes</td>\n",
       "    </tr>\n",
       "    <tr>\n",
       "      <th>10048</th>\n",
       "      <td>14996</td>\n",
       "      <td>0,37</td>\n",
       "      <td>0,48</td>\n",
       "      <td>2</td>\n",
       "      <td>160</td>\n",
       "      <td>3</td>\n",
       "      <td>0</td>\n",
       "      <td>0</td>\n",
       "      <td>support</td>\n",
       "      <td>low</td>\n",
       "      <td>1</td>\n",
       "      <td>yes</td>\n",
       "    </tr>\n",
       "    <tr>\n",
       "      <th>10049</th>\n",
       "      <td>14997</td>\n",
       "      <td>0,37</td>\n",
       "      <td>0,53</td>\n",
       "      <td>2</td>\n",
       "      <td>143</td>\n",
       "      <td>3</td>\n",
       "      <td>0</td>\n",
       "      <td>0</td>\n",
       "      <td>support</td>\n",
       "      <td>low</td>\n",
       "      <td>1</td>\n",
       "      <td>yes</td>\n",
       "    </tr>\n",
       "    <tr>\n",
       "      <th>10050</th>\n",
       "      <td>14998</td>\n",
       "      <td>0,11</td>\n",
       "      <td>0,96</td>\n",
       "      <td>6</td>\n",
       "      <td>280</td>\n",
       "      <td>4</td>\n",
       "      <td>0</td>\n",
       "      <td>0</td>\n",
       "      <td>support</td>\n",
       "      <td>low</td>\n",
       "      <td>1</td>\n",
       "      <td>yes</td>\n",
       "    </tr>\n",
       "  </tbody>\n",
       "</table>\n",
       "<p>10051 rows × 12 columns</p>\n",
       "</div>"
      ],
      "text/plain": [
       "       id_colab satisfaction_level last_evaluation  number_project  \\\n",
       "0             4               0,72            0,87               5   \n",
       "1             5               0,37            0,52               2   \n",
       "2             7                0,1            0,77               6   \n",
       "3             9               0,89               1               5   \n",
       "4            10               0,42            0,53               2   \n",
       "...         ...                ...             ...             ...   \n",
       "10046     14993                0,4            0,48               2   \n",
       "10047     14995                0,4            0,57               2   \n",
       "10048     14996               0,37            0,48               2   \n",
       "10049     14997               0,37            0,53               2   \n",
       "10050     14998               0,11            0,96               6   \n",
       "\n",
       "       average_montly_hours  time_spend_company  work_accident  \\\n",
       "0                       223                   5              0   \n",
       "1                       159                   3              0   \n",
       "2                       247                   4              0   \n",
       "3                       224                   5              0   \n",
       "4                       142                   3              0   \n",
       "...                     ...                 ...            ...   \n",
       "10046                   155                   3              0   \n",
       "10047                   151                   3              0   \n",
       "10048                   160                   3              0   \n",
       "10049                   143                   3              0   \n",
       "10050                   280                   4              0   \n",
       "\n",
       "       promotion_last_5years      job salary  left left_quanti  \n",
       "0                          0    sales    low     1         yes  \n",
       "1                          0    sales    low     1         yes  \n",
       "2                          0    sales    low     1         yes  \n",
       "3                          0    sales    low     1         yes  \n",
       "4                          0    sales    low     1         yes  \n",
       "...                      ...      ...    ...   ...         ...  \n",
       "10046                      0  support    low     1         yes  \n",
       "10047                      0  support    low     1         yes  \n",
       "10048                      0  support    low     1         yes  \n",
       "10049                      0  support    low     1         yes  \n",
       "10050                      0  support    low     1         yes  \n",
       "\n",
       "[10051 rows x 12 columns]"
      ]
     },
     "execution_count": 4,
     "metadata": {},
     "output_type": "execute_result"
    }
   ],
   "source": [
    "bidata = bidata.assign(left_quanti=bidata['left'])\n",
    "bidata['left_quanti'] = bidata['left_quanti'].map({1 : 'yes', 0 : 'no'})\n",
    "bidata"
   ]
  },
  {
   "cell_type": "markdown",
   "id": "bc16afe8",
   "metadata": {},
   "source": [
    "#### Données quantitatives en données qualitatives\n",
    "\n",
    "Nous allons transformer la variable 'average_montly_hours', que nous considérons comme quantitative nominale, en donnée qualitative.\n",
    "\n",
    "Pour cela, nous avons d'abord dupliqué la colonne 'average_montly_hours', puis nous avons défini les contraintes relative à la dénomination des différentes données. Nous avons défini 3 catégories : 'low' pour les personnes travaillant moins de 110h/mois,'medium' pour les personnes travaillant entre 110h et 160h/mois et enfin 'high' pour les personnes travaillant plus de 160h/mois.\n"
   ]
  },
  {
   "cell_type": "code",
   "execution_count": 5,
   "id": "3c5c2eb2",
   "metadata": {
    "scrolled": true
   },
   "outputs": [
    {
     "data": {
      "text/html": [
       "<div>\n",
       "<style scoped>\n",
       "    .dataframe tbody tr th:only-of-type {\n",
       "        vertical-align: middle;\n",
       "    }\n",
       "\n",
       "    .dataframe tbody tr th {\n",
       "        vertical-align: top;\n",
       "    }\n",
       "\n",
       "    .dataframe thead th {\n",
       "        text-align: right;\n",
       "    }\n",
       "</style>\n",
       "<table border=\"1\" class=\"dataframe\">\n",
       "  <thead>\n",
       "    <tr style=\"text-align: right;\">\n",
       "      <th></th>\n",
       "      <th>id_colab</th>\n",
       "      <th>satisfaction_level</th>\n",
       "      <th>last_evaluation</th>\n",
       "      <th>number_project</th>\n",
       "      <th>average_montly_hours</th>\n",
       "      <th>time_spend_company</th>\n",
       "      <th>work_accident</th>\n",
       "      <th>promotion_last_5years</th>\n",
       "      <th>job</th>\n",
       "      <th>salary</th>\n",
       "      <th>left</th>\n",
       "      <th>left_quanti</th>\n",
       "      <th>average_montly_hours_quali</th>\n",
       "    </tr>\n",
       "  </thead>\n",
       "  <tbody>\n",
       "    <tr>\n",
       "      <th>0</th>\n",
       "      <td>4</td>\n",
       "      <td>0,72</td>\n",
       "      <td>0,87</td>\n",
       "      <td>5</td>\n",
       "      <td>223</td>\n",
       "      <td>5</td>\n",
       "      <td>0</td>\n",
       "      <td>0</td>\n",
       "      <td>sales</td>\n",
       "      <td>low</td>\n",
       "      <td>1</td>\n",
       "      <td>yes</td>\n",
       "      <td>high</td>\n",
       "    </tr>\n",
       "    <tr>\n",
       "      <th>1</th>\n",
       "      <td>5</td>\n",
       "      <td>0,37</td>\n",
       "      <td>0,52</td>\n",
       "      <td>2</td>\n",
       "      <td>159</td>\n",
       "      <td>3</td>\n",
       "      <td>0</td>\n",
       "      <td>0</td>\n",
       "      <td>sales</td>\n",
       "      <td>low</td>\n",
       "      <td>1</td>\n",
       "      <td>yes</td>\n",
       "      <td>medium</td>\n",
       "    </tr>\n",
       "    <tr>\n",
       "      <th>2</th>\n",
       "      <td>7</td>\n",
       "      <td>0,1</td>\n",
       "      <td>0,77</td>\n",
       "      <td>6</td>\n",
       "      <td>247</td>\n",
       "      <td>4</td>\n",
       "      <td>0</td>\n",
       "      <td>0</td>\n",
       "      <td>sales</td>\n",
       "      <td>low</td>\n",
       "      <td>1</td>\n",
       "      <td>yes</td>\n",
       "      <td>high</td>\n",
       "    </tr>\n",
       "    <tr>\n",
       "      <th>3</th>\n",
       "      <td>9</td>\n",
       "      <td>0,89</td>\n",
       "      <td>1</td>\n",
       "      <td>5</td>\n",
       "      <td>224</td>\n",
       "      <td>5</td>\n",
       "      <td>0</td>\n",
       "      <td>0</td>\n",
       "      <td>sales</td>\n",
       "      <td>low</td>\n",
       "      <td>1</td>\n",
       "      <td>yes</td>\n",
       "      <td>high</td>\n",
       "    </tr>\n",
       "    <tr>\n",
       "      <th>4</th>\n",
       "      <td>10</td>\n",
       "      <td>0,42</td>\n",
       "      <td>0,53</td>\n",
       "      <td>2</td>\n",
       "      <td>142</td>\n",
       "      <td>3</td>\n",
       "      <td>0</td>\n",
       "      <td>0</td>\n",
       "      <td>sales</td>\n",
       "      <td>low</td>\n",
       "      <td>1</td>\n",
       "      <td>yes</td>\n",
       "      <td>medium</td>\n",
       "    </tr>\n",
       "    <tr>\n",
       "      <th>...</th>\n",
       "      <td>...</td>\n",
       "      <td>...</td>\n",
       "      <td>...</td>\n",
       "      <td>...</td>\n",
       "      <td>...</td>\n",
       "      <td>...</td>\n",
       "      <td>...</td>\n",
       "      <td>...</td>\n",
       "      <td>...</td>\n",
       "      <td>...</td>\n",
       "      <td>...</td>\n",
       "      <td>...</td>\n",
       "      <td>...</td>\n",
       "    </tr>\n",
       "    <tr>\n",
       "      <th>10046</th>\n",
       "      <td>14993</td>\n",
       "      <td>0,4</td>\n",
       "      <td>0,48</td>\n",
       "      <td>2</td>\n",
       "      <td>155</td>\n",
       "      <td>3</td>\n",
       "      <td>0</td>\n",
       "      <td>0</td>\n",
       "      <td>support</td>\n",
       "      <td>low</td>\n",
       "      <td>1</td>\n",
       "      <td>yes</td>\n",
       "      <td>medium</td>\n",
       "    </tr>\n",
       "    <tr>\n",
       "      <th>10047</th>\n",
       "      <td>14995</td>\n",
       "      <td>0,4</td>\n",
       "      <td>0,57</td>\n",
       "      <td>2</td>\n",
       "      <td>151</td>\n",
       "      <td>3</td>\n",
       "      <td>0</td>\n",
       "      <td>0</td>\n",
       "      <td>support</td>\n",
       "      <td>low</td>\n",
       "      <td>1</td>\n",
       "      <td>yes</td>\n",
       "      <td>medium</td>\n",
       "    </tr>\n",
       "    <tr>\n",
       "      <th>10048</th>\n",
       "      <td>14996</td>\n",
       "      <td>0,37</td>\n",
       "      <td>0,48</td>\n",
       "      <td>2</td>\n",
       "      <td>160</td>\n",
       "      <td>3</td>\n",
       "      <td>0</td>\n",
       "      <td>0</td>\n",
       "      <td>support</td>\n",
       "      <td>low</td>\n",
       "      <td>1</td>\n",
       "      <td>yes</td>\n",
       "      <td>medium</td>\n",
       "    </tr>\n",
       "    <tr>\n",
       "      <th>10049</th>\n",
       "      <td>14997</td>\n",
       "      <td>0,37</td>\n",
       "      <td>0,53</td>\n",
       "      <td>2</td>\n",
       "      <td>143</td>\n",
       "      <td>3</td>\n",
       "      <td>0</td>\n",
       "      <td>0</td>\n",
       "      <td>support</td>\n",
       "      <td>low</td>\n",
       "      <td>1</td>\n",
       "      <td>yes</td>\n",
       "      <td>medium</td>\n",
       "    </tr>\n",
       "    <tr>\n",
       "      <th>10050</th>\n",
       "      <td>14998</td>\n",
       "      <td>0,11</td>\n",
       "      <td>0,96</td>\n",
       "      <td>6</td>\n",
       "      <td>280</td>\n",
       "      <td>4</td>\n",
       "      <td>0</td>\n",
       "      <td>0</td>\n",
       "      <td>support</td>\n",
       "      <td>low</td>\n",
       "      <td>1</td>\n",
       "      <td>yes</td>\n",
       "      <td>high</td>\n",
       "    </tr>\n",
       "  </tbody>\n",
       "</table>\n",
       "<p>10051 rows × 13 columns</p>\n",
       "</div>"
      ],
      "text/plain": [
       "       id_colab satisfaction_level last_evaluation  number_project  \\\n",
       "0             4               0,72            0,87               5   \n",
       "1             5               0,37            0,52               2   \n",
       "2             7                0,1            0,77               6   \n",
       "3             9               0,89               1               5   \n",
       "4            10               0,42            0,53               2   \n",
       "...         ...                ...             ...             ...   \n",
       "10046     14993                0,4            0,48               2   \n",
       "10047     14995                0,4            0,57               2   \n",
       "10048     14996               0,37            0,48               2   \n",
       "10049     14997               0,37            0,53               2   \n",
       "10050     14998               0,11            0,96               6   \n",
       "\n",
       "       average_montly_hours  time_spend_company  work_accident  \\\n",
       "0                       223                   5              0   \n",
       "1                       159                   3              0   \n",
       "2                       247                   4              0   \n",
       "3                       224                   5              0   \n",
       "4                       142                   3              0   \n",
       "...                     ...                 ...            ...   \n",
       "10046                   155                   3              0   \n",
       "10047                   151                   3              0   \n",
       "10048                   160                   3              0   \n",
       "10049                   143                   3              0   \n",
       "10050                   280                   4              0   \n",
       "\n",
       "       promotion_last_5years      job salary  left left_quanti  \\\n",
       "0                          0    sales    low     1         yes   \n",
       "1                          0    sales    low     1         yes   \n",
       "2                          0    sales    low     1         yes   \n",
       "3                          0    sales    low     1         yes   \n",
       "4                          0    sales    low     1         yes   \n",
       "...                      ...      ...    ...   ...         ...   \n",
       "10046                      0  support    low     1         yes   \n",
       "10047                      0  support    low     1         yes   \n",
       "10048                      0  support    low     1         yes   \n",
       "10049                      0  support    low     1         yes   \n",
       "10050                      0  support    low     1         yes   \n",
       "\n",
       "      average_montly_hours_quali  \n",
       "0                           high  \n",
       "1                         medium  \n",
       "2                           high  \n",
       "3                           high  \n",
       "4                         medium  \n",
       "...                          ...  \n",
       "10046                     medium  \n",
       "10047                     medium  \n",
       "10048                     medium  \n",
       "10049                     medium  \n",
       "10050                       high  \n",
       "\n",
       "[10051 rows x 13 columns]"
      ]
     },
     "execution_count": 5,
     "metadata": {},
     "output_type": "execute_result"
    }
   ],
   "source": [
    "bidata = bidata.assign(average_montly_hours_quali=bidata['average_montly_hours'])\n",
    "bins = [0, 110, 160, float('inf')]\n",
    "labels = ['low', 'medium', 'high']\n",
    "bidata['average_montly_hours_quali'] = pd.cut(bidata['average_montly_hours'], bins=bins, labels=labels)\n",
    "bidata"
   ]
  },
  {
   "cell_type": "code",
   "execution_count": 6,
   "id": "55d72ded",
   "metadata": {},
   "outputs": [
    {
     "data": {
      "text/plain": [
       "['low', 'medium', 'high']"
      ]
     },
     "execution_count": 6,
     "metadata": {},
     "output_type": "execute_result"
    }
   ],
   "source": [
    "bidata.salary.unique().tolist()"
   ]
  },
  {
   "cell_type": "markdown",
   "id": "5f6f0952",
   "metadata": {},
   "source": [
    "## D-Les mesures de tendances centrale\n",
    "\n",
    "Il existe 3 mesures de tendance centrale utilisées pour décrire les données d'une distribution statistique : \n",
    "\n",
    "#### La médiane \n",
    "\n",
    "C’est la valeur qui sépare la moitié inférieure de la moitié supérieure d'un ensemble (deux parties d’effectifs égaux).La médiane est utilisée pour mesurer la tendance centrale d'un ensemble de données. \n",
    "\n",
    "#### La moyenne\n",
    "\n",
    "La moyenne est utilisée pour mesurer la tendance centrale d'un ensemble de données, elle peut également être utilisée pour identifier des tendances ou des changements dans les données au fil du temps en comparant les moyennes de différentes périodes ou groupes.\n",
    "\n",
    "C'est la somme des données divisée par l’effectif global. C’est l'indicateur le plus simple pour résumer l'information fournie par un ensemble de données.\n",
    "\n",
    "#### La mode\n",
    "\n",
    "La mode est une mesure de tendance centrale utilisée pour décrire les données d'une distribution statistique. C'est la valeur qui apparaît le plus fréquemment dans un ensemble de données.Elle est souvent utilisée pour décrire les données qualitatives ou pour identifier les éléments les plus fréquents dans un ensemble de données. \n",
    "\n",
    "Afin de rendre notre livrable plus conscis nous avons decidé de ne pas interpréter toutes les variables."
   ]
  },
  {
   "cell_type": "code",
   "execution_count": 7,
   "id": "84d6e81e",
   "metadata": {},
   "outputs": [
    {
     "name": "stderr",
     "output_type": "stream",
     "text": [
      "/var/folders/f8/nmk0msc11xj6pmj3wt53cglr0000gn/T/ipykernel_31214/3573655911.py:2: FutureWarning: Dropping of nuisance columns in DataFrame reductions (with 'numeric_only=None') is deprecated; in a future version this will raise TypeError.  Select only valid columns before calling the reduction.\n",
      "  mediane_bidata = bidata.median()\n"
     ]
    },
    {
     "data": {
      "text/plain": [
       "id_colab                 7500.0\n",
       "number_project              4.0\n",
       "average_montly_hours      199.0\n",
       "time_spend_company          3.0\n",
       "work_accident               0.0\n",
       "promotion_last_5years       0.0\n",
       "left                        0.0\n",
       "dtype: float64"
      ]
     },
     "execution_count": 7,
     "metadata": {},
     "output_type": "execute_result"
    }
   ],
   "source": [
    "#Mediane\n",
    "mediane_bidata = bidata.median()\n",
    "mediane_bidata\n",
    "##on ne tient pas compte de id_colab et left car insignifiant"
   ]
  },
  {
   "cell_type": "markdown",
   "id": "05a3255f",
   "metadata": {},
   "source": [
    "##### D'après le résultat, nous obtenons une médiane de 4 pour \"number_project\" et une médiane de 199 pour \"average_montly_hours\" . Nous pouvons déduire que 50% des employés intérrogés on été affectés à plus de 4 projets et 50% on été affectés à moins de 4 projets. Nous pouvons également déduire que plus de moitié ont travaillés plus de 199h et l'autre moitié moins de 199h."
   ]
  },
  {
   "cell_type": "code",
   "execution_count": 8,
   "id": "d156b9bd",
   "metadata": {},
   "outputs": [
    {
     "name": "stderr",
     "output_type": "stream",
     "text": [
      "/var/folders/f8/nmk0msc11xj6pmj3wt53cglr0000gn/T/ipykernel_31214/3805715750.py:2: FutureWarning: Dropping of nuisance columns in DataFrame reductions (with 'numeric_only=None') is deprecated; in a future version this will raise TypeError.  Select only valid columns before calling the reduction.\n",
      "  average_bidata = bidata.mean()\n"
     ]
    },
    {
     "data": {
      "text/plain": [
       "id_colab                 7492.237489\n",
       "number_project              3.803303\n",
       "average_montly_hours      200.812655\n",
       "time_spend_company          3.507213\n",
       "work_accident               0.147050\n",
       "promotion_last_5years       0.020098\n",
       "left                        0.237688\n",
       "dtype: float64"
      ]
     },
     "execution_count": 8,
     "metadata": {},
     "output_type": "execute_result"
    }
   ],
   "source": [
    "#Moyenne\n",
    "average_bidata = bidata.mean()\n",
    "average_bidata\n",
    "\n",
    "##on ne tient pas compte de id_colab et left car insignifiant"
   ]
  },
  {
   "cell_type": "markdown",
   "id": "ba7958ea",
   "metadata": {},
   "source": [
    "##### D'après le résultat, nous obtenons une moyenne de 3.8 pour \"number_project\" et une moyenne de 200.8 pour \"average_montly_hours\". Nous pouvons donc déduire que en moyenne les employés ont environ 4 projets et qu'ils travaillent en moyenne 200h/mois."
   ]
  },
  {
   "cell_type": "code",
   "execution_count": 9,
   "id": "31650020",
   "metadata": {
    "scrolled": true
   },
   "outputs": [
    {
     "name": "stdout",
     "output_type": "stream",
     "text": [
      "id_colab                          4\n",
      "satisfaction_level              0,1\n",
      "last_evaluation                0,54\n",
      "number_project                  4.0\n",
      "average_montly_hours          156.0\n",
      "time_spend_company              3.0\n",
      "work_accident                   0.0\n",
      "promotion_last_5years           0.0\n",
      "job                           sales\n",
      "salary                          low\n",
      "left                            0.0\n",
      "left_quanti                      no\n",
      "average_montly_hours_quali     high\n",
      "Name: 0, dtype: object\n"
     ]
    }
   ],
   "source": [
    "#Mode\n",
    "from scipy import stats\n",
    "\n",
    "mode_bidata = bidata.mode()\n",
    "print(mode_bidata.loc[0])\n",
    "##on ne tient pas compte de id_colab car insignifiant"
   ]
  },
  {
   "cell_type": "markdown",
   "id": "b6e46418",
   "metadata": {},
   "source": [
    "##### D'après le resultat, le mode pour number_project est de 4 et 156 pour average_montly_hours. Ce qui signifie que les employés ont tendance à etre affecté à 4 projets et qu'ils ont tendance à travailler 156h/mois."
   ]
  },
  {
   "cell_type": "markdown",
   "id": "1c5cab4d",
   "metadata": {},
   "source": [
    "## E-Les mesures de dispersion et de position \n",
    "\n",
    "Les mesures de dispersion décrivent la variabilité ou la répartition des valeurs d'une variable statistique dans un ensemble de données. Les mesures les plus courantes de dispersion sont : \n",
    "\n",
    "#### L'écart-type\n",
    "\n",
    "L'écart-type est une mesure de dispersion des données autour de la moyenne. Plus l'écart-type est faible, plus la population est homogène et à l'inverse plus il est élevé plus elle est hétérogène. Il est particulièrement utile pour identifier les données aberrantes, qui peuvent avoir un impact important sur les résultats globaux. Il est également utilisé dans les calculs statistiques tels que la construction d'intervalles de confiance, le test d'hypothèse et l'analyse de la variance.\n",
    "\n",
    "#### La variance\n",
    "\n",
    "La variance mesure la moyenne des distances au carré des valeurs de la variable par rapport à la moyenne de cette variable. Elle est également utilisée dans les calculs statistiques tels que la construction d'intervalles de confiance, le test d'hypothèse et l'analyse de la variance. Elle est utilisée pour mesurer la risque dans l'investissement, pour identifier la volatilité d'un actif financier.\n",
    "\n",
    "#### La fréquence \n",
    "\n",
    "La fréquence désigne le nombre de fois où une valeur ou un événement se produit dans un ensemble de données. Elle peut être exprimée sous forme de nombre absolu ou de pourcentage (c'est-à-dire en rapport à la taille totale de l'ensemble de données).\n",
    "\n",
    "C'est un outil clé pour l'analyse de données descriptives, qui permet de comprendre la répartition des valeurs dans un ensemble de données.\n",
    "\n",
    "#### L'étendue (minimum,maximum)\n",
    "\n",
    "L'étendue statistique est un concept utilisé pour mesurer la variabilité ou la dispersion des données dans un ensemble de données. Elle est généralement utilisée pour décrire la dispersion des données autour de la moyenne et peut être utilisée pour comparer la variabilité entre différents ensembles de données.\n",
    "\n",
    "#### Le percentile\n",
    "\n",
    "Un percentile est un concept statistique qui décrit la valeur en dessous de laquelle se trouve un certain pourcentage de valeurs dans un ensemble de données. Par exemple, si un élève a obtenu un score de 75ème percentile sur un test, cela signifie qu'il a obtenu un score supérieur à 75% des autres élèves. Les percentiles peuvent être utilisés pour donner une idée de la distribution des données et pour comparer les performances d'une personne à celles des autres dans un groupe.\n",
    "\n"
   ]
  },
  {
   "cell_type": "code",
   "execution_count": 10,
   "id": "08aea541",
   "metadata": {},
   "outputs": [
    {
     "name": "stderr",
     "output_type": "stream",
     "text": [
      "/var/folders/f8/nmk0msc11xj6pmj3wt53cglr0000gn/T/ipykernel_31214/3234764835.py:2: FutureWarning: Dropping of nuisance columns in DataFrame reductions (with 'numeric_only=None') is deprecated; in a future version this will raise TypeError.  Select only valid columns before calling the reduction.\n",
      "  std_all = bidata.std()\n"
     ]
    },
    {
     "data": {
      "text/plain": [
       "id_colab                 4331.355967\n",
       "number_project              1.230464\n",
       "average_montly_hours       49.775706\n",
       "time_spend_company          1.480360\n",
       "work_accident               0.354173\n",
       "promotion_last_5years       0.140341\n",
       "left                        0.425688\n",
       "dtype: float64"
      ]
     },
     "execution_count": 10,
     "metadata": {},
     "output_type": "execute_result"
    }
   ],
   "source": [
    "#Ecart-type\n",
    "std_all = bidata.std()\n",
    "std_all\n",
    "##on ne tient pas compte de id_colab et left car insignifiant"
   ]
  },
  {
   "cell_type": "markdown",
   "id": "50dd2477",
   "metadata": {},
   "source": [
    "##### D'après le résultat, l'écart-type de \"number_project\" est de 1 donc plutôt homègene et est de 49 pour \"average_montly_hours\" donc plus hétérogène. Nous pouvons donc déduire que les employés sont affectés en générale au même nombre de projet, mais que leurs temps passé au travail est généralement différents pour chacun d'entre eux."
   ]
  },
  {
   "cell_type": "code",
   "execution_count": 11,
   "id": "cbb49cd0",
   "metadata": {},
   "outputs": [
    {
     "name": "stderr",
     "output_type": "stream",
     "text": [
      "/var/folders/f8/nmk0msc11xj6pmj3wt53cglr0000gn/T/ipykernel_31214/3545053567.py:2: FutureWarning: Dropping of nuisance columns in DataFrame reductions (with 'numeric_only=None') is deprecated; in a future version this will raise TypeError.  Select only valid columns before calling the reduction.\n",
      "  var_all = bidata.var()\n"
     ]
    },
    {
     "data": {
      "text/plain": [
       "id_colab                 1.876064e+07\n",
       "number_project           1.514043e+00\n",
       "average_montly_hours     2.477621e+03\n",
       "time_spend_company       2.191465e+00\n",
       "work_accident            1.254388e-01\n",
       "promotion_last_5years    1.969555e-02\n",
       "left                     1.812103e-01\n",
       "dtype: float64"
      ]
     },
     "execution_count": 11,
     "metadata": {},
     "output_type": "execute_result"
    }
   ],
   "source": [
    "#Variance\n",
    "var_all = bidata.var()\n",
    "var_all\n",
    "##on ne tient pas compte de id_colab et left car insignifiant"
   ]
  },
  {
   "cell_type": "markdown",
   "id": "40536ffb",
   "metadata": {},
   "source": [
    "##### D'après le resultat, la variance de number_project est de 1.5 c'est à dire que la dispertion est proche de la moyenne alors que la variance deaverage_montly_hours est de 2.4 donc plus écarté de la moyenne. "
   ]
  },
  {
   "cell_type": "code",
   "execution_count": 12,
   "id": "cdcc07d9",
   "metadata": {},
   "outputs": [
    {
     "data": {
      "text/plain": [
       "0,1     261\n",
       "0,11    222\n",
       "0,77    177\n",
       "0,74    171\n",
       "0,82    167\n",
       "       ... \n",
       "0,3      22\n",
       "0,26     22\n",
       "0,33     21\n",
       "0,12     20\n",
       "0,27     19\n",
       "Name: satisfaction_level, Length: 92, dtype: int64"
      ]
     },
     "execution_count": 12,
     "metadata": {},
     "output_type": "execute_result"
    }
   ],
   "source": [
    "# Fréquence\n",
    "##on ne tient pas compte de id_colab car insignifiant donc nous n'avons pas calculé sa fréquence.\n",
    "freq_satisfaction_level = bidata['satisfaction_level'].value_counts()\n",
    "freq_satisfaction_level"
   ]
  },
  {
   "cell_type": "code",
   "execution_count": 13,
   "id": "364b49ff",
   "metadata": {
    "scrolled": true
   },
   "outputs": [
    {
     "data": {
      "image/png": "[encoded data removed]",
      "text/plain": [
       "<Figure size 1400x300 with 1 Axes>"
      ]
     },
     "metadata": {},
     "output_type": "display_data"
    }
   ],
   "source": [
    "freq_satisfaction_level.plot(kind='bar')\n",
    "plt.title(\"Le taux de satisfaction personnel par personne\")\n",
    "plt.xlabel('satisfaction_level', color = 'blue')\n",
    "plt.ylabel('effectif', color = 'blue')\n",
    "plt.gcf().set_size_inches(14, 3)\n",
    "plt.show()"
   ]
  },
  {
   "cell_type": "markdown",
   "id": "3e620a93",
   "metadata": {},
   "source": [
    "##### D'après le resultat, nous pouvons constater que 261 personnes ont répondu 0.1 de taux de satisfaction."
   ]
  },
  {
   "cell_type": "code",
   "execution_count": 14,
   "id": "ad9179f1",
   "metadata": {},
   "outputs": [
    {
     "data": {
      "text/plain": [
       "0,54    248\n",
       "0,55    236\n",
       "0,5     233\n",
       "0,51    227\n",
       "0,53    225\n",
       "       ... \n",
       "0,38     33\n",
       "0,42     32\n",
       "0,43     31\n",
       "0,44     29\n",
       "0,36     16\n",
       "Name: last_evaluation, Length: 65, dtype: int64"
      ]
     },
     "execution_count": 14,
     "metadata": {},
     "output_type": "execute_result"
    }
   ],
   "source": [
    "freq_last_evaluation = bidata['last_evaluation'].value_counts()\n",
    "freq_last_evaluation"
   ]
  },
  {
   "cell_type": "code",
   "execution_count": 15,
   "id": "20afb2ff",
   "metadata": {
    "scrolled": true
   },
   "outputs": [
    {
     "data": {
      "image/png": "[encoded data removed]",
      "text/plain": [
       "<Figure size 1200x200 with 1 Axes>"
      ]
     },
     "metadata": {},
     "output_type": "display_data"
    }
   ],
   "source": [
    "freq_last_evaluation.plot(kind='bar')\n",
    "plt.title(\"Le taux de satisfaction personnel par personne durant la dernière évaluation annuelle\")\n",
    "plt.xlabel('last_evaluation', color = 'blue')\n",
    "plt.ylabel('effectif', color = 'blue')\n",
    "plt.gcf().set_size_inches(12, 2)\n",
    "\n",
    "plt.show()"
   ]
  },
  {
   "cell_type": "markdown",
   "id": "aeb00be7",
   "metadata": {},
   "source": [
    "##### D'après le résultat, nous pouvons constater que l'année dernière 248 personnes (effectif le plus élévé) ont répondu 0.54 de taux de satisfaction. Seulement 16 personnes ont répondu 0.36."
   ]
  },
  {
   "cell_type": "code",
   "execution_count": 16,
   "id": "bc820b2d",
   "metadata": {
    "scrolled": true
   },
   "outputs": [
    {
     "data": {
      "text/plain": [
       "4    2938\n",
       "3    2739\n",
       "5    1830\n",
       "2    1582\n",
       "6     790\n",
       "7     172\n",
       "Name: number_project, dtype: int64"
      ]
     },
     "execution_count": 16,
     "metadata": {},
     "output_type": "execute_result"
    }
   ],
   "source": [
    "freq_number_project = bidata['number_project'].value_counts()\n",
    "freq_number_project"
   ]
  },
  {
   "cell_type": "code",
   "execution_count": 17,
   "id": "747fb53e",
   "metadata": {},
   "outputs": [
    {
     "data": {
      "image/png": "[encoded data removed]",
      "text/plain": [
       "<Figure size 640x480 with 1 Axes>"
      ]
     },
     "metadata": {},
     "output_type": "display_data"
    }
   ],
   "source": [
    "freq_number_project.plot(kind='bar')\n",
    "plt.title(\"Nombre de projets affectés par personne\")\n",
    "plt.xlabel('number_project', color = 'blue')\n",
    "plt.ylabel('effectif', color = 'blue')\n",
    "plt.show()"
   ]
  },
  {
   "cell_type": "markdown",
   "id": "bce664fb",
   "metadata": {},
   "source": [
    "##### D'après le resulat, 2938 employés ont été affectés à 4 projets et 172 à 7 projets."
   ]
  },
  {
   "cell_type": "code",
   "execution_count": 18,
   "id": "de0010f8",
   "metadata": {},
   "outputs": [
    {
     "data": {
      "text/plain": [
       "156    102\n",
       "149    101\n",
       "140     99\n",
       "151     98\n",
       "159     93\n",
       "      ... \n",
       "288      5\n",
       "297      5\n",
       "96       5\n",
       "299      4\n",
       "303      3\n",
       "Name: average_montly_hours, Length: 215, dtype: int64"
      ]
     },
     "execution_count": 18,
     "metadata": {},
     "output_type": "execute_result"
    }
   ],
   "source": [
    "freq_average_montly_hours = bidata['average_montly_hours'].value_counts()\n",
    "freq_average_montly_hours"
   ]
  },
  {
   "cell_type": "code",
   "execution_count": 19,
   "id": "8e3b6c43",
   "metadata": {},
   "outputs": [
    {
     "data": {
      "text/plain": [
       "high      7138\n",
       "medium    2751\n",
       "low        162\n",
       "Name: average_montly_hours_quali, dtype: int64"
      ]
     },
     "execution_count": 19,
     "metadata": {},
     "output_type": "execute_result"
    }
   ],
   "source": [
    "freq_average_montly_hours_quali = bidata['average_montly_hours_quali'].value_counts()\n",
    "freq_average_montly_hours_quali"
   ]
  },
  {
   "cell_type": "code",
   "execution_count": 20,
   "id": "0611211a",
   "metadata": {},
   "outputs": [
    {
     "data": {
      "image/png": "[encoded data removed]",
      "text/plain": [
       "<Figure size 640x480 with 1 Axes>"
      ]
     },
     "metadata": {},
     "output_type": "display_data"
    }
   ],
   "source": [
    "#Les colonnes \"average_montly_hours\" et \"average_montly_hours_quali\" étant les même, il est plus simple d'utiliser \"average_montly_hours_quali\" pour faire le graphique.\n",
    "#Il y a moins de données, donc le graphique est plus visible et plus compréhensible. Mais ce sont les même données.\n",
    "freq_average_montly_hours_quali.plot(kind='bar')\n",
    "plt.title(\"La moyenne d'heure travaillé chaque mois dans l'entreprise\")\n",
    "plt.xlabel('average_montly_hours_quali', color = 'blue')\n",
    "plt.ylabel('effectif', color = 'blue')\n",
    "plt.show()"
   ]
  },
  {
   "cell_type": "markdown",
   "id": "a92906f6",
   "metadata": {},
   "source": [
    "##### D'après le résultat, 7238 employés ont travaillés en moyenne plus de 160h/mois et seulement 162 ont travaillés moins de 110h/mois"
   ]
  },
  {
   "cell_type": "code",
   "execution_count": 21,
   "id": "dd14dbbe",
   "metadata": {},
   "outputs": [
    {
     "data": {
      "text/plain": [
       "3     4311\n",
       "2     2174\n",
       "4     1713\n",
       "5      976\n",
       "6      483\n",
       "10     155\n",
       "7      122\n",
       "8      117\n",
       "Name: time_spend_company, dtype: int64"
      ]
     },
     "execution_count": 21,
     "metadata": {},
     "output_type": "execute_result"
    }
   ],
   "source": [
    "freq_time_spend_company = bidata['time_spend_company'].value_counts()\n",
    "freq_time_spend_company"
   ]
  },
  {
   "cell_type": "code",
   "execution_count": 22,
   "id": "1bb00d79",
   "metadata": {},
   "outputs": [
    {
     "data": {
      "image/png": "[encoded data removed]",
      "text/plain": [
       "<Figure size 640x480 with 1 Axes>"
      ]
     },
     "metadata": {},
     "output_type": "display_data"
    }
   ],
   "source": [
    "freq_time_spend_company.plot(kind='bar')\n",
    "plt.title(\"Le temps passé au seins de l'entreprise, en année\")\n",
    "plt.xlabel('time_spend_company', color = 'blue')\n",
    "plt.ylabel('effectif', color = 'blue')\n",
    "plt.show()"
   ]
  },
  {
   "cell_type": "markdown",
   "id": "059f8dc0",
   "metadata": {},
   "source": [
    "##### D'après le resultat, 4311 employés sont là depuis 3 ans. Pour la minorité d'entre eux soit 117 employés, depuis 8 ans."
   ]
  },
  {
   "cell_type": "code",
   "execution_count": 23,
   "id": "b24f0e99",
   "metadata": {},
   "outputs": [
    {
     "data": {
      "text/plain": [
       "0    8573\n",
       "1    1478\n",
       "Name: work_accident, dtype: int64"
      ]
     },
     "execution_count": 23,
     "metadata": {},
     "output_type": "execute_result"
    }
   ],
   "source": [
    "freq_work_accident = bidata['work_accident'].value_counts()\n",
    "freq_work_accident"
   ]
  },
  {
   "cell_type": "code",
   "execution_count": 24,
   "id": "9249217a",
   "metadata": {},
   "outputs": [
    {
     "data": {
      "image/png": "[encoded data removed]",
      "text/plain": [
       "<Figure size 640x480 with 1 Axes>"
      ]
     },
     "metadata": {},
     "output_type": "display_data"
    }
   ],
   "source": [
    "freq_work_accident.plot(kind='pie', autopct='%1.2f%%')\n",
    "plt.title('Pourcentage de personnes ayant subi ou non un accident du travail')\n",
    "plt.ylabel('')\n",
    "plt.show()"
   ]
  },
  {
   "cell_type": "markdown",
   "id": "d274d80e",
   "metadata": {},
   "source": [
    "##### D'après le résultat, 8573 ou 85% des employés n'ont pas subi d'accident de travail et 1478 ou 14% ont subi un accident du travail."
   ]
  },
  {
   "cell_type": "code",
   "execution_count": 25,
   "id": "238e40cd",
   "metadata": {},
   "outputs": [
    {
     "data": {
      "text/plain": [
       "0    9849\n",
       "1     202\n",
       "Name: promotion_last_5years, dtype: int64"
      ]
     },
     "execution_count": 25,
     "metadata": {},
     "output_type": "execute_result"
    }
   ],
   "source": [
    "freq_promotion_last_5years = bidata['promotion_last_5years'].value_counts()\n",
    "freq_promotion_last_5years"
   ]
  },
  {
   "cell_type": "code",
   "execution_count": 26,
   "id": "6b966f28",
   "metadata": {},
   "outputs": [
    {
     "data": {
      "image/png": "[encoded data removed]",
      "text/plain": [
       "<Figure size 640x480 with 1 Axes>"
      ]
     },
     "metadata": {},
     "output_type": "display_data"
    }
   ],
   "source": [
    "freq_promotion_last_5years.plot(kind='bar')\n",
    "plt.title('Nombre de personnes ayant reçu ou non une promotion ces 5 dernières années')\n",
    "plt.xlabel('promotion_last_5years', color = 'blue')\n",
    "plt.ylabel('effectif', color = 'blue')\n",
    "plt.show()"
   ]
  },
  {
   "cell_type": "markdown",
   "id": "163fd2ce",
   "metadata": {},
   "source": [
    "##### D'après le résultat, seulement 202 employés ont eu une promotion lors de ces 5 dernières années."
   ]
  },
  {
   "cell_type": "code",
   "execution_count": 27,
   "id": "69b399e4",
   "metadata": {},
   "outputs": [
    {
     "data": {
      "text/plain": [
       "sales          2816\n",
       "technical      1808\n",
       "support        1468\n",
       "IT              852\n",
       "product_mng     586\n",
       "marketing       583\n",
       "RandD           509\n",
       "accounting      502\n",
       "hr              494\n",
       "management      433\n",
       "Name: job, dtype: int64"
      ]
     },
     "execution_count": 27,
     "metadata": {},
     "output_type": "execute_result"
    }
   ],
   "source": [
    "freq_job = bidata['job'].value_counts()\n",
    "freq_job"
   ]
  },
  {
   "cell_type": "code",
   "execution_count": 28,
   "id": "482c948e",
   "metadata": {},
   "outputs": [
    {
     "data": {
      "image/png": "[encoded data removed]",
      "text/plain": [
       "<Figure size 1000x1000 with 1 Axes>"
      ]
     },
     "metadata": {},
     "output_type": "display_data"
    }
   ],
   "source": [
    "freq_job.plot(kind='pie', autopct='%1.2f%%')\n",
    "plt.title('Les différents jobs des personnes dans notre base de donnée')\n",
    "plt.ylabel('')\n",
    "plt.gcf().set_size_inches(10, 10)\n",
    "\n",
    "plt.show()"
   ]
  },
  {
   "cell_type": "markdown",
   "id": "0e267ce7",
   "metadata": {},
   "source": [
    "##### D'après le résultat, 2816 employés soit 28% ont un poste en vente, et seulement 433 soit 4.3% ont un poste dans le domaine du management."
   ]
  },
  {
   "cell_type": "code",
   "execution_count": 29,
   "id": "875fc9a9",
   "metadata": {},
   "outputs": [
    {
     "data": {
      "text/plain": [
       "low       4899\n",
       "medium    4324\n",
       "high       828\n",
       "Name: salary, dtype: int64"
      ]
     },
     "execution_count": 29,
     "metadata": {},
     "output_type": "execute_result"
    }
   ],
   "source": [
    "freq_salary = bidata['salary'].value_counts()\n",
    "freq_salary"
   ]
  },
  {
   "cell_type": "code",
   "execution_count": 30,
   "id": "bc5bea4e",
   "metadata": {},
   "outputs": [
    {
     "data": {
      "image/png": "[encoded data removed]",
      "text/plain": [
       "<Figure size 640x480 with 1 Axes>"
      ]
     },
     "metadata": {},
     "output_type": "display_data"
    }
   ],
   "source": [
    "freq_salary.plot(kind='pie', autopct='%1.2f%%')\n",
    "plt.title('La fréquence des différents niveau de salaire au sein de notre base de donnée, en %')\n",
    "plt.ylabel('')\n",
    "plt.show()"
   ]
  },
  {
   "cell_type": "markdown",
   "id": "6cb61cd2",
   "metadata": {},
   "source": [
    "##### D'après le résultat, 4899 soit 48.7% des employés ont un salaire faible et 828 soit 8.2% ont un salaire élevé."
   ]
  },
  {
   "cell_type": "code",
   "execution_count": 31,
   "id": "c0db130e",
   "metadata": {},
   "outputs": [
    {
     "data": {
      "text/plain": [
       "0    7662\n",
       "1    2389\n",
       "Name: left, dtype: int64"
      ]
     },
     "execution_count": 31,
     "metadata": {},
     "output_type": "execute_result"
    }
   ],
   "source": [
    "freq_left = bidata['left'].value_counts()\n",
    "freq_left\n",
    "#Les colonnes \"left_quanti\" et \"left\" ont les même données. La fréquence sera donc la même. Yes=1 et No=0."
   ]
  },
  {
   "cell_type": "code",
   "execution_count": 32,
   "id": "f6eaea72",
   "metadata": {},
   "outputs": [
    {
     "data": {
      "image/png": "[encoded data removed]",
      "text/plain": [
       "<Figure size 640x480 with 1 Axes>"
      ]
     },
     "metadata": {},
     "output_type": "display_data"
    }
   ],
   "source": [
    "freq_left.plot(kind='bar')\n",
    "plt.title(\"Le nombre de personne ayant quitté ou non la compagnie dans l'effectif\")\n",
    "plt.xlabel('left', color = 'blue')\n",
    "plt.ylabel('effectif', color = 'blue')\n",
    "plt.show()"
   ]
  },
  {
   "cell_type": "markdown",
   "id": "ed6ff46c",
   "metadata": {},
   "source": [
    "##### D'après le résultat, 7662 employés sont restés dans l'entreprise et 2389 sont partis."
   ]
  },
  {
   "cell_type": "code",
   "execution_count": 33,
   "id": "503aeedc",
   "metadata": {},
   "outputs": [
    {
     "data": {
      "text/plain": [
       "id_colab                         4\n",
       "satisfaction_level            0,09\n",
       "last_evaluation               0,36\n",
       "number_project                   2\n",
       "average_montly_hours            96\n",
       "time_spend_company               2\n",
       "work_accident                    0\n",
       "promotion_last_5years            0\n",
       "job                             IT\n",
       "salary                        high\n",
       "left                             0\n",
       "left_quanti                     no\n",
       "average_montly_hours_quali     low\n",
       "dtype: object"
      ]
     },
     "execution_count": 33,
     "metadata": {},
     "output_type": "execute_result"
    }
   ],
   "source": [
    "#Etendue min\n",
    "#id_colab,job,salary,left_quanti,average_montly_hours_quali sont insignifiant.\n",
    "min_all = bidata.min()\n",
    "min_all"
   ]
  },
  {
   "cell_type": "markdown",
   "id": "4059e6e9",
   "metadata": {},
   "source": [
    "##### D'après le résultat, le minimum de projets affecté est de 2 et le minimum d'heures effectués par mois est de 96h."
   ]
  },
  {
   "cell_type": "code",
   "execution_count": 34,
   "id": "ae585ab1",
   "metadata": {},
   "outputs": [
    {
     "data": {
      "text/plain": [
       "id_colab                          14998\n",
       "satisfaction_level                    1\n",
       "last_evaluation                       1\n",
       "number_project                        7\n",
       "average_montly_hours                310\n",
       "time_spend_company                   10\n",
       "work_accident                         1\n",
       "promotion_last_5years                 1\n",
       "job                           technical\n",
       "salary                           medium\n",
       "left                                  1\n",
       "left_quanti                         yes\n",
       "average_montly_hours_quali         high\n",
       "dtype: object"
      ]
     },
     "execution_count": 34,
     "metadata": {},
     "output_type": "execute_result"
    }
   ],
   "source": [
    "#Etendue max\n",
    "#id_colab,job,salary,left_quanti,average_montly_hours_quali sont insignifiant.\n",
    "max_all = bidata.max()\n",
    "max_all"
   ]
  },
  {
   "cell_type": "markdown",
   "id": "086f782c",
   "metadata": {},
   "source": [
    "##### D'après le résultat, le nombre maximum projets affecté est de 7 et le maximum d'heures effectués par mois est de 310h."
   ]
  },
  {
   "cell_type": "code",
   "execution_count": 35,
   "id": "76653c19",
   "metadata": {},
   "outputs": [
    {
     "data": {
      "text/html": [
       "<div>\n",
       "<style scoped>\n",
       "    .dataframe tbody tr th:only-of-type {\n",
       "        vertical-align: middle;\n",
       "    }\n",
       "\n",
       "    .dataframe tbody tr th {\n",
       "        vertical-align: top;\n",
       "    }\n",
       "\n",
       "    .dataframe thead th {\n",
       "        text-align: right;\n",
       "    }\n",
       "</style>\n",
       "<table border=\"1\" class=\"dataframe\">\n",
       "  <thead>\n",
       "    <tr style=\"text-align: right;\">\n",
       "      <th></th>\n",
       "      <th>id_colab</th>\n",
       "      <th>number_project</th>\n",
       "      <th>average_montly_hours</th>\n",
       "      <th>time_spend_company</th>\n",
       "      <th>work_accident</th>\n",
       "      <th>promotion_last_5years</th>\n",
       "      <th>left</th>\n",
       "    </tr>\n",
       "  </thead>\n",
       "  <tbody>\n",
       "    <tr>\n",
       "      <th>0.25</th>\n",
       "      <td>3750.5</td>\n",
       "      <td>3.0</td>\n",
       "      <td>156.0</td>\n",
       "      <td>3.0</td>\n",
       "      <td>0.0</td>\n",
       "      <td>0.0</td>\n",
       "      <td>0.0</td>\n",
       "    </tr>\n",
       "    <tr>\n",
       "      <th>0.50</th>\n",
       "      <td>7500.0</td>\n",
       "      <td>4.0</td>\n",
       "      <td>199.0</td>\n",
       "      <td>3.0</td>\n",
       "      <td>0.0</td>\n",
       "      <td>0.0</td>\n",
       "      <td>0.0</td>\n",
       "    </tr>\n",
       "    <tr>\n",
       "      <th>0.75</th>\n",
       "      <td>11249.0</td>\n",
       "      <td>5.0</td>\n",
       "      <td>245.0</td>\n",
       "      <td>4.0</td>\n",
       "      <td>0.0</td>\n",
       "      <td>0.0</td>\n",
       "      <td>0.0</td>\n",
       "    </tr>\n",
       "  </tbody>\n",
       "</table>\n",
       "</div>"
      ],
      "text/plain": [
       "      id_colab  number_project  average_montly_hours  time_spend_company  \\\n",
       "0.25    3750.5             3.0                 156.0                 3.0   \n",
       "0.50    7500.0             4.0                 199.0                 3.0   \n",
       "0.75   11249.0             5.0                 245.0                 4.0   \n",
       "\n",
       "      work_accident  promotion_last_5years  left  \n",
       "0.25            0.0                    0.0   0.0  \n",
       "0.50            0.0                    0.0   0.0  \n",
       "0.75            0.0                    0.0   0.0  "
      ]
     },
     "execution_count": 35,
     "metadata": {},
     "output_type": "execute_result"
    }
   ],
   "source": [
    "#Percentile\n",
    "#id_colab est insignifiant\n",
    "percentiles_all = bidata.quantile([0.25, 0.5, 0.75])\n",
    "percentiles_all"
   ]
  },
  {
   "cell_type": "markdown",
   "id": "5d58e61b",
   "metadata": {},
   "source": [
    "##### D'après le résultat, 25% des employés ont été affectés à 3 projets et 75% à 5 projets. Concernant les heures effectués par mois 25% des employés travaillent 156h/mois et 75% travaillent 245h/mois."
   ]
  },
  {
   "cell_type": "markdown",
   "id": "8a2cb8fd",
   "metadata": {},
   "source": [
    "##### Voici un tableau regroupant l'ensemble des KPIs ci dessus:"
   ]
  },
  {
   "cell_type": "code",
   "execution_count": 36,
   "id": "51b3b4c6",
   "metadata": {},
   "outputs": [
    {
     "data": {
      "text/html": [
       "<div>\n",
       "<style scoped>\n",
       "    .dataframe tbody tr th:only-of-type {\n",
       "        vertical-align: middle;\n",
       "    }\n",
       "\n",
       "    .dataframe tbody tr th {\n",
       "        vertical-align: top;\n",
       "    }\n",
       "\n",
       "    .dataframe thead th {\n",
       "        text-align: right;\n",
       "    }\n",
       "</style>\n",
       "<table border=\"1\" class=\"dataframe\">\n",
       "  <thead>\n",
       "    <tr style=\"text-align: right;\">\n",
       "      <th></th>\n",
       "      <th>id_colab</th>\n",
       "      <th>number_project</th>\n",
       "      <th>average_montly_hours</th>\n",
       "      <th>time_spend_company</th>\n",
       "      <th>work_accident</th>\n",
       "      <th>promotion_last_5years</th>\n",
       "      <th>left</th>\n",
       "    </tr>\n",
       "  </thead>\n",
       "  <tbody>\n",
       "    <tr>\n",
       "      <th>count</th>\n",
       "      <td>10051.00</td>\n",
       "      <td>10051.00</td>\n",
       "      <td>10051.00</td>\n",
       "      <td>10051.00</td>\n",
       "      <td>10051.00</td>\n",
       "      <td>10051.00</td>\n",
       "      <td>10051.00</td>\n",
       "    </tr>\n",
       "    <tr>\n",
       "      <th>mean</th>\n",
       "      <td>7492.24</td>\n",
       "      <td>3.80</td>\n",
       "      <td>200.81</td>\n",
       "      <td>3.51</td>\n",
       "      <td>0.15</td>\n",
       "      <td>0.02</td>\n",
       "      <td>0.24</td>\n",
       "    </tr>\n",
       "    <tr>\n",
       "      <th>std</th>\n",
       "      <td>4331.36</td>\n",
       "      <td>1.23</td>\n",
       "      <td>49.78</td>\n",
       "      <td>1.48</td>\n",
       "      <td>0.35</td>\n",
       "      <td>0.14</td>\n",
       "      <td>0.43</td>\n",
       "    </tr>\n",
       "    <tr>\n",
       "      <th>min</th>\n",
       "      <td>4.00</td>\n",
       "      <td>2.00</td>\n",
       "      <td>96.00</td>\n",
       "      <td>2.00</td>\n",
       "      <td>0.00</td>\n",
       "      <td>0.00</td>\n",
       "      <td>0.00</td>\n",
       "    </tr>\n",
       "    <tr>\n",
       "      <th>25%</th>\n",
       "      <td>3750.50</td>\n",
       "      <td>3.00</td>\n",
       "      <td>156.00</td>\n",
       "      <td>3.00</td>\n",
       "      <td>0.00</td>\n",
       "      <td>0.00</td>\n",
       "      <td>0.00</td>\n",
       "    </tr>\n",
       "    <tr>\n",
       "      <th>50%</th>\n",
       "      <td>7500.00</td>\n",
       "      <td>4.00</td>\n",
       "      <td>199.00</td>\n",
       "      <td>3.00</td>\n",
       "      <td>0.00</td>\n",
       "      <td>0.00</td>\n",
       "      <td>0.00</td>\n",
       "    </tr>\n",
       "    <tr>\n",
       "      <th>75%</th>\n",
       "      <td>11249.00</td>\n",
       "      <td>5.00</td>\n",
       "      <td>245.00</td>\n",
       "      <td>4.00</td>\n",
       "      <td>0.00</td>\n",
       "      <td>0.00</td>\n",
       "      <td>0.00</td>\n",
       "    </tr>\n",
       "    <tr>\n",
       "      <th>max</th>\n",
       "      <td>14998.00</td>\n",
       "      <td>7.00</td>\n",
       "      <td>310.00</td>\n",
       "      <td>10.00</td>\n",
       "      <td>1.00</td>\n",
       "      <td>1.00</td>\n",
       "      <td>1.00</td>\n",
       "    </tr>\n",
       "  </tbody>\n",
       "</table>\n",
       "</div>"
      ],
      "text/plain": [
       "       id_colab number_project average_montly_hours time_spend_company  \\\n",
       "count  10051.00       10051.00             10051.00           10051.00   \n",
       "mean    7492.24           3.80               200.81               3.51   \n",
       "std     4331.36           1.23                49.78               1.48   \n",
       "min        4.00           2.00                96.00               2.00   \n",
       "25%     3750.50           3.00               156.00               3.00   \n",
       "50%     7500.00           4.00               199.00               3.00   \n",
       "75%    11249.00           5.00               245.00               4.00   \n",
       "max    14998.00           7.00               310.00              10.00   \n",
       "\n",
       "      work_accident promotion_last_5years      left  \n",
       "count      10051.00              10051.00  10051.00  \n",
       "mean           0.15                  0.02      0.24  \n",
       "std            0.35                  0.14      0.43  \n",
       "min            0.00                  0.00      0.00  \n",
       "25%            0.00                  0.00      0.00  \n",
       "50%            0.00                  0.00      0.00  \n",
       "75%            0.00                  0.00      0.00  \n",
       "max            1.00                  1.00      1.00  "
      ]
     },
     "execution_count": 36,
     "metadata": {},
     "output_type": "execute_result"
    }
   ],
   "source": [
    "kpi = bidata.describe().applymap('{:.2f}'.format)\n",
    "kpi\n",
    "#On ne tient pas compte de id_colab et left car insignifiant."
   ]
  },
  {
   "cell_type": "code",
   "execution_count": 37,
   "id": "80243c24",
   "metadata": {},
   "outputs": [
    {
     "data": {
      "text/html": [
       "<div>\n",
       "<style scoped>\n",
       "    .dataframe tbody tr th:only-of-type {\n",
       "        vertical-align: middle;\n",
       "    }\n",
       "\n",
       "    .dataframe tbody tr th {\n",
       "        vertical-align: top;\n",
       "    }\n",
       "\n",
       "    .dataframe thead th {\n",
       "        text-align: right;\n",
       "    }\n",
       "</style>\n",
       "<table border=\"1\" class=\"dataframe\">\n",
       "  <thead>\n",
       "    <tr style=\"text-align: right;\">\n",
       "      <th></th>\n",
       "      <th>satisfaction_level</th>\n",
       "      <th>last_evaluation</th>\n",
       "      <th>job</th>\n",
       "      <th>salary</th>\n",
       "      <th>left_quanti</th>\n",
       "    </tr>\n",
       "  </thead>\n",
       "  <tbody>\n",
       "    <tr>\n",
       "      <th>count</th>\n",
       "      <td>10051</td>\n",
       "      <td>10051</td>\n",
       "      <td>10051</td>\n",
       "      <td>10051</td>\n",
       "      <td>10051</td>\n",
       "    </tr>\n",
       "    <tr>\n",
       "      <th>unique</th>\n",
       "      <td>92</td>\n",
       "      <td>65</td>\n",
       "      <td>10</td>\n",
       "      <td>3</td>\n",
       "      <td>2</td>\n",
       "    </tr>\n",
       "    <tr>\n",
       "      <th>top</th>\n",
       "      <td>0,1</td>\n",
       "      <td>0,54</td>\n",
       "      <td>sales</td>\n",
       "      <td>low</td>\n",
       "      <td>no</td>\n",
       "    </tr>\n",
       "    <tr>\n",
       "      <th>freq</th>\n",
       "      <td>261</td>\n",
       "      <td>248</td>\n",
       "      <td>2816</td>\n",
       "      <td>4899</td>\n",
       "      <td>7662</td>\n",
       "    </tr>\n",
       "  </tbody>\n",
       "</table>\n",
       "</div>"
      ],
      "text/plain": [
       "       satisfaction_level last_evaluation    job salary left_quanti\n",
       "count               10051           10051  10051  10051       10051\n",
       "unique                 92              65     10      3           2\n",
       "top                   0,1            0,54  sales    low          no\n",
       "freq                  261             248   2816   4899        7662"
      ]
     },
     "execution_count": 37,
     "metadata": {},
     "output_type": "execute_result"
    }
   ],
   "source": [
    "bidata.describe(include=[object])\n",
    "     "
   ]
  },
  {
   "cell_type": "markdown",
   "id": "97278f11",
   "metadata": {},
   "source": [
    "## F-Représentation graphique de la distribution des données"
   ]
  },
  {
   "cell_type": "code",
   "execution_count": 38,
   "id": "f1102fa4",
   "metadata": {},
   "outputs": [
    {
     "data": {
      "text/html": [
       "<div>\n",
       "<style scoped>\n",
       "    .dataframe tbody tr th:only-of-type {\n",
       "        vertical-align: middle;\n",
       "    }\n",
       "\n",
       "    .dataframe tbody tr th {\n",
       "        vertical-align: top;\n",
       "    }\n",
       "\n",
       "    .dataframe thead th {\n",
       "        text-align: right;\n",
       "    }\n",
       "</style>\n",
       "<table border=\"1\" class=\"dataframe\">\n",
       "  <thead>\n",
       "    <tr style=\"text-align: right;\">\n",
       "      <th></th>\n",
       "      <th>id_colab</th>\n",
       "      <th>satisfaction_level</th>\n",
       "      <th>last_evaluation</th>\n",
       "      <th>number_project</th>\n",
       "      <th>average_montly_hours</th>\n",
       "      <th>time_spend_company</th>\n",
       "      <th>work_accident</th>\n",
       "      <th>promotion_last_5years</th>\n",
       "      <th>job</th>\n",
       "      <th>salary</th>\n",
       "      <th>left</th>\n",
       "      <th>left_quanti</th>\n",
       "      <th>average_montly_hours_quali</th>\n",
       "    </tr>\n",
       "  </thead>\n",
       "  <tbody>\n",
       "    <tr>\n",
       "      <th>0</th>\n",
       "      <td>4</td>\n",
       "      <td>0,72</td>\n",
       "      <td>0,87</td>\n",
       "      <td>5</td>\n",
       "      <td>223</td>\n",
       "      <td>5</td>\n",
       "      <td>0</td>\n",
       "      <td>0</td>\n",
       "      <td>sales</td>\n",
       "      <td>low</td>\n",
       "      <td>1</td>\n",
       "      <td>yes</td>\n",
       "      <td>high</td>\n",
       "    </tr>\n",
       "    <tr>\n",
       "      <th>1</th>\n",
       "      <td>5</td>\n",
       "      <td>0,37</td>\n",
       "      <td>0,52</td>\n",
       "      <td>2</td>\n",
       "      <td>159</td>\n",
       "      <td>3</td>\n",
       "      <td>0</td>\n",
       "      <td>0</td>\n",
       "      <td>sales</td>\n",
       "      <td>low</td>\n",
       "      <td>1</td>\n",
       "      <td>yes</td>\n",
       "      <td>medium</td>\n",
       "    </tr>\n",
       "    <tr>\n",
       "      <th>2</th>\n",
       "      <td>7</td>\n",
       "      <td>0,1</td>\n",
       "      <td>0,77</td>\n",
       "      <td>6</td>\n",
       "      <td>247</td>\n",
       "      <td>4</td>\n",
       "      <td>0</td>\n",
       "      <td>0</td>\n",
       "      <td>sales</td>\n",
       "      <td>low</td>\n",
       "      <td>1</td>\n",
       "      <td>yes</td>\n",
       "      <td>high</td>\n",
       "    </tr>\n",
       "    <tr>\n",
       "      <th>3</th>\n",
       "      <td>9</td>\n",
       "      <td>0,89</td>\n",
       "      <td>1</td>\n",
       "      <td>5</td>\n",
       "      <td>224</td>\n",
       "      <td>5</td>\n",
       "      <td>0</td>\n",
       "      <td>0</td>\n",
       "      <td>sales</td>\n",
       "      <td>low</td>\n",
       "      <td>1</td>\n",
       "      <td>yes</td>\n",
       "      <td>high</td>\n",
       "    </tr>\n",
       "    <tr>\n",
       "      <th>4</th>\n",
       "      <td>10</td>\n",
       "      <td>0,42</td>\n",
       "      <td>0,53</td>\n",
       "      <td>2</td>\n",
       "      <td>142</td>\n",
       "      <td>3</td>\n",
       "      <td>0</td>\n",
       "      <td>0</td>\n",
       "      <td>sales</td>\n",
       "      <td>low</td>\n",
       "      <td>1</td>\n",
       "      <td>yes</td>\n",
       "      <td>medium</td>\n",
       "    </tr>\n",
       "  </tbody>\n",
       "</table>\n",
       "</div>"
      ],
      "text/plain": [
       "   id_colab satisfaction_level last_evaluation  number_project  \\\n",
       "0         4               0,72            0,87               5   \n",
       "1         5               0,37            0,52               2   \n",
       "2         7                0,1            0,77               6   \n",
       "3         9               0,89               1               5   \n",
       "4        10               0,42            0,53               2   \n",
       "\n",
       "   average_montly_hours  time_spend_company  work_accident  \\\n",
       "0                   223                   5              0   \n",
       "1                   159                   3              0   \n",
       "2                   247                   4              0   \n",
       "3                   224                   5              0   \n",
       "4                   142                   3              0   \n",
       "\n",
       "   promotion_last_5years    job salary  left left_quanti  \\\n",
       "0                      0  sales    low     1         yes   \n",
       "1                      0  sales    low     1         yes   \n",
       "2                      0  sales    low     1         yes   \n",
       "3                      0  sales    low     1         yes   \n",
       "4                      0  sales    low     1         yes   \n",
       "\n",
       "  average_montly_hours_quali  \n",
       "0                       high  \n",
       "1                     medium  \n",
       "2                       high  \n",
       "3                       high  \n",
       "4                     medium  "
      ]
     },
     "execution_count": 38,
     "metadata": {},
     "output_type": "execute_result"
    }
   ],
   "source": [
    "#Rappelons ici à quoi notre dataframe \"bidata\" ressemble en affichant seulement les 5premières lignes.\n",
    "bidata.head()"
   ]
  },
  {
   "cell_type": "markdown",
   "id": "dbeec4bb",
   "metadata": {},
   "source": [
    "Nous allons maintenant crée graphiquement ces données afin de donner un aperçu plus claire de celles-ci"
   ]
  },
  {
   "cell_type": "code",
   "execution_count": 39,
   "id": "d1d15fcd",
   "metadata": {},
   "outputs": [
    {
     "data": {
      "text/plain": [
       "<AxesSubplot:xlabel='number_project', ylabel='Count'>"
      ]
     },
     "execution_count": 39,
     "metadata": {},
     "output_type": "execute_result"
    },
    {
     "data": {
      "image/png": "[encoded data removed]",
      "text/plain": [
       "<Figure size 640x480 with 1 Axes>"
      ]
     },
     "metadata": {},
     "output_type": "display_data"
    }
   ],
   "source": [
    "sns.histplot(bidata[\"number_project\"],color= '#ff8800')"
   ]
  },
  {
   "cell_type": "markdown",
   "id": "bf53404b",
   "metadata": {},
   "source": [
    "Sur ce graphique nous pouvons visualiser le nombre de projets attribués à chaque salarié.\n",
    "\n",
    "Nous pouvons constater que en général les salariés sont affectés à 4 projets"
   ]
  },
  {
   "cell_type": "code",
   "execution_count": 40,
   "id": "a82f078f",
   "metadata": {},
   "outputs": [
    {
     "data": {
      "text/plain": [
       "<AxesSubplot:xlabel='work_accident', ylabel='Count'>"
      ]
     },
     "execution_count": 40,
     "metadata": {},
     "output_type": "execute_result"
    },
    {
     "data": {
      "image/png": "[encoded data removed]",
      "text/plain": [
       "<Figure size 640x480 with 1 Axes>"
      ]
     },
     "metadata": {},
     "output_type": "display_data"
    }
   ],
   "source": [
    "sns.histplot(bidata[\"work_accident\"],color= '#ff8800')"
   ]
  },
  {
   "cell_type": "markdown",
   "id": "3b874ac7",
   "metadata": {},
   "source": [
    "Sur ce graphique, nous pouvons visualiser le nombre d'accidents de travail sur l'effectif de l'entreprise.\n",
    "\n",
    "Nous pouvons constater sur ce graphique qu'il à peu d'accidents de travail"
   ]
  },
  {
   "cell_type": "code",
   "execution_count": 41,
   "id": "531ccff3",
   "metadata": {},
   "outputs": [
    {
     "data": {
      "text/plain": [
       "<AxesSubplot:xlabel='average_montly_hours', ylabel='Count'>"
      ]
     },
     "execution_count": 41,
     "metadata": {},
     "output_type": "execute_result"
    },
    {
     "data": {
      "image/png": "[encoded data removed]",
      "text/plain": [
       "<Figure size 640x480 with 1 Axes>"
      ]
     },
     "metadata": {},
     "output_type": "display_data"
    }
   ],
   "source": [
    "sns.histplot(bidata[\"average_montly_hours\"],color= '#ff8800')"
   ]
  },
  {
   "cell_type": "markdown",
   "id": "4fe19265",
   "metadata": {},
   "source": [
    "Sur ce graphique, nous pouvons visualiser le nombre d'heure travaillés moyen par mois des salariés.\n",
    "\n",
    "Nous pouvons constater que beaucoup travaillent environ 150h/mois et 250h/mois."
   ]
  },
  {
   "cell_type": "code",
   "execution_count": 42,
   "id": "80268874",
   "metadata": {},
   "outputs": [
    {
     "data": {
      "text/plain": [
       "([0, 1, 2, 3, 4, 5, 6, 7, 8, 9],\n",
       " [Text(0, 0, ''),\n",
       "  Text(0, 0, ''),\n",
       "  Text(0, 0, ''),\n",
       "  Text(0, 0, ''),\n",
       "  Text(0, 0, ''),\n",
       "  Text(0, 0, ''),\n",
       "  Text(0, 0, ''),\n",
       "  Text(0, 0, ''),\n",
       "  Text(0, 0, ''),\n",
       "  Text(0, 0, '')])"
      ]
     },
     "execution_count": 42,
     "metadata": {},
     "output_type": "execute_result"
    },
    {
     "data": {
      "image/png": "[encoded data removed]",
      "text/plain": [
       "<Figure size 640x480 with 1 Axes>"
      ]
     },
     "metadata": {},
     "output_type": "display_data"
    }
   ],
   "source": [
    "sns.histplot(bidata[\"job\"],color= '#ff8800')\n",
    "plt.xticks(rotation=-45)"
   ]
  },
  {
   "cell_type": "markdown",
   "id": "ef84d552",
   "metadata": {},
   "source": [
    "Ce graphique nous montre la répartition des métiers dans l'entreprise\n",
    "\n",
    "Nous pouvons constater que le domaine des ventes est le plus représenté."
   ]
  },
  {
   "cell_type": "code",
   "execution_count": 43,
   "id": "d095da91",
   "metadata": {},
   "outputs": [
    {
     "data": {
      "text/plain": [
       "<AxesSubplot:xlabel='salary', ylabel='Count'>"
      ]
     },
     "execution_count": 43,
     "metadata": {},
     "output_type": "execute_result"
    },
    {
     "data": {
      "image/png": "[encoded data removed]",
      "text/plain": [
       "<Figure size 640x480 with 1 Axes>"
      ]
     },
     "metadata": {},
     "output_type": "display_data"
    }
   ],
   "source": [
    "sns.histplot(bidata[\"salary\"],color= '#ff8800')"
   ]
  },
  {
   "cell_type": "markdown",
   "id": "f0e0993e",
   "metadata": {},
   "source": [
    "Ici le graphique nous montre la variation des salaires dans l'entreprise.\n",
    "\n",
    "Nous pouvons constater que la plupart des salariés ont un salaire bas et moyen et très peu ont un salaire élevé.\n",
    "\n",
    "Voici un tableau de bord Power bi qui nous montre le profil des salariés de notre entreprise (sans prendre en compte les départs)"
   ]
  },
  {
   "cell_type": "code",
   "execution_count": 44,
   "id": "009cdb5b",
   "metadata": {},
   "outputs": [
    {
     "ename": "FileNotFoundError",
     "evalue": "[Errno 2] No such file or directory: 'Dashboard effectif global.png'",
     "output_type": "error",
     "traceback": [
      "\u001b[0;31m---------------------------------------------------------------------------\u001b[0m",
      "\u001b[0;31mFileNotFoundError\u001b[0m                         Traceback (most recent call last)",
      "\u001b[0;32m/var/folders/f8/nmk0msc11xj6pmj3wt53cglr0000gn/T/ipykernel_31214/2178487136.py\u001b[0m in \u001b[0;36m<module>\u001b[0;34m\u001b[0m\n\u001b[0;32m----> 1\u001b[0;31m \u001b[0mimdashboardglo\u001b[0m \u001b[0;34m=\u001b[0m \u001b[0mImage\u001b[0m\u001b[0;34m.\u001b[0m\u001b[0mopen\u001b[0m\u001b[0;34m(\u001b[0m\u001b[0;34m'Dashboard effectif global.png'\u001b[0m\u001b[0;34m)\u001b[0m\u001b[0;34m\u001b[0m\u001b[0;34m\u001b[0m\u001b[0m\n\u001b[0m\u001b[1;32m      2\u001b[0m \u001b[0mimdashboardglo\u001b[0m\u001b[0;34m\u001b[0m\u001b[0;34m\u001b[0m\u001b[0m\n",
      "\u001b[0;32m/opt/anaconda3/lib/python3.9/site-packages/PIL/Image.py\u001b[0m in \u001b[0;36mopen\u001b[0;34m(fp, mode, formats)\u001b[0m\n\u001b[1;32m   3090\u001b[0m \u001b[0;34m\u001b[0m\u001b[0m\n\u001b[1;32m   3091\u001b[0m     \u001b[0;32mif\u001b[0m \u001b[0mfilename\u001b[0m\u001b[0;34m:\u001b[0m\u001b[0;34m\u001b[0m\u001b[0;34m\u001b[0m\u001b[0m\n\u001b[0;32m-> 3092\u001b[0;31m         \u001b[0mfp\u001b[0m \u001b[0;34m=\u001b[0m \u001b[0mbuiltins\u001b[0m\u001b[0;34m.\u001b[0m\u001b[0mopen\u001b[0m\u001b[0;34m(\u001b[0m\u001b[0mfilename\u001b[0m\u001b[0;34m,\u001b[0m \u001b[0;34m\"rb\"\u001b[0m\u001b[0;34m)\u001b[0m\u001b[0;34m\u001b[0m\u001b[0;34m\u001b[0m\u001b[0m\n\u001b[0m\u001b[1;32m   3093\u001b[0m         \u001b[0mexclusive_fp\u001b[0m \u001b[0;34m=\u001b[0m \u001b[0;32mTrue\u001b[0m\u001b[0;34m\u001b[0m\u001b[0;34m\u001b[0m\u001b[0m\n\u001b[1;32m   3094\u001b[0m \u001b[0;34m\u001b[0m\u001b[0m\n",
      "\u001b[0;31mFileNotFoundError\u001b[0m: [Errno 2] No such file or directory: 'Dashboard effectif global.png'"
     ]
    }
   ],
   "source": [
    "imdashboardglo = Image.open('Dashboard effectif global.png')\n",
    "imdashboardglo"
   ]
  },
  {
   "cell_type": "markdown",
   "id": "e4e3fb31",
   "metadata": {},
   "source": [
    "##### Ces graphiques sont un avant goût du prochain chapitre dans lequel nous allons explorer les données grâce à des analyses multivariés."
   ]
  },
  {
   "cell_type": "markdown",
   "id": "bed9580f",
   "metadata": {},
   "source": [
    "# II- Chapitre 2 : Explorer les données\n",
    "\n",
    "Dans ce chapitre nous allons comparer les variables entre elles afin de pouvoir interpreter des résultats. Cela vas nous permettre de mieux comprendre nos données et de comprendre ce qui pousse les employés à quitter l'entreprise.\n",
    "\n",
    "### A-Comparer des variables\n",
    "#### Comparaison de nos variables numériques\n",
    "\n",
    "Voici un tableau de corrélation de nos variables numérique.Le tableau de corrélation est un outil statistique qui montre la force et la direction de la relation entre deux ou plusieurs variables quantitatives. Il peut être utilisé pour identifier les variables qui sont fortement corrélées et qui peuvent influencer les résultats d'une analyse."
   ]
  },
  {
   "cell_type": "code",
   "execution_count": null,
   "id": "026292cb",
   "metadata": {
    "tags": []
   },
   "outputs": [],
   "source": []
  },
  {
   "cell_type": "markdown",
   "id": "974d9edc",
   "metadata": {},
   "source": [
    "Voici une représentation graphique via une heatmap de ce tableau de corrélation qui nous permet d'avoir une meilleur visualisation des résultats : "
   ]
  },
  {
   "cell_type": "code",
   "execution_count": null,
   "id": "803c307f",
   "metadata": {},
   "outputs": [],
   "source": [
    "#Pour avoir une meilleure visiblité sur la correlation entre la variable \"left\" et toutes les autres, \n",
    "#nous avons décidé de transformer les variables \"salary\" et \"job\".\n",
    "bidata = bidata.assign(salary1=bidata['salary'])\n",
    "bidata['salary1'] = bidata['salary1'].map({'low' : 1, 'medium' : 2, 'high' : 3 })\n",
    "bidata = bidata.assign(job1=bidata['job'])\n",
    "bidata['job1'] = bidata['job1'].map({'sales' : 1, 'technical' : 2, 'support' : 3 , 'IT' : 4, 'product_mng' : 5, 'marketing' : 6, 'RandD' : 7, 'accounting' : 8, 'hr' : 9, 'management' : 10 })\n",
    "bidata.head()"
   ]
  },
  {
   "cell_type": "code",
   "execution_count": null,
   "id": "17bc692a",
   "metadata": {},
   "outputs": [],
   "source": [
    "bidata_numericvalues = bidata[bidata.columns[1:]]\n",
    "corr_matrix = bidata_numericvalues.corr(method='spearman')\n",
    "corr_matrix"
   ]
  },
  {
   "cell_type": "code",
   "execution_count": null,
   "id": "e4d487ad",
   "metadata": {},
   "outputs": [],
   "source": [
    "sns.heatmap(corr_matrix, annot=True, cmap='BuPu')\n",
    "print(sns.heatmap)"
   ]
  },
  {
   "cell_type": "markdown",
   "id": "b1554971",
   "metadata": {},
   "source": [
    "Interprétation du tableau de corrélation : \n",
    "\n"
   ]
  },
  {
   "cell_type": "markdown",
   "id": "b21944fc",
   "metadata": {},
   "source": [
    "#### Comparaison de nos variables qualitatives et test Chi2\n",
    "\n",
    "Afin de pouvoir comparer nos variables qualitatives nous allons utiliser la méthode du Chi2. En effet, cette méthode permet d'évaluer si une différence observée entre les fréquences observées et les fréquences théoriques est statistiquement significative.\n",
    "\n",
    "Le test du chi2 est souvent utilisé dans les sciences sociales et la médecine pour déterminer si une association statistique existe entre deux variables catégoriques, telles que le sexe et une maladie, ou l'âge et un comportement de consommation.\n",
    "\n",
    "L'intérêt du test du Khi² est de mesurer l'indépendance entre deux variables qualitatives à partir du tableau de contigence. \n",
    "\n",
    "##### Pour notre étude, nous allons comparer la variable \"left\" avec le reste des variables qualitatives.\n"
   ]
  },
  {
   "cell_type": "markdown",
   "id": "26ec7244-62c0-4983-bc0c-537a5571678a",
   "metadata": {},
   "source": [
    "##### ces deux liens nous ont aidé pour la compréhention du Test Chi-2 \n",
    "- https://asardell.github.io/statistique-python/\n",
    "- https://www.pythonfordatascience.org/chi-square-test-of-independence-python/"
   ]
  },
  {
   "cell_type": "markdown",
   "id": "9a004e5a-0902-4630-9273-1488c76d45d7",
   "metadata": {},
   "source": [
    "On pose les hypothèses de départ :\n",
    "- H0 : Variables indépendantes si p-value > 5%\n",
    "- H1 : Variables non indépendantes si p-value < 5%"
   ]
  },
  {
   "cell_type": "code",
   "execution_count": 45,
   "id": "1ceb8f16",
   "metadata": {},
   "outputs": [
    {
     "data": {
      "image/png": "[encoded data removed]",
      "text/plain": [
       "<Figure size 640x480 with 1 Axes>"
      ]
     },
     "metadata": {},
     "output_type": "display_data"
    }
   ],
   "source": [
    "# diagramme à barre de la variable\n",
    "sns.countplot(x='left', hue='salary', data=bidata);"
   ]
  },
  {
   "cell_type": "code",
   "execution_count": null,
   "id": "2ad62bdb-f66d-4bbb-8eb1-0d8961a02449",
   "metadata": {},
   "outputs": [],
   "source": [
    "# Hypothèses pour cette comparaison\n",
    "# H0 : la proportion de personne qui démissionne de l'entreprise est indépendante du salaire\n",
    "# H1 : la proportion de personne qui démissionne de l'entreprise est corrélée au salaire"
   ]
  },
  {
   "cell_type": "code",
   "execution_count": 46,
   "id": "c35848b4",
   "metadata": {},
   "outputs": [
    {
     "data": {
      "text/html": [
       "<div>\n",
       "<style scoped>\n",
       "    .dataframe tbody tr th:only-of-type {\n",
       "        vertical-align: middle;\n",
       "    }\n",
       "\n",
       "    .dataframe tbody tr th {\n",
       "        vertical-align: top;\n",
       "    }\n",
       "\n",
       "    .dataframe thead th {\n",
       "        text-align: right;\n",
       "    }\n",
       "</style>\n",
       "<table border=\"1\" class=\"dataframe\">\n",
       "  <thead>\n",
       "    <tr style=\"text-align: right;\">\n",
       "      <th>salary</th>\n",
       "      <th>high</th>\n",
       "      <th>low</th>\n",
       "      <th>medium</th>\n",
       "    </tr>\n",
       "    <tr>\n",
       "      <th>left</th>\n",
       "      <th></th>\n",
       "      <th></th>\n",
       "      <th></th>\n",
       "    </tr>\n",
       "  </thead>\n",
       "  <tbody>\n",
       "    <tr>\n",
       "      <th>0</th>\n",
       "      <td>770</td>\n",
       "      <td>3452</td>\n",
       "      <td>3440</td>\n",
       "    </tr>\n",
       "    <tr>\n",
       "      <th>1</th>\n",
       "      <td>58</td>\n",
       "      <td>1447</td>\n",
       "      <td>884</td>\n",
       "    </tr>\n",
       "  </tbody>\n",
       "</table>\n",
       "</div>"
      ],
      "text/plain": [
       "salary  high   low  medium\n",
       "left                      \n",
       "0        770  3452    3440\n",
       "1         58  1447     884"
      ]
     },
     "execution_count": 46,
     "metadata": {},
     "output_type": "execute_result"
    }
   ],
   "source": [
    "#tableau de contingence entre les variables 'left' et 'salary'\n",
    "df_ls = pd.crosstab(bidata['left'], bidata['salary'])\n",
    "df_ls"
   ]
  },
  {
   "cell_type": "code",
   "execution_count": 47,
   "id": "a66a2f5d",
   "metadata": {},
   "outputs": [
    {
     "data": {
      "text/plain": [
       "(244.7515811714342,\n",
       " 7.126387442442354e-54,\n",
       " 2,\n",
       " array([[ 631.19450801, 3734.56750572, 3296.23798627],\n",
       "        [ 196.80549199, 1164.43249428, 1027.76201373]]))"
      ]
     },
     "execution_count": 47,
     "metadata": {},
     "output_type": "execute_result"
    }
   ],
   "source": [
    "# calcule de p-value \n",
    "from scipy.stats import chi2_contingency\n",
    "from scipy import stats\n",
    "stats.chi2_contingency(df_ls, correction = True)"
   ]
  },
  {
   "cell_type": "markdown",
   "id": "13bc33d5",
   "metadata": {},
   "source": [
    "p-value = 7.126387442442354e-54 > 5% . Donc on ne peut pas rejeter l'hypothèse nulle, selon laquelle la proportion de personne démissionne de l'entreprise est indépendante du salaire perçu. On admet donc que le salaire n'est pas l'une des causes principales du départ des employées. "
   ]
  },
  {
   "cell_type": "code",
   "execution_count": 48,
   "id": "8e83f47d-097b-4200-8a46-78af03eece79",
   "metadata": {},
   "outputs": [
    {
     "data": {
      "image/png": "[encoded data removed]",
      "text/plain": [
       "<Figure size 640x480 with 1 Axes>"
      ]
     },
     "metadata": {},
     "output_type": "display_data"
    }
   ],
   "source": [
    "# diagramme à barre de la variable\n",
    "sns.countplot(x='left', hue='work_accident', data=bidata);"
   ]
  },
  {
   "cell_type": "code",
   "execution_count": 49,
   "id": "cec76f57-f82b-4f72-9f6a-79a9aee67d9b",
   "metadata": {},
   "outputs": [
    {
     "data": {
      "text/html": [
       "<div>\n",
       "<style scoped>\n",
       "    .dataframe tbody tr th:only-of-type {\n",
       "        vertical-align: middle;\n",
       "    }\n",
       "\n",
       "    .dataframe tbody tr th {\n",
       "        vertical-align: top;\n",
       "    }\n",
       "\n",
       "    .dataframe thead th {\n",
       "        text-align: right;\n",
       "    }\n",
       "</style>\n",
       "<table border=\"1\" class=\"dataframe\">\n",
       "  <thead>\n",
       "    <tr style=\"text-align: right;\">\n",
       "      <th>work_accident</th>\n",
       "      <th>0</th>\n",
       "      <th>1</th>\n",
       "    </tr>\n",
       "    <tr>\n",
       "      <th>left</th>\n",
       "      <th></th>\n",
       "      <th></th>\n",
       "    </tr>\n",
       "  </thead>\n",
       "  <tbody>\n",
       "    <tr>\n",
       "      <th>0</th>\n",
       "      <td>6300</td>\n",
       "      <td>1362</td>\n",
       "    </tr>\n",
       "    <tr>\n",
       "      <th>1</th>\n",
       "      <td>2273</td>\n",
       "      <td>116</td>\n",
       "    </tr>\n",
       "  </tbody>\n",
       "</table>\n",
       "</div>"
      ],
      "text/plain": [
       "work_accident     0     1\n",
       "left                     \n",
       "0              6300  1362\n",
       "1              2273   116"
      ]
     },
     "execution_count": 49,
     "metadata": {},
     "output_type": "execute_result"
    }
   ],
   "source": [
    "#tableau de contingence entre les variables 'left' et 'work_accident'\n",
    "df_lwa = pd.crosstab(bidata['left'], bidata['work_accident'])\n",
    "df_lwa"
   ]
  },
  {
   "cell_type": "code",
   "execution_count": 50,
   "id": "89726a16-3608-4732-9b97-b935244a3e34",
   "metadata": {},
   "outputs": [
    {
     "data": {
      "text/plain": [
       "(241.3614508514171,\n",
       " 1.9854177373977723e-54,\n",
       " 1,\n",
       " array([[6535.30255696, 1126.69744304],\n",
       "        [2037.69744304,  351.30255696]]))"
      ]
     },
     "execution_count": 50,
     "metadata": {},
     "output_type": "execute_result"
    }
   ],
   "source": [
    "stats.chi2_contingency(df_lwa, correction = True)"
   ]
  },
  {
   "cell_type": "markdown",
   "id": "5f0d866b-9925-4c5b-91bf-d82fd0a5c3d8",
   "metadata": {},
   "source": [
    "p_value =  1.9854177373977723e-54 < 5%. Ici on rejete l'hypothèse nulle avec un niveau de confiance de 95%. L'hypothèse alternative H1 est plus probable. On peut donc en déduire que ces deux variables sont corrélées."
   ]
  },
  {
   "cell_type": "code",
   "execution_count": 51,
   "id": "dbb927c2-555a-4178-969a-f12f218f218f",
   "metadata": {},
   "outputs": [
    {
     "data": {
      "text/html": [
       "<div>\n",
       "<style scoped>\n",
       "    .dataframe tbody tr th:only-of-type {\n",
       "        vertical-align: middle;\n",
       "    }\n",
       "\n",
       "    .dataframe tbody tr th {\n",
       "        vertical-align: top;\n",
       "    }\n",
       "\n",
       "    .dataframe thead th {\n",
       "        text-align: right;\n",
       "    }\n",
       "</style>\n",
       "<table border=\"1\" class=\"dataframe\">\n",
       "  <thead>\n",
       "    <tr style=\"text-align: right;\">\n",
       "      <th>promotion_last_5years</th>\n",
       "      <th>0</th>\n",
       "      <th>1</th>\n",
       "    </tr>\n",
       "    <tr>\n",
       "      <th>left</th>\n",
       "      <th></th>\n",
       "      <th></th>\n",
       "    </tr>\n",
       "  </thead>\n",
       "  <tbody>\n",
       "    <tr>\n",
       "      <th>0</th>\n",
       "      <td>7471</td>\n",
       "      <td>191</td>\n",
       "    </tr>\n",
       "    <tr>\n",
       "      <th>1</th>\n",
       "      <td>2378</td>\n",
       "      <td>11</td>\n",
       "    </tr>\n",
       "  </tbody>\n",
       "</table>\n",
       "</div>"
      ],
      "text/plain": [
       "promotion_last_5years     0    1\n",
       "left                            \n",
       "0                      7471  191\n",
       "1                      2378   11"
      ]
     },
     "execution_count": 51,
     "metadata": {},
     "output_type": "execute_result"
    }
   ],
   "source": [
    "#tableau de contingence entre les variables 'left' et 'promotion_last_5years'\n",
    "df_lp = pd.crosstab(bidata['left'], bidata['promotion_last_5years'])\n",
    "df_lp"
   ]
  },
  {
   "cell_type": "code",
   "execution_count": 52,
   "id": "952afa10-3772-4fcc-ad36-11727a93cc1a",
   "metadata": {},
   "outputs": [
    {
     "data": {
      "text/plain": [
       "(37.17230396350546,\n",
       " 1.0813878149068868e-09,\n",
       " 1,\n",
       " array([[7508.01293404,  153.98706596],\n",
       "        [2340.98706596,   48.01293404]]))"
      ]
     },
     "execution_count": 52,
     "metadata": {},
     "output_type": "execute_result"
    }
   ],
   "source": [
    "stats.chi2_contingency(df_lp, correction = True)"
   ]
  },
  {
   "cell_type": "markdown",
   "id": "313e37c0-d88a-4140-8728-5151d3c0f783",
   "metadata": {},
   "source": [
    "p_value = 1.0813878149068868e-09 < 5%. Ici on rejete l'hypothèse nulle avec un niveau de confiance de 95%. L'hypothèse alternative H1 est plus probable. On peut donc en déduire que ces deux variables sont corrélées."
   ]
  },
  {
   "cell_type": "code",
   "execution_count": 53,
   "id": "786557d1",
   "metadata": {},
   "outputs": [
    {
     "data": {
      "text/html": [
       "<div>\n",
       "<style scoped>\n",
       "    .dataframe tbody tr th:only-of-type {\n",
       "        vertical-align: middle;\n",
       "    }\n",
       "\n",
       "    .dataframe tbody tr th {\n",
       "        vertical-align: top;\n",
       "    }\n",
       "\n",
       "    .dataframe thead th {\n",
       "        text-align: right;\n",
       "    }\n",
       "</style>\n",
       "<table border=\"1\" class=\"dataframe\">\n",
       "  <thead>\n",
       "    <tr style=\"text-align: right;\">\n",
       "      <th>job</th>\n",
       "      <th>IT</th>\n",
       "      <th>RandD</th>\n",
       "      <th>accounting</th>\n",
       "      <th>hr</th>\n",
       "      <th>management</th>\n",
       "      <th>marketing</th>\n",
       "      <th>product_mng</th>\n",
       "      <th>sales</th>\n",
       "      <th>support</th>\n",
       "      <th>technical</th>\n",
       "    </tr>\n",
       "    <tr>\n",
       "      <th>left</th>\n",
       "      <th></th>\n",
       "      <th></th>\n",
       "      <th></th>\n",
       "      <th></th>\n",
       "      <th></th>\n",
       "      <th></th>\n",
       "      <th></th>\n",
       "      <th></th>\n",
       "      <th></th>\n",
       "      <th></th>\n",
       "    </tr>\n",
       "  </thead>\n",
       "  <tbody>\n",
       "    <tr>\n",
       "      <th>0</th>\n",
       "      <td>659</td>\n",
       "      <td>434</td>\n",
       "      <td>352</td>\n",
       "      <td>350</td>\n",
       "      <td>372</td>\n",
       "      <td>447</td>\n",
       "      <td>458</td>\n",
       "      <td>2137</td>\n",
       "      <td>1096</td>\n",
       "      <td>1357</td>\n",
       "    </tr>\n",
       "    <tr>\n",
       "      <th>1</th>\n",
       "      <td>193</td>\n",
       "      <td>75</td>\n",
       "      <td>150</td>\n",
       "      <td>144</td>\n",
       "      <td>61</td>\n",
       "      <td>136</td>\n",
       "      <td>128</td>\n",
       "      <td>679</td>\n",
       "      <td>372</td>\n",
       "      <td>451</td>\n",
       "    </tr>\n",
       "  </tbody>\n",
       "</table>\n",
       "</div>"
      ],
      "text/plain": [
       "job    IT  RandD  accounting   hr  management  marketing  product_mng  sales  \\\n",
       "left                                                                           \n",
       "0     659    434         352  350         372        447          458   2137   \n",
       "1     193     75         150  144          61        136          128    679   \n",
       "\n",
       "job   support  technical  \n",
       "left                      \n",
       "0        1096       1357  \n",
       "1         372        451  "
      ]
     },
     "execution_count": 53,
     "metadata": {},
     "output_type": "execute_result"
    }
   ],
   "source": [
    "#tableau de contingence entre les variables 'left' et 'job'\n",
    "df_lj = pd.crosstab(bidata['left'], bidata['job'])\n",
    "df_lj"
   ]
  },
  {
   "cell_type": "code",
   "execution_count": 54,
   "id": "4091810b",
   "metadata": {},
   "outputs": [
    {
     "data": {
      "text/plain": [
       "(68.9793002394624,\n",
       " 2.4132148162218698e-11,\n",
       " 9,\n",
       " array([[ 649.49000099,  388.01691374,  382.68072829,  376.58223062,\n",
       "          330.08118595,  444.42801711,  446.71495374, 2146.671177  ,\n",
       "         1119.07432096, 1378.26047159],\n",
       "        [ 202.50999901,  120.98308626,  119.31927171,  117.41776938,\n",
       "          102.91881405,  138.57198289,  139.28504626,  669.328823  ,\n",
       "          348.92567904,  429.73952841]]))"
      ]
     },
     "execution_count": 54,
     "metadata": {},
     "output_type": "execute_result"
    }
   ],
   "source": [
    "stats.chi2_contingency(df_lj, correction = True)"
   ]
  },
  {
   "cell_type": "markdown",
   "id": "c198e047",
   "metadata": {},
   "source": [
    "p_value = 2.4132148162218698e-11 < 5%. Ici on rejete l'hypothèse nulle avec un niveau de confiance de 95%. L'hypothèse alternative H1 est plus probable. On peut donc en déduire que ces deux variables sont corrélées."
   ]
  },
  {
   "cell_type": "markdown",
   "id": "baccaeca",
   "metadata": {},
   "source": [
    "#### Comparaison de nos variables quantitatives et qualitatives avec la méthode ANOVA\n",
    "\n",
    "Afin de comparer des variables quantitatives et qualitatives entres elles nous allons utiliser la méthode ANOVA.Cette méthode sert à évaluer l'effet d'une ou plusieurs variables explicatives sur une variable réponse. Elle permet de déterminer si les différences observées dans la variable réponse peuvent être attribuées à des différences dans les valeurs des variables explicatives ou sont le résultat d'une variation aléatoire. Cette méthode est souvent utilisée en analyse statistique pour des expériences scientifiques, en marketing pour des tests d'hypothèses sur les produits ou les segments de marché, et en économie pour des études de marché.\n",
    "\n",
    "#### Comment interpréter un tableau ANOVA : \n",
    "\n",
    "Le tableau ANOVA est le résultat final d'une succession de formules de calcul complexes. Il présente trois types de données numériques exploitables :\n",
    "\n",
    "Les degrés de liberté ou ddl.\n",
    "\n",
    "Le résultat noté F.\n",
    "\n",
    "La signification notée p : cette valeur, obtenue grâce aux données ddl et F, constitue le rapport de variance qui confirme ou qui infirme l'hypothèse testée. Si la valeur de p est inférieure à 0,05, l'hypothèse nulle, selon laquelle les moyennes sont égales, peut être vraisemblablement rejetée. C'est-à-dire que les variables qualitatives ont un effet significatif sur la variable quantitative : une moyenne au moins se distingue dans une large mesure au sein de l'échantillon.\n",
    "\n",
    "Nous avons ici pris des variables qu'il nous semblais logique d'étudier ensembles : "
   ]
  },
  {
   "cell_type": "code",
   "execution_count": null,
   "id": "3bb1ff2a",
   "metadata": {},
   "outputs": [],
   "source": [
    "#Tableau méthode anova en fonction de satisfaction_level en corrélation avec job et salary (Tableau fait avec jamovi)\n",
    "imganova1 = Image.open('anova.png')\n",
    "imganova1"
   ]
  },
  {
   "cell_type": "markdown",
   "id": "ab29ead0",
   "metadata": {},
   "source": [
    "Ici nous pouvons constater, que p est supérieur à 0.05 ce qui signifie que le métiers ainsi que le salaire qui lui est attribués à une importance sur la satisfaction des employés."
   ]
  },
  {
   "cell_type": "code",
   "execution_count": null,
   "id": "a7f3de0b",
   "metadata": {},
   "outputs": [],
   "source": [
    "#Tableau méthode anova en fonction de average_monthly_hours en corrélation avec job et salary (Tableau fait avec jamovi)\n",
    "imganova2 = Image.open('anova2.png')\n",
    "imganova2"
   ]
  },
  {
   "cell_type": "markdown",
   "id": "a107d771",
   "metadata": {},
   "source": [
    "Ici nous pouvons constater, que p est largement supérieur à 0.05 nous pouvons donc déduire que le  métier et le salaire qui lui est attribué à un impacte sur le temp travaillé dans l'entreprise par mois. On constate également que le salaire impacte plus que le métiers en lui même."
   ]
  },
  {
   "cell_type": "code",
   "execution_count": null,
   "id": "652a11e0",
   "metadata": {},
   "outputs": [],
   "source": [
    "#Tableau méthode anova en fonction de last_evalutation en corrélation avec job et work accident (Tableau fait avec jamovi)\n",
    "imganova3 = Image.open('anova3.png')\n",
    "imganova3"
   ]
  },
  {
   "cell_type": "markdown",
   "id": "e6c3c666",
   "metadata": {},
   "source": [
    "Ici nous pouvons constater, que p est également supérieur à 0.05 et que par conclusion les accidents de travails en fonction des métiers ont impacté la dernière évaluation de satisfaction dans l'entreprise"
   ]
  },
  {
   "cell_type": "markdown",
   "id": "0f938689-50fa-4a9a-88d7-99320d989590",
   "metadata": {},
   "source": [
    "### B-Représenter graphiquement les relations entre les variables"
   ]
  },
  {
   "cell_type": "markdown",
   "id": "56e62ce2-80dc-45df-898e-69ffd2de1434",
   "metadata": {},
   "source": [
    "Dans cette partie, nous allons representer graphiquement les relations entre les variables que nous jugeons pertinentes pour notre analyse."
   ]
  },
  {
   "cell_type": "code",
   "execution_count": null,
   "id": "db631b54-dd1f-44f4-848e-40e264b78cf5",
   "metadata": {},
   "outputs": [],
   "source": [
    "#Rappelons ici à quoi notre dataframe \"bidata\" ressemble en affichant seulement les 5premières lignes.\n",
    "bidata.head()\n"
   ]
  },
  {
   "cell_type": "code",
   "execution_count": null,
   "id": "dfc23410-a18d-45ef-86ca-68ea23611858",
   "metadata": {},
   "outputs": [],
   "source": [
    "#tableau de contingence entre \"number_project\" et \"time_spend_company\"\n",
    "df_nt= pd.crosstab(bidata.number_project, bidata.time_spend_company)\n",
    "df_nt"
   ]
  },
  {
   "cell_type": "code",
   "execution_count": null,
   "id": "ebd87c20",
   "metadata": {},
   "outputs": [],
   "source": []
  },
  {
   "cell_type": "code",
   "execution_count": null,
   "id": "46d117ae-86bb-4d2e-9d9f-de3a0727aca2",
   "metadata": {},
   "outputs": [],
   "source": [
    "#tableau de contingence entre \"salary\" et \"time_spend_company\"\n",
    "df_st= pd.crosstab(bidata.salary, bidata.time_spend_company)\n",
    "df_st"
   ]
  },
  {
   "cell_type": "code",
   "execution_count": null,
   "id": "d1df9b48-1d37-40f7-9877-6bf2a2c5b07a",
   "metadata": {},
   "outputs": [],
   "source": [
    "#tableau de contingence entre \"satisfaction_level\" et \"time_spend_company\"\n",
    "df_slt= pd.crosstab(bidata.satisfaction_level, bidata.time_spend_company)\n",
    "df_slt"
   ]
  },
  {
   "cell_type": "code",
   "execution_count": null,
   "id": "a1d7e42e",
   "metadata": {},
   "outputs": [],
   "source": [
    "df_st.plot(kind='bar')\n",
    "plt.title(\"Le nombre de projet en fonction du temps passé dans la companie\")\n",
    "plt.xlabel('satisfaction_level', color = 'blue')\n",
    "plt.ylabel('effectif', color = 'blue')\n",
    "plt.show()"
   ]
  },
  {
   "cell_type": "code",
   "execution_count": null,
   "id": "e4b7840f-2def-4312-a5a5-796d66d28fcf",
   "metadata": {
    "scrolled": true
   },
   "outputs": [],
   "source": [
    "#tableau de contingence entre \"work_accident\" et \"job\"\n",
    "df_wj= pd.crosstab(bidata.work_accident, bidata.job)\n",
    "df_wj"
   ]
  },
  {
   "cell_type": "code",
   "execution_count": null,
   "id": "687e7638",
   "metadata": {},
   "outputs": [],
   "source": [
    "df_st.plot(kind='bar')\n",
    "plt.title(\"Le nombre de projet en fonction du temps passé dans la companie\")\n",
    "plt.xlabel('job', color = 'blue')\n",
    "plt.ylabel('work_accident', color = 'blue')\n",
    "plt.show()"
   ]
  },
  {
   "cell_type": "code",
   "execution_count": null,
   "id": "b15d6487-25bc-4355-8485-8e1b3a2db49f",
   "metadata": {},
   "outputs": [],
   "source": [
    "#tableau de contingence entre \"promotion_last_5years\" et \"time_spend_company\"\n",
    "df_pt= pd.crosstab(bidata.promotion_last_5years, bidata.time_spend_company)\n",
    "df_pt"
   ]
  },
  {
   "cell_type": "code",
   "execution_count": null,
   "id": "681d351a",
   "metadata": {},
   "outputs": [],
   "source": []
  },
  {
   "cell_type": "code",
   "execution_count": null,
   "id": "1e5015a7-6a05-4a42-ab79-3a25f67201bd",
   "metadata": {},
   "outputs": [],
   "source": [
    "#tableau de contingence entre \"salary\" et \"job\"\n",
    "df_sj= pd.crosstab(bidata.salary, bidata.job)\n",
    "df_sj"
   ]
  },
  {
   "cell_type": "code",
   "execution_count": null,
   "id": "7d117373",
   "metadata": {},
   "outputs": [],
   "source": []
  },
  {
   "cell_type": "markdown",
   "id": "33e09d6b",
   "metadata": {},
   "source": [
    "# III-Chapitre 3 : Modélisation des données\n",
    "\n",
    "Maintenant que l'intrerprétation de nos données est plus claire nous allons les utiliser afin de répondre à la problématique : \"Pourquoi les employés quittent-ils l'entreprise ?\"\n",
    "\n",
    "### A-Quel est le profil des collaborateurs qui vont quitter l'entreprise ?\n",
    "\n",
    "Afin de determiner le profil des employés qui partent de l'entreprise, nous allons crée un tableau de bord sur power BI avec toutes les variables que nous allons comparer à la variable \"left\". Voila le tableau de bord Power bi que nous obtenons :\n",
    "\n"
   ]
  },
  {
   "cell_type": "code",
   "execution_count": null,
   "id": "9db03aac",
   "metadata": {},
   "outputs": [],
   "source": [
    "imdashboardglo = Image.open('Dashboard effectif left.png')\n",
    "imdashboardglo"
   ]
  },
  {
   "cell_type": "markdown",
   "id": "40dc9380",
   "metadata": {},
   "source": [
    "Afin de rendre le profil des employés quittant l'entreprise plus claire nous avons réaliser un persona sur canva, le voici :"
   ]
  },
  {
   "cell_type": "markdown",
   "id": "aa2388a2",
   "metadata": {},
   "source": [
    "Ensuite pour classer des différents critères qui jouent sur le dépard des collaborateurs, nous avons repris la heatmap crée un peu plus haut."
   ]
  },
  {
   "cell_type": "code",
   "execution_count": null,
   "id": "3c2085e3",
   "metadata": {},
   "outputs": [],
   "source": [
    "sns.heatmap(corr_matrix, annot=True, cmap='BuPu')\n",
    "print(sns.heatmap)"
   ]
  },
  {
   "cell_type": "markdown",
   "id": "97803184",
   "metadata": {},
   "source": [
    "Maintenant nous pouvons faire notre classement : \n",
    "\n",
    "- time_spend_company (0.27)\n",
    "- average_montly_hours\n",
    "- number_project\n",
    "- promotion_last_5years\n",
    "- job\n",
    "- salary\n",
    "- work_accident (-0,16)"
   ]
  },
  {
   "cell_type": "code",
   "execution_count": null,
   "id": "2761394d",
   "metadata": {},
   "outputs": [],
   "source": [
    "impersona = Image.open('persona.png')\n",
    "impersona"
   ]
  },
  {
   "cell_type": "markdown",
   "id": "32f461a1",
   "metadata": {},
   "source": [
    "### B- Quelle est la différence entre une régression linéaire et logistique\n",
    "\n",
    "La régression logistique et la régression linéaire sont deux méthodes différentes de modélisation statistique utilisées pour prédire des valeurs continues ou discrètes.\n",
    "\n",
    "La régression linéaire est une méthode de prédiction qui suppose une relation linéaire entre les variables indépendantes et la variable dépendante. Elle est utilisée pour prédire une variable continue en utilisant une fonction linéaire.\n",
    "\n",
    "La régression logistique, d'autre part, est une méthode de classification utilisée pour prédire une variable dépendante binaire (par exemple, oui/non ou vrai/faux). La régression logistique utilise une fonction logistique pour modéliser la probabilité d'appartenance à une classe donnée. Cette fonction logistique transforme les prédictions continues de la régression linéaire en une probabilité comprise entre 0 et 1.\n",
    "\n",
    "En résumé, la régression linéaire est utilisée pour les prédictions continues, tandis que la régression logistique est utilisée pour les prédictions de variables binaires."
   ]
  },
  {
   "cell_type": "markdown",
   "id": "a093e5bf",
   "metadata": {},
   "source": [
    "### C-Pourquoi les collaborateurs quittent l'entreprise ?\n",
    "\n",
    "Il est maintenant essentiel de déterminer qu'elles sont les variables qui sont le plus liés aux départs des salariés, afin de définir une stratégie pour les garder. Nous allons ici utiliser une fonction de régréssion logistique. \n",
    "\n",
    "Nous allons donc l'utiliser dans notre cas afin de hiérarchiser nos variables et savoir lesquelles sont les plus amenées à être les causes des départs.\n",
    "\n",
    "Voici la régréssion logistique de notre dataframe : \n",
    "\n",
    "Pour pouvoir faire notre regression logistique, nous devons d'abord importer les packages que nous allons utiliser, puis définir les features et les cibles"
   ]
  },
  {
   "cell_type": "code",
   "execution_count": null,
   "id": "023bf358",
   "metadata": {},
   "outputs": [],
   "source": [
    "from sklearn.model_selection import train_test_split\n",
    "from sklearn.linear_model import LogisticRegression\n",
    "from sklearn.metrics import accuracy_score\n",
    "from sklearn.model_selection import GridSearchCV"
   ]
  },
  {
   "cell_type": "code",
   "execution_count": null,
   "id": "d758c5d4",
   "metadata": {
    "scrolled": true
   },
   "outputs": [],
   "source": [
    "newdata = bidata[bidata.columns[1:-4]]\n",
    "newdata.head()"
   ]
  },
  {
   "cell_type": "code",
   "execution_count": null,
   "id": "0aa5b01c",
   "metadata": {},
   "outputs": [],
   "source": [
    "#Pour que cela marche, nous devons changer les \",\" en \".\"\n",
    "newdata[\"satisfaction_level\"] = newdata[\"satisfaction_level\"].str.replace(\",\", \".\")\n",
    "newdata[\"satisfaction_level\"] = newdata[\"satisfaction_level\"].astype(float)\n",
    "\n",
    "newdata[\"last_evaluation\"]    = newdata[\"last_evaluation\"].str.replace(\",\", \".\")\n",
    "newdata[\"last_evaluation\"]    = newdata[\"last_evaluation\"].astype(float)"
   ]
  },
  {
   "cell_type": "code",
   "execution_count": null,
   "id": "38c2a7fb",
   "metadata": {},
   "outputs": [],
   "source": [
    "newdata.head()"
   ]
  },
  {
   "cell_type": "code",
   "execution_count": null,
   "id": "b2c662a4",
   "metadata": {},
   "outputs": [],
   "source": [
    "#nos features seront les X, et notre cible est y = \"left\" car c'est la variable à expliquer\n",
    "X = newdata[[\"satisfaction_level\",\"last_evaluation\",\"number_project\",\"average_montly_hours\",\"time_spend_company\",\"work_accident\",\"promotion_last_5years\"]]\n",
    "y = newdata.left"
   ]
  },
  {
   "cell_type": "markdown",
   "id": "3b7b8731",
   "metadata": {},
   "source": [
    "Une fois cela fait, nous pouvons faire notre regression logistique \n",
    "(Pour défnir les paramètres, nous nous sommes aidés de : \n",
    "- https://scikit-learn.org/stable/modules/generated/sklearn.linear_model.LogisticRegression.html\n",
    "- https://scikit-learn.org/stable/modules/generated/sklearn.model_selection.GridSearchCV.html )\n"
   ]
  },
  {
   "cell_type": "code",
   "execution_count": null,
   "id": "72d53d59",
   "metadata": {},
   "outputs": [],
   "source": [
    "logistic = LogisticRegression()\n",
    "X_train, X_test, y_train, y_test = train_test_split(X, y, test_size = 0.2, random_state = 0)\n",
    "#Définie les hyperparamètres à régler \n",
    "param_grid = {'C': [0.001, 0.01, 0.1, 1, 10, 100, 1000],\n",
    "              'penalty': ['l1', 'l2'],\n",
    "              'max_iter' : [100, 200, 500, 1000],\n",
    "              'multi_class' : ['auto', 'ovr', 'multinomial']}\n",
    "\n",
    "#Créer l'objet de recherche de grille.\n",
    "grid_search = GridSearchCV(logistic, param_grid)\n",
    "\n",
    "#Ajuster la recherche de grille aux données.\n",
    "grid_search.fit(X_train, y_train)\n",
    "\n",
    "# Print le meilleur paramètre et le meilleur score\n",
    "print(\"Best parameters: \", grid_search.best_params_)\n",
    "print(\"Best score: \", grid_search.best_score_)"
   ]
  },
  {
   "cell_type": "code",
   "execution_count": null,
   "id": "38fe1cce",
   "metadata": {},
   "outputs": [],
   "source": [
    "best_settings = grid_search.best_params_\n",
    "print(best_settings)"
   ]
  },
  {
   "cell_type": "code",
   "execution_count": null,
   "id": "a8d2777e",
   "metadata": {},
   "outputs": [],
   "source": [
    "## Créer un modèle de régression logistique et entrainer le modèle sur les données d'entraînement\n",
    "logistic = LogisticRegression(C = best_settings[\"C\"], penalty = best_settings[\"penalty\"], max_iter = best_settings[\"max_iter\"], multi_class = best_settings[\"multi_class\"])\n",
    "logistic.fit(X_train, y_train)"
   ]
  },
  {
   "cell_type": "code",
   "execution_count": null,
   "id": "ff4877c1",
   "metadata": {},
   "outputs": [],
   "source": [
    "# Afficher les coefficients\n",
    "coef = logistic.coef_\n",
    "print(coef)"
   ]
  },
  {
   "cell_type": "code",
   "execution_count": null,
   "id": "0174c17f",
   "metadata": {},
   "outputs": [],
   "source": [
    "preds = logistic.predict(X_test)\n",
    "accuracy_score(preds, y_test)"
   ]
  },
  {
   "cell_type": "markdown",
   "id": "98043bd7",
   "metadata": {},
   "source": [
    "Le score de précision de 0,77 dans la régression logistique est une mesure de la qualité des prédictions faites par le modèle. Il représente le pourcentage de prédictions correctes par rapport au nombre total de prédictions. Plus le score de précision est élevé, plus les prédictions du modèle sont précises. \n",
    "Une valeur de 0,77 signifie que 77% des prédictions faites par notre modèle sont correctes, ce qui peut être considéré comme une précision relativement élevée.\n",
    "\n",
    "Cependant, il est important de noter que le score de précision n'est qu'un indicateur de la qualité du modèle et ne donne pas une vue complète de son ajustement aux données. Il peut être nécessaire de considérer d'autres mesures telles que le score R^2 ou les erreurs type pour évaluer complètement le modèle."
   ]
  },
  {
   "cell_type": "markdown",
   "id": "45101ee1",
   "metadata": {},
   "source": [
    "### D-Estimer la validité de votre modèle (R², p-value,...)\n",
    "\n",
    "Il existe plusieurs mesures pour évaluer la validité d'un modèle de régression. Certaines des mesures les plus couramment utilisées comprennent :\n",
    "\n",
    "R² (coefficient de détermination) : Cette mesure quantifie la proportion de la variance totale de la variable dépendante qui est expliquée par le modèle. Plus R² est proche de 1, plus le modèle explique bien les variations de la variable dépendante.\n",
    "\n",
    "Erreur quadratique moyenne (MSE) : Cette mesure quantifie la moyenne des erreurs de prédiction pour chaque point de données. Plus MSE est proche de zéro, plus le modèle est précis.\n",
    "\n",
    "Test statistique F : Ce test statistique vérifie si les coefficients de régression sont significativement différents de zéro. Si le test est statistiquement significatif, cela signifie que le modèle a un effet significatif sur la variable dépendante.\n",
    "\n",
    "Valeur p : Ce terme fait référence à la significativité statistique de chaque coefficient de régression. Si la valeur p est inférieure à un niveau de significativité (généralement 0,05), nous pouvons rejeter l'hypothèse nulle selon laquelle le coefficient est égal à zéro.\n",
    "\n",
    "Courbe ROC (Receiver Operating Characteristic) : Cette courbe est utilisée pour évaluer les modèles de classification binaire (tels que la régression logistique). Elle quantifie la relation entre le taux de vrais positifs et le taux de faux positifs pour différents seuils de décision.\n",
    "\n",
    "Il est important de noter que ces mesures ne peuvent pas être utilisées seules pour évaluer la validité d'un modèle. Il est souvent nécessaire de considérer un certain nombre de mesures pour obtenir une image complète de la qualité du modèle.\n",
    "\n",
    "Le R^2 (coefficient de détermination) est un indicateur statistique utilisé pour mesurer la qualité de l'ajustement d'un modèle de régression à des données. Il représente la proportion de la variation totale de la variable cible qui peut être expliquée par les prédictions du modèle. Plus précisément, le R^2 varie entre 0 et 1, où un score de 1 indique un ajustement parfait et un score de 0 indique que le modèle ne peut pas expliquer la variation de la variable cible.\n",
    "\n",
    "En général, plus le score R^2 est élevé, meilleur est l'ajustement du modèle aux données. Toutefois, un score R^2 élevé ne garantit pas nécessairement que le modèle est généralisable à de nouvelles données ou qu'il prévoit avec une grande précision.\n",
    "\n",
    "Il se peut que le score R^2 soit négatif. Cela indique que le modèle de régression est en fait moins performant que les prédictions basées sur la moyenne simple de la variable cible. En d'autres termes, il signifie que les prédictions du modèle sont moins précises que les prédictions basées sur la moyenne de la variable cible.\n"
   ]
  },
  {
   "cell_type": "code",
   "execution_count": null,
   "id": "509b43d1",
   "metadata": {},
   "outputs": [],
   "source": [
    "#calcule de la mesure R2 score, ou R^2\n",
    "from sklearn.metrics import r2_score"
   ]
  },
  {
   "cell_type": "code",
   "execution_count": null,
   "id": "43f23be7",
   "metadata": {},
   "outputs": [],
   "source": [
    "r2_score(y_test, preds)"
   ]
  },
  {
   "cell_type": "markdown",
   "id": "455d6e36",
   "metadata": {},
   "source": [
    "Le score de précision de 0,77 est une mesure de la proportion de prédictions correctes faites par notre modèle de régression logistique. Une valeur de 0,77 signifie que 77% des prédictions faites par notre modèle sont correctes, ce qui peut être considéré comme une précision relativement élevée.\n",
    "\n",
    "Cependant, le score R^2 de -0,25 est une mesure de l'ajustement de votre modèle de régression logistique. Un score R^2 négatif indique que le modèle est peu adapté aux données et est pire que de simplement prédire la valeur moyenne de la variable cible.\n",
    "\n",
    "Ainsi, bien que le score de précision de 0,77 puisse indiquer que le modèle fait des prédictions relativement précises, le score R^2 négatif suggère que le modèle de régression logistique peut ne pas être le meilleur modèle pour ajuster les données. Nous pouvons donc considérer d'essayer d'autres modèles ou d'ajuster l'ensemble de caractéristiques pour voir si nous pouvons améliorer le score R^2 et obtenir un meilleur ajustement global du modèle aux données."
   ]
  },
  {
   "cell_type": "markdown",
   "id": "30e4318e",
   "metadata": {},
   "source": [
    "# IV- Chapitre 4 : Tableau de bord et axes de stratégies\n",
    "\n",
    "Afin que nos données soit facilement interprétable par le client, nous avons élaborer un nouveau tableau de bord power BI avec les facteurs principaux mis en évidence."
   ]
  },
  {
   "cell_type": "code",
   "execution_count": null,
   "id": "510e16d0",
   "metadata": {},
   "outputs": [],
   "source": [
    "Dashboard1 = Image.open('Dashboard1.pdf')\n",
    "Dashboard1"
   ]
  },
  {
   "cell_type": "markdown",
   "id": "3b4ce08c",
   "metadata": {},
   "source": [
    "Voici les différentes stratégies que nous proposons : \n",
    "\n",
    "    - Nous constatons que les employés quittent l'entreprise généralement au bout de 3 ans et qu'ils n'ont jamais eu de promotions. C'est pourquoi il faudrait peut être au bout de la 2 ème année donner une promotions obligatoire aux employés. \n",
    "    \n",
    "    - Les employés qui quittent l'entreprise travaillent en général 208h par mois. La réevaluation du temps de travail peut être une bonne alternative comme par exemple la mise en place de \"Nice friday\"(jour imposé dans le mois ou les employés sont obligé de finir plus tôt)\n",
    "    \n",
    "    "
   ]
  },
  {
   "cell_type": "code",
   "execution_count": null,
   "id": "dfd1ed78",
   "metadata": {},
   "outputs": [],
   "source": []
  }
 ],
 "metadata": {
  "kernelspec": {
   "display_name": "Python 3 (ipykernel)",
   "language": "python",
   "name": "python3"
  },
  "language_info": {
   "codemirror_mode": {
    "name": "ipython",
    "version": 3
   },
   "file_extension": ".py",
   "mimetype": "text/x-python",
   "name": "python",
   "nbconvert_exporter": "python",
   "pygments_lexer": "ipython3",
   "version": "3.9.13"
  }
 },
 "nbformat": 4,
 "nbformat_minor": 5
}
